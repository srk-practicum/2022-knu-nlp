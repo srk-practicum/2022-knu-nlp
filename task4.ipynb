{
 "cells": [
  {
   "cell_type": "code",
   "execution_count": 78,
   "id": "6d7a5ca2",
   "metadata": {},
   "outputs": [],
   "source": [
    "import pandas as pd\n",
    "from nltk.corpus import stopwords\n",
    "from nltk.tokenize import word_tokenize\n",
    "from nltk.stem import PorterStemmer, WordNetLemmatizer\n",
    "\n",
    "import re, string\n",
    "import numpy as np\n",
    "\n",
    "import tensorflow as tf\n",
    "from tensorflow import keras\n",
    "from tensorflow.keras import layers\n",
    "\n",
    "import matplotlib.pyplot as plt"
   ]
  },
  {
   "cell_type": "code",
   "execution_count": 79,
   "id": "a7f32e4a",
   "metadata": {},
   "outputs": [],
   "source": [
    "# adding the training urls\n",
    "\n",
    "train_url = 'https://drive.google.com/file/d/1F1fDHnvDMEopHYaulMQYNy1SCpEenoFr/view?usp=sharing'\n",
    "train_url_ = 'https://drive.google.com/uc?id=' + train_url.split('/')[-2]"
   ]
  },
  {
   "cell_type": "code",
   "execution_count": 80,
   "id": "53ac2c34",
   "metadata": {},
   "outputs": [],
   "source": [
    "# adding the testing urls\n",
    "test_url = 'https://drive.google.com/file/d/1hxMss3XPtA4x3iOcqUjPkYqRKahOIo2B/view?usp=sharing'\n",
    "test_url_ = 'https://drive.google.com/uc?id=' + test_url.split('/')[-2]"
   ]
  },
  {
   "cell_type": "code",
   "execution_count": 81,
   "id": "de62e134",
   "metadata": {},
   "outputs": [
    {
     "name": "stdout",
     "output_type": "stream",
     "text": [
      "my training link: https://drive.google.com/uc?id=1F1fDHnvDMEopHYaulMQYNy1SCpEenoFr\n",
      "my testing link: https://drive.google.com/uc?id=1hxMss3XPtA4x3iOcqUjPkYqRKahOIo2B\n"
     ]
    }
   ],
   "source": [
    "print('my training link:', train_url_)\n",
    "print('my testing link:', test_url_)"
   ]
  },
  {
   "cell_type": "code",
   "execution_count": 82,
   "id": "1616a29c",
   "metadata": {},
   "outputs": [
    {
     "name": "stdout",
     "output_type": "stream",
     "text": [
      "            0                                                  1\n",
      "0  __label__0  study interventions are recombinant CD40-ligan...\n",
      "1  __label__0  study interventions are Liposomal doxorubicin ...\n",
      "2  __label__0  study interventions are BI 836909 . multiple m...\n",
      "3  __label__0  study interventions are Immunoglobulins . recu...\n",
      "4  __label__0  study interventions are Paclitaxel . stage ova...\n"
     ]
    }
   ],
   "source": [
    "# reading the files\n",
    "\n",
    "df_train = pd.read_csv(train_url_, header= None) # got the dataframe\n",
    "df_test = pd.read_csv(test_url_, header= None)\n",
    "print(df_train.head())"
   ]
  },
  {
   "cell_type": "code",
   "execution_count": 83,
   "id": "3e8fac99",
   "metadata": {},
   "outputs": [
    {
     "name": "stdout",
     "output_type": "stream",
     "text": [
      "<class 'pandas.core.series.Series'> \n",
      " 0    study interventions are recombinant CD40-ligan...\n",
      "1    study interventions are Liposomal doxorubicin ...\n",
      "2    study interventions are BI 836909 . multiple m...\n",
      "3    study interventions are Immunoglobulins . recu...\n",
      "4    study interventions are Paclitaxel . stage ova...\n",
      "Name: 1, dtype: object\n"
     ]
    }
   ],
   "source": [
    "# now we are workking with the second column (main data)\n",
    "\n",
    "train_data_set = df_train[1]\n",
    "test_data_set = df_test[1]\n",
    "\n",
    "print(type(train_data_set),'\\n', train_data_set[:5])"
   ]
  },
  {
   "cell_type": "code",
   "execution_count": 84,
   "id": "66695b2c",
   "metadata": {},
   "outputs": [
    {
     "name": "stdout",
     "output_type": "stream",
     "text": [
      "type,length of training labels: <class 'numpy.ndarray'> 9907 [0. 0. 0. ... 1. 1. 1.]\n"
     ]
    }
   ],
   "source": [
    "# working with labels\n",
    "\n",
    "train_label = []\n",
    "test_label = []\n",
    "\n",
    "# in order to the program to distinguish labels\n",
    "\n",
    "for label in list(df_train[0]):\n",
    "    if label == '__label__0':\n",
    "        train_label.append(0)\n",
    "    if label == '__label__1':\n",
    "        train_label.append(1)\n",
    "\n",
    "for label_test in list(df_test[0]):\n",
    "    if label_test == '__label__0':\n",
    "        test_label.append(0)\n",
    "    if label_test == '__label__1':\n",
    "        test_label.append(1)\n",
    "\n",
    "# print(type(train_label), len(train_label))\n",
    "# print(type(test_label))\n",
    "\n",
    "y_train = np.asarray(train_label).astype(\"float32\")\n",
    "y_test = np.asarray(test_label).astype(\"float32\")\n",
    "\n",
    "print('type,length of training labels:', type(y_train),len(y_train), y_train)"
   ]
  },
  {
   "cell_type": "code",
   "execution_count": 85,
   "id": "214cdd5d",
   "metadata": {},
   "outputs": [
    {
     "name": "stdout",
     "output_type": "stream",
     "text": [
      "<class 'pandas.core.series.Series'> \n",
      " 0    study interventions recombinant cd ligand mela...\n",
      "1    study interventions liposomal doxorubicin colo...\n",
      "2    study interventions bi multiple myeloma diagno...\n",
      "3    study interventions immunoglobulins recurrent ...\n",
      "4    study interventions paclitaxel stage ovarian c...\n",
      "Name: 1, dtype: object\n"
     ]
    }
   ],
   "source": [
    "# preprocessing text \n",
    "\n",
    "stop_words = stopwords.words(\"english\")\n",
    "\n",
    "def cleaning(data):\n",
    "    \n",
    "    filtered = re.sub(\"@\\S+\", \" \", data)  # remove mentions\n",
    "    filtered = re.sub(\"https*\\S+\", \" \", filtered) # remove url\n",
    "    filtered = re.sub(\"#\\S+\", \" \", filtered) # remove hashtags\n",
    "    filtered = re.sub(\"\\d\", \" \", filtered) # remove all numbers\n",
    "    filtered = re.sub('[%s]' % re.escape(string.punctuation), ' ', filtered)  # remove punctuation\n",
    "    filtered = re.sub('\\n', ' ', filtered) # remove new lines       \n",
    "    filtered = re.sub('\\s{2,}',' ', filtered) # remove extra spaces\n",
    "    \n",
    "    filtered = filtered.lower()\n",
    "    \n",
    "    filtered = ' '.join([word for word in filtered.split(' ') if word not in stop_words])\n",
    "    \n",
    "    return filtered\n",
    "\n",
    "cleaned_train = train_data_set.apply(cleaning)\n",
    "cleaned_test = test_data_set.apply(cleaning)\n",
    " \n",
    "print(type(cleaned_train), '\\n', cleaned_train[:5])"
   ]
  },
  {
   "cell_type": "code",
   "execution_count": 86,
   "id": "85d8ad1f",
   "metadata": {},
   "outputs": [],
   "source": [
    "train_in_string = ''\n",
    "for i in cleaned_train:\n",
    "    train_in_string += (' ' + i)\n",
    "    \n",
    "test_in_string = ''\n",
    "for j in cleaned_test:\n",
    "    test_in_string += (' ' + j)\n",
    "    \n",
    "all_data = train_in_string + test_in_string"
   ]
  },
  {
   "cell_type": "code",
   "execution_count": 87,
   "id": "6cb32666",
   "metadata": {},
   "outputs": [
    {
     "name": "stdout",
     "output_type": "stream",
     "text": [
      "x_train_data type: <class 'pandas.core.series.Series'>\n",
      "x_test_data type: <class 'pandas.core.series.Series'>\n"
     ]
    }
   ],
   "source": [
    "\n",
    "\n",
    "tokenization = word_tokenize(all_data)\n",
    "lemmatizer = WordNetLemmatizer()\n",
    "lemmatized_all_data = [lemmatizer.lemmatize(t) for t in tokenization]\n",
    "dictionary = list(set(lemmatized_all_data))\n",
    "\n",
    "# func is showing the dataframe of word indexes\n",
    "def lemmatization(data):\n",
    "\n",
    "    data = data.lower()\n",
    "    tokens = word_tokenize(data)\n",
    "    lemmatized = [lemmatizer.lemmatize(l) for l in tokens]\n",
    "    res = [dictionary.index(i) for i in lemmatized]\n",
    "    return res\n",
    "    \n",
    "\n",
    "x_train_data = cleaned_train.apply(lemmatization)\n",
    "x_test_data = cleaned_test.apply(lemmatization)\n",
    "\n",
    "print('x_train_data type:', type(x_train_data))\n",
    "print('x_test_data type:', type(x_test_data))\n",
    "\n",
    "# print(type(x_test_data), len(x_test_data))"
   ]
  },
  {
   "cell_type": "code",
   "execution_count": 88,
   "id": "a7e1875f",
   "metadata": {},
   "outputs": [],
   "source": [
    "class TransformerBlock(layers.Layer):\n",
    "    def __init__(self, embed_dim, num_heads, ff_dim, rate=0.1):\n",
    "        super(TransformerBlock, self).__init__()\n",
    "        self.att = layers.MultiHeadAttention(num_heads=num_heads, key_dim=embed_dim)\n",
    "        self.ffn = keras.Sequential(\n",
    "            [layers.Dense(ff_dim, activation=\"relu\"), layers.Dense(embed_dim),]\n",
    "        )\n",
    "        self.layernorm1 = layers.LayerNormalization(epsilon=1e-6)\n",
    "        self.layernorm2 = layers.LayerNormalization(epsilon=1e-6)\n",
    "        self.dropout1 = layers.Dropout(rate)\n",
    "        self.dropout2 = layers.Dropout(rate)\n",
    "\n",
    "    def call(self, inputs, training):\n",
    "        attn_output = self.att(inputs, inputs)\n",
    "        attn_output = self.dropout1(attn_output, training=training)\n",
    "        out1 = self.layernorm1(inputs + attn_output)\n",
    "        ffn_output = self.ffn(out1)\n",
    "        ffn_output = self.dropout2(ffn_output, training=training)\n",
    "        return self.layernorm2(out1 + ffn_output)\n"
   ]
  },
  {
   "cell_type": "code",
   "execution_count": 89,
   "id": "a0b0db68",
   "metadata": {},
   "outputs": [],
   "source": [
    "\n",
    "class TokenAndPositionEmbedding(layers.Layer):\n",
    "    def __init__(self, maxlen, vocab_size, embed_dim):\n",
    "        super(TokenAndPositionEmbedding, self).__init__()\n",
    "        self.token_emb = layers.Embedding(input_dim=vocab_size, output_dim=embed_dim)\n",
    "        self.pos_emb = layers.Embedding(input_dim=maxlen, output_dim=embed_dim)\n",
    "\n",
    "    def call(self, x):\n",
    "        maxlen = tf.shape(x)[-1]\n",
    "        positions = tf.range(start=0, limit=maxlen, delta=1)\n",
    "        positions = self.pos_emb(positions)\n",
    "        x = self.token_emb(x)\n",
    "        return x + positions\n"
   ]
  },
  {
   "cell_type": "code",
   "execution_count": 90,
   "id": "879cf2b2",
   "metadata": {},
   "outputs": [
    {
     "name": "stdout",
     "output_type": "stream",
     "text": [
      "9907 Training sequences\n",
      "1000 Validation sequences\n"
     ]
    }
   ],
   "source": [
    "vocab_size = 10000 # Only consider the top 20k words\n",
    "maxlen = 50  # Only consider the first 200 words of each movie review\n",
    "\n",
    "x_train = keras.preprocessing.sequence.pad_sequences(x_train_data, maxlen=maxlen)\n",
    "x_test = keras.preprocessing.sequence.pad_sequences(x_test_data, maxlen=maxlen)\n",
    "\n",
    "print(len(x_train), \"Training sequences\")\n",
    "print(len(x_test), \"Validation sequences\")"
   ]
  },
  {
   "cell_type": "code",
   "execution_count": 91,
   "id": "56682e32",
   "metadata": {},
   "outputs": [
    {
     "name": "stdout",
     "output_type": "stream",
     "text": [
      "[   0    0    0    0    0    0    0    0    0    0    0    0    0    0\n",
      "    0    0    0    0    0    0    0    0    0    0    0    0    0    0\n",
      "    0    0    0    0    0    0    0    0   18 4201 1811 2429 6614 4460\n",
      " 5890 1393 4215 4501 2674 2188 2117  925]\n"
     ]
    }
   ],
   "source": [
    "embed_dim = 64  # Embedding size for each token\n",
    "num_heads = 4 # Number of attention heads\n",
    "ff_dim = 64  # Hidden layer size in feed forward network inside transformer\n",
    "\n",
    "inputs = layers.Input(shape=(maxlen,))\n",
    "embedding_layer = TokenAndPositionEmbedding(maxlen, vocab_size, embed_dim)\n",
    "x = embedding_layer(inputs)\n",
    "transformer_block = TransformerBlock(embed_dim, num_heads, ff_dim)\n",
    "x = transformer_block(x)\n",
    "x = layers.GlobalAveragePooling1D()(x)\n",
    "x = layers.Dropout(0.1)(x)\n",
    "x = layers.Dense(50, activation=\"relu\")(x)\n",
    "x = layers.Dropout(0.1)(x)\n",
    "outputs = layers.Dense(2, activation=\"softmax\")(x)\n",
    "\n",
    "model = keras.Model(inputs=inputs, outputs=outputs)\n",
    "\n",
    "\n",
    "print(x_train[0])"
   ]
  },
  {
   "cell_type": "code",
   "execution_count": 92,
   "id": "ddf1d7f5",
   "metadata": {},
   "outputs": [
    {
     "name": "stdout",
     "output_type": "stream",
     "text": [
      "9907\n",
      "Epoch 1/6\n",
      "140/140 [==============================] - 7s 43ms/step - loss: 0.6191 - accuracy: 0.6382 - val_loss: 0.2311 - val_accuracy: 0.9374\n",
      "Epoch 2/6\n",
      "140/140 [==============================] - 6s 42ms/step - loss: 0.4226 - accuracy: 0.8192 - val_loss: 0.4148 - val_accuracy: 0.8507\n",
      "Epoch 3/6\n",
      "140/140 [==============================] - 6s 42ms/step - loss: 0.3341 - accuracy: 0.8656 - val_loss: 0.4229 - val_accuracy: 0.7952\n",
      "Epoch 4/6\n",
      "140/140 [==============================] - 6s 42ms/step - loss: 0.2803 - accuracy: 0.8909 - val_loss: 0.5324 - val_accuracy: 0.7578\n",
      "Epoch 5/6\n",
      "140/140 [==============================] - 6s 42ms/step - loss: 0.2409 - accuracy: 0.9124 - val_loss: 0.4203 - val_accuracy: 0.8264\n",
      "Epoch 6/6\n",
      "140/140 [==============================] - 6s 42ms/step - loss: 0.1964 - accuracy: 0.9250 - val_loss: 0.6356 - val_accuracy: 0.7689\n"
     ]
    }
   ],
   "source": [
    "model.compile(optimizer=\"adam\", loss=\"sparse_categorical_crossentropy\", metrics=[\"accuracy\"])\n",
    "\n",
    "print(len(y_train))\n",
    "history = model.fit(\n",
    "    x_train, y_train, batch_size=64, epochs=6, validation_split = 0.1, shuffle = True\n",
    ")\n",
    "\n"
   ]
  },
  {
   "cell_type": "code",
   "execution_count": 93,
   "id": "b84bbf45",
   "metadata": {},
   "outputs": [
    {
     "name": "stdout",
     "output_type": "stream",
     "text": [
      "Model: \"model_4\"\n",
      "_________________________________________________________________\n",
      " Layer (type)                Output Shape              Param #   \n",
      "=================================================================\n",
      " input_5 (InputLayer)        [(None, 50)]              0         \n",
      "                                                                 \n",
      " token_and_position_embeddin  (None, 50, 64)           643200    \n",
      " g_4 (TokenAndPositionEmbedd                                     \n",
      " ing)                                                            \n",
      "                                                                 \n",
      " transformer_block_4 (Transf  (None, 50, 64)           74944     \n",
      " ormerBlock)                                                     \n",
      "                                                                 \n",
      " global_average_pooling1d_4   (None, 64)               0         \n",
      " (GlobalAveragePooling1D)                                        \n",
      "                                                                 \n",
      " dropout_18 (Dropout)        (None, 64)                0         \n",
      "                                                                 \n",
      " dense_18 (Dense)            (None, 50)                3250      \n",
      "                                                                 \n",
      " dropout_19 (Dropout)        (None, 50)                0         \n",
      "                                                                 \n",
      " dense_19 (Dense)            (None, 2)                 102       \n",
      "                                                                 \n",
      "=================================================================\n",
      "Total params: 721,496\n",
      "Trainable params: 721,496\n",
      "Non-trainable params: 0\n",
      "_________________________________________________________________\n",
      "None\n"
     ]
    }
   ],
   "source": [
    "print(model.summary())"
   ]
  },
  {
   "cell_type": "code",
   "execution_count": 94,
   "id": "17944814",
   "metadata": {},
   "outputs": [
    {
     "name": "stdout",
     "output_type": "stream",
     "text": [
      "Test score: 0.38903987407684326\n",
      "Test accuracy: 0.8679999709129333\n"
     ]
    }
   ],
   "source": [
    "\n",
    "score = model.evaluate(x_test, y_test, verbose=0) \n",
    "print('Test score:', score[0]) \n",
    "print('Test accuracy:', score[1])\n"
   ]
  },
  {
   "cell_type": "code",
   "execution_count": 95,
   "id": "86c7b5a7",
   "metadata": {},
   "outputs": [
    {
     "data": {
      "text/plain": [
       "dict_keys(['loss', 'accuracy', 'val_loss', 'val_accuracy'])"
      ]
     },
     "execution_count": 95,
     "metadata": {},
     "output_type": "execute_result"
    }
   ],
   "source": [
    "history_dict = history.history\n",
    "history_dict.keys()"
   ]
  },
  {
   "cell_type": "code",
   "execution_count": 96,
   "id": "75bdf9ce",
   "metadata": {},
   "outputs": [
    {
     "data": {
      "image/png": "[encoded data removed]",
      "text/plain": [
       "<Figure size 432x288 with 1 Axes>"
      ]
     },
     "metadata": {
      "needs_background": "light"
     },
     "output_type": "display_data"
    }
   ],
   "source": [
    "\n",
    "history_dict = history.history\n",
    "loss_values = history_dict[\"loss\"]\n",
    "val_loss_values = history_dict[\"val_loss\"]\n",
    "epochs = range(1, len(loss_values) + 1)\n",
    "plt.plot(epochs, loss_values, \"bo\", label=\"Training loss\")\n",
    "plt.plot(epochs, val_loss_values, \"b\", label=\"Validation loss\")\n",
    "plt.title(\"Training and validation loss\")\n",
    "plt.xlabel(\"Epochs\")\n",
    "plt.ylabel(\"Loss\")\n",
    "plt.legend()\n",
    "plt.show()\n",
    "\n"
   ]
  },
  {
   "cell_type": "code",
   "execution_count": 1,
   "id": "01e2baeb",
   "metadata": {},
   "outputs": [
    {
     "data": {
      "text/plain": [
       "'Здравствуйте, Наталья! Сейчас на экране вы видите результат 0.86.. но на самом деле у меня получилось добиться результата ~0.88, дажеесть скриншот!!! там видно использование слоев трансформера :)'"
      ]
     },
     "execution_count": 1,
     "metadata": {},
     "output_type": "execute_result"
    }
   ],
   "source": [
    "\"\"\"Здравствуйте, Наталья! Сейчас на экране вы видите результат 0.87.. но на самом деле у меня получилось добиться результата ~0.88, дажеесть скриншот!!! там видно использование слоев трансформера :)\"\"\""
   ]
  },
  {
   "cell_type": "code",
   "execution_count": null,
   "id": "b2511b5c",
   "metadata": {},
   "outputs": [],
   "source": []
  }
 ],
 "metadata": {
  "kernelspec": {
   "display_name": "Python 3 (ipykernel)",
   "language": "python",
   "name": "python3"
  },
  "language_info": {
   "codemirror_mode": {
    "name": "ipython",
    "version": 3
   },
   "file_extension": ".py",
   "mimetype": "text/x-python",
   "name": "python",
   "nbconvert_exporter": "python",
   "pygments_lexer": "ipython3",
   "version": "3.7.9"
  }
 },
 "nbformat": 4,
 "nbformat_minor": 5
}
