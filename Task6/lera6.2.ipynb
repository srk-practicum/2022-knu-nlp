{
  "metadata": {
    "kernelspec": {
      "language": "python",
      "display_name": "Python 3",
      "name": "python3"
    },
    "language_info": {
      "name": "python",
      "version": "3.7.12",
      "mimetype": "text/x-python",
      "codemirror_mode": {
        "name": "ipython",
        "version": 3
      },
      "pygments_lexer": "ipython3",
      "nbconvert_exporter": "python",
      "file_extension": ".py"
    },
    "colab": {
      "name": "lera6.2.ipynb",
      "provenance": []
    }
  },
  "nbformat_minor": 0,
  "nbformat": 4,
  "cells": [
    {
      "cell_type": "code",
      "source": [
        "from nltk.tokenize import word_tokenize\n",
        "from nltk.corpus import stopwords\n",
        "from nltk.stem import WordNetLemmatizer\n",
        "from collections import Counter\n",
        "import pandas as pd\n",
        "import re\n",
        "import string\n",
        "import matplotlib.pyplot as plt\n",
        "from sklearn.model_selection import train_test_split\n",
        "import tensorflow as tf\n",
        "from tensorflow import keras\n",
        "from tensorflow.keras import layers\n",
        "import numpy as np"
      ],
      "metadata": {
        "execution": {
          "iopub.status.busy": "2022-02-08T18:39:48.258064Z",
          "iopub.execute_input": "2022-02-08T18:39:48.258377Z",
          "iopub.status.idle": "2022-02-08T18:39:48.264104Z",
          "shell.execute_reply.started": "2022-02-08T18:39:48.258326Z",
          "shell.execute_reply": "2022-02-08T18:39:48.263454Z"
        },
        "trusted": true,
        "id": "2p24s06npNjp"
      },
      "execution_count": 25,
      "outputs": []
    },
    {
      "cell_type": "code",
      "source": [
        "from transformers import AutoTokenizer\n",
        "from transformers import TFAutoModel"
      ],
      "metadata": {
        "execution": {
          "iopub.status.busy": "2022-02-08T18:39:48.266431Z",
          "iopub.execute_input": "2022-02-08T18:39:48.266745Z",
          "iopub.status.idle": "2022-02-08T18:39:48.282039Z",
          "shell.execute_reply.started": "2022-02-08T18:39:48.266703Z",
          "shell.execute_reply": "2022-02-08T18:39:48.281043Z"
        },
        "trusted": true,
        "id": "Y6EwSJY7pNjy"
      },
      "execution_count": 26,
      "outputs": []
    },
    {
      "cell_type": "code",
      "source": [
        "spam_path = 'https://raw.githubusercontent.com/srk-practicum/2022-knu-nlp/MakarenkoValeriia_Branch1/SPAM%20text%20message%2020170820%20-%20Data.csv'\n",
        "df = pd.read_csv(spam_path)\n",
        "df.head()"
      ],
      "metadata": {
        "execution": {
          "iopub.status.busy": "2022-02-08T18:39:48.283824Z",
          "iopub.execute_input": "2022-02-08T18:39:48.284527Z",
          "iopub.status.idle": "2022-02-08T18:39:48.329016Z",
          "shell.execute_reply.started": "2022-02-08T18:39:48.284483Z",
          "shell.execute_reply": "2022-02-08T18:39:48.328208Z"
        },
        "trusted": true,
        "colab": {
          "base_uri": "https://localhost:8080/",
          "height": 206
        },
        "id": "HLrsg1W_pNj0",
        "outputId": "289e2646-977d-49ed-bf4d-5cbb74afbf33"
      },
      "execution_count": 27,
      "outputs": [
        {
          "output_type": "execute_result",
          "data": {
            "text/html": [
              "\n",
              "  <div id=\"df-b50de671-31c1-430c-a06d-438ba5c2b29a\">\n",
              "    <div class=\"colab-df-container\">\n",
              "      <div>\n",
              "<style scoped>\n",
              "    .dataframe tbody tr th:only-of-type {\n",
              "        vertical-align: middle;\n",
              "    }\n",
              "\n",
              "    .dataframe tbody tr th {\n",
              "        vertical-align: top;\n",
              "    }\n",
              "\n",
              "    .dataframe thead th {\n",
              "        text-align: right;\n",
              "    }\n",
              "</style>\n",
              "<table border=\"1\" class=\"dataframe\">\n",
              "  <thead>\n",
              "    <tr style=\"text-align: right;\">\n",
              "      <th></th>\n",
              "      <th>Category</th>\n",
              "      <th>Message</th>\n",
              "    </tr>\n",
              "  </thead>\n",
              "  <tbody>\n",
              "    <tr>\n",
              "      <th>0</th>\n",
              "      <td>ham</td>\n",
              "      <td>Go until jurong point, crazy.. Available only ...</td>\n",
              "    </tr>\n",
              "    <tr>\n",
              "      <th>1</th>\n",
              "      <td>ham</td>\n",
              "      <td>Ok lar... Joking wif u oni...</td>\n",
              "    </tr>\n",
              "    <tr>\n",
              "      <th>2</th>\n",
              "      <td>spam</td>\n",
              "      <td>Free entry in 2 a wkly comp to win FA Cup fina...</td>\n",
              "    </tr>\n",
              "    <tr>\n",
              "      <th>3</th>\n",
              "      <td>ham</td>\n",
              "      <td>U dun say so early hor... U c already then say...</td>\n",
              "    </tr>\n",
              "    <tr>\n",
              "      <th>4</th>\n",
              "      <td>ham</td>\n",
              "      <td>Nah I don't think he goes to usf, he lives aro...</td>\n",
              "    </tr>\n",
              "  </tbody>\n",
              "</table>\n",
              "</div>\n",
              "      <button class=\"colab-df-convert\" onclick=\"convertToInteractive('df-b50de671-31c1-430c-a06d-438ba5c2b29a')\"\n",
              "              title=\"Convert this dataframe to an interactive table.\"\n",
              "              style=\"display:none;\">\n",
              "        \n",
              "  <svg xmlns=\"http://www.w3.org/2000/svg\" height=\"24px\"viewBox=\"0 0 24 24\"\n",
              "       width=\"24px\">\n",
              "    <path d=\"M0 0h24v24H0V0z\" fill=\"none\"/>\n",
              "    <path d=\"M18.56 5.44l.94 2.06.94-2.06 2.06-.94-2.06-.94-.94-2.06-.94 2.06-2.06.94zm-11 1L8.5 8.5l.94-2.06 2.06-.94-2.06-.94L8.5 2.5l-.94 2.06-2.06.94zm10 10l.94 2.06.94-2.06 2.06-.94-2.06-.94-.94-2.06-.94 2.06-2.06.94z\"/><path d=\"M17.41 7.96l-1.37-1.37c-.4-.4-.92-.59-1.43-.59-.52 0-1.04.2-1.43.59L10.3 9.45l-7.72 7.72c-.78.78-.78 2.05 0 2.83L4 21.41c.39.39.9.59 1.41.59.51 0 1.02-.2 1.41-.59l7.78-7.78 2.81-2.81c.8-.78.8-2.07 0-2.86zM5.41 20L4 18.59l7.72-7.72 1.47 1.35L5.41 20z\"/>\n",
              "  </svg>\n",
              "      </button>\n",
              "      \n",
              "  <style>\n",
              "    .colab-df-container {\n",
              "      display:flex;\n",
              "      flex-wrap:wrap;\n",
              "      gap: 12px;\n",
              "    }\n",
              "\n",
              "    .colab-df-convert {\n",
              "      background-color: #E8F0FE;\n",
              "      border: none;\n",
              "      border-radius: 50%;\n",
              "      cursor: pointer;\n",
              "      display: none;\n",
              "      fill: #1967D2;\n",
              "      height: 32px;\n",
              "      padding: 0 0 0 0;\n",
              "      width: 32px;\n",
              "    }\n",
              "\n",
              "    .colab-df-convert:hover {\n",
              "      background-color: #E2EBFA;\n",
              "      box-shadow: 0px 1px 2px rgba(60, 64, 67, 0.3), 0px 1px 3px 1px rgba(60, 64, 67, 0.15);\n",
              "      fill: #174EA6;\n",
              "    }\n",
              "\n",
              "    [theme=dark] .colab-df-convert {\n",
              "      background-color: #3B4455;\n",
              "      fill: #D2E3FC;\n",
              "    }\n",
              "\n",
              "    [theme=dark] .colab-df-convert:hover {\n",
              "      background-color: #434B5C;\n",
              "      box-shadow: 0px 1px 3px 1px rgba(0, 0, 0, 0.15);\n",
              "      filter: drop-shadow(0px 1px 2px rgba(0, 0, 0, 0.3));\n",
              "      fill: #FFFFFF;\n",
              "    }\n",
              "  </style>\n",
              "\n",
              "      <script>\n",
              "        const buttonEl =\n",
              "          document.querySelector('#df-b50de671-31c1-430c-a06d-438ba5c2b29a button.colab-df-convert');\n",
              "        buttonEl.style.display =\n",
              "          google.colab.kernel.accessAllowed ? 'block' : 'none';\n",
              "\n",
              "        async function convertToInteractive(key) {\n",
              "          const element = document.querySelector('#df-b50de671-31c1-430c-a06d-438ba5c2b29a');\n",
              "          const dataTable =\n",
              "            await google.colab.kernel.invokeFunction('convertToInteractive',\n",
              "                                                     [key], {});\n",
              "          if (!dataTable) return;\n",
              "\n",
              "          const docLinkHtml = 'Like what you see? Visit the ' +\n",
              "            '<a target=\"_blank\" href=https://colab.research.google.com/notebooks/data_table.ipynb>data table notebook</a>'\n",
              "            + ' to learn more about interactive tables.';\n",
              "          element.innerHTML = '';\n",
              "          dataTable['output_type'] = 'display_data';\n",
              "          await google.colab.output.renderOutput(dataTable, element);\n",
              "          const docLink = document.createElement('div');\n",
              "          docLink.innerHTML = docLinkHtml;\n",
              "          element.appendChild(docLink);\n",
              "        }\n",
              "      </script>\n",
              "    </div>\n",
              "  </div>\n",
              "  "
            ],
            "text/plain": [
              "  Category                                            Message\n",
              "0      ham  Go until jurong point, crazy.. Available only ...\n",
              "1      ham                      Ok lar... Joking wif u oni...\n",
              "2     spam  Free entry in 2 a wkly comp to win FA Cup fina...\n",
              "3      ham  U dun say so early hor... U c already then say...\n",
              "4      ham  Nah I don't think he goes to usf, he lives aro..."
            ]
          },
          "metadata": {},
          "execution_count": 27
        }
      ]
    },
    {
      "cell_type": "code",
      "source": [
        "X = df.Message\n",
        "Y = df.Category"
      ],
      "metadata": {
        "execution": {
          "iopub.status.busy": "2022-02-08T18:39:48.330842Z",
          "iopub.execute_input": "2022-02-08T18:39:48.331535Z",
          "iopub.status.idle": "2022-02-08T18:39:48.341796Z",
          "shell.execute_reply.started": "2022-02-08T18:39:48.331492Z",
          "shell.execute_reply": "2022-02-08T18:39:48.340774Z"
        },
        "trusted": true,
        "id": "32SiaYPFpNj1"
      },
      "execution_count": 28,
      "outputs": []
    },
    {
      "cell_type": "code",
      "source": [
        "def encoding(text):\n",
        "    if text == 'ham':\n",
        "        return 0\n",
        "    elif text == 'spam':\n",
        "        return 1\n",
        "    else:\n",
        "        return -1\n",
        "Y = Y.apply(encoding) "
      ],
      "metadata": {
        "execution": {
          "iopub.status.busy": "2022-02-08T18:39:48.344828Z",
          "iopub.execute_input": "2022-02-08T18:39:48.345567Z",
          "iopub.status.idle": "2022-02-08T18:39:48.354989Z",
          "shell.execute_reply.started": "2022-02-08T18:39:48.345519Z",
          "shell.execute_reply": "2022-02-08T18:39:48.354230Z"
        },
        "trusted": true,
        "id": "9jHjO4MbpNj2"
      },
      "execution_count": 29,
      "outputs": []
    },
    {
      "cell_type": "code",
      "source": [
        "stop_words = stopwords.words(\"english\")\n",
        "stop_words.extend(['u'])\n",
        "def clean_text(text):\n",
        "    text = text.lower()           # converting to lowercase\n",
        "    text = re.sub(\"@\\S+\", \" \", text)  \n",
        "    text = re.sub(\"https*\\S+\", \" \", text)      #\\S - не пробел \n",
        "    text = re.sub(\"www\\S+\", \" \", text)\n",
        "    text = re.sub(\"#\\S+\", \" \", text)\n",
        "    text = re.sub(\"\\d\\S+\", \" \", text) \n",
        "    text = re.sub(\"\\d\", \" \", text) # remove all numbers\n",
        "    text = re.sub('[%s]' % re.escape(string.punctuation), ' ', text)     # remove punctuations\n",
        "    text = re.sub('\\n', ' ', text)        \n",
        "    text = re.sub('\\s{2,}',' ', text)        # remove extra spaces\n",
        "    text = ' '.join([word for word in text.split(' ') if word not in stop_words])\n",
        "    return text\n",
        "\n",
        "def convert(text):\n",
        "    text = clean_text(text)\n",
        "    tokens = word_tokenize(text)\n",
        "    lemmatizer = WordNetLemmatizer()\n",
        "    lem = [lemmatizer.lemmatize(t) for t in tokens]\n",
        "    return text\n",
        "\n",
        "X_clean = X.apply(convert)"
      ],
      "metadata": {
        "execution": {
          "iopub.status.busy": "2022-02-08T18:39:48.356096Z",
          "iopub.execute_input": "2022-02-08T18:39:48.356520Z",
          "iopub.status.idle": "2022-02-08T18:39:49.871163Z",
          "shell.execute_reply.started": "2022-02-08T18:39:48.356484Z",
          "shell.execute_reply": "2022-02-08T18:39:49.870538Z"
        },
        "trusted": true,
        "id": "TXRY6reBpNj3"
      },
      "execution_count": 30,
      "outputs": []
    },
    {
      "cell_type": "code",
      "source": [
        "df = pd.DataFrame(data = {'Category': Y, 'Message': X_clean})\n",
        "df.head(2)"
      ],
      "metadata": {
        "execution": {
          "iopub.status.busy": "2022-02-08T18:40:14.629755Z",
          "iopub.execute_input": "2022-02-08T18:40:14.630456Z",
          "iopub.status.idle": "2022-02-08T18:40:14.641132Z",
          "shell.execute_reply.started": "2022-02-08T18:40:14.630414Z",
          "shell.execute_reply": "2022-02-08T18:40:14.640100Z"
        },
        "trusted": true,
        "colab": {
          "base_uri": "https://localhost:8080/",
          "height": 112
        },
        "id": "ZAqpF4u3pNj5",
        "outputId": "20f18424-6e27-4e58-ae01-f5e832b16256"
      },
      "execution_count": 31,
      "outputs": [
        {
          "output_type": "execute_result",
          "data": {
            "text/html": [
              "\n",
              "  <div id=\"df-c451671d-3687-43f8-8074-0534793037ba\">\n",
              "    <div class=\"colab-df-container\">\n",
              "      <div>\n",
              "<style scoped>\n",
              "    .dataframe tbody tr th:only-of-type {\n",
              "        vertical-align: middle;\n",
              "    }\n",
              "\n",
              "    .dataframe tbody tr th {\n",
              "        vertical-align: top;\n",
              "    }\n",
              "\n",
              "    .dataframe thead th {\n",
              "        text-align: right;\n",
              "    }\n",
              "</style>\n",
              "<table border=\"1\" class=\"dataframe\">\n",
              "  <thead>\n",
              "    <tr style=\"text-align: right;\">\n",
              "      <th></th>\n",
              "      <th>Category</th>\n",
              "      <th>Message</th>\n",
              "    </tr>\n",
              "  </thead>\n",
              "  <tbody>\n",
              "    <tr>\n",
              "      <th>0</th>\n",
              "      <td>0</td>\n",
              "      <td>go jurong point crazy available bugis n great ...</td>\n",
              "    </tr>\n",
              "    <tr>\n",
              "      <th>1</th>\n",
              "      <td>0</td>\n",
              "      <td>ok lar joking wif oni</td>\n",
              "    </tr>\n",
              "  </tbody>\n",
              "</table>\n",
              "</div>\n",
              "      <button class=\"colab-df-convert\" onclick=\"convertToInteractive('df-c451671d-3687-43f8-8074-0534793037ba')\"\n",
              "              title=\"Convert this dataframe to an interactive table.\"\n",
              "              style=\"display:none;\">\n",
              "        \n",
              "  <svg xmlns=\"http://www.w3.org/2000/svg\" height=\"24px\"viewBox=\"0 0 24 24\"\n",
              "       width=\"24px\">\n",
              "    <path d=\"M0 0h24v24H0V0z\" fill=\"none\"/>\n",
              "    <path d=\"M18.56 5.44l.94 2.06.94-2.06 2.06-.94-2.06-.94-.94-2.06-.94 2.06-2.06.94zm-11 1L8.5 8.5l.94-2.06 2.06-.94-2.06-.94L8.5 2.5l-.94 2.06-2.06.94zm10 10l.94 2.06.94-2.06 2.06-.94-2.06-.94-.94-2.06-.94 2.06-2.06.94z\"/><path d=\"M17.41 7.96l-1.37-1.37c-.4-.4-.92-.59-1.43-.59-.52 0-1.04.2-1.43.59L10.3 9.45l-7.72 7.72c-.78.78-.78 2.05 0 2.83L4 21.41c.39.39.9.59 1.41.59.51 0 1.02-.2 1.41-.59l7.78-7.78 2.81-2.81c.8-.78.8-2.07 0-2.86zM5.41 20L4 18.59l7.72-7.72 1.47 1.35L5.41 20z\"/>\n",
              "  </svg>\n",
              "      </button>\n",
              "      \n",
              "  <style>\n",
              "    .colab-df-container {\n",
              "      display:flex;\n",
              "      flex-wrap:wrap;\n",
              "      gap: 12px;\n",
              "    }\n",
              "\n",
              "    .colab-df-convert {\n",
              "      background-color: #E8F0FE;\n",
              "      border: none;\n",
              "      border-radius: 50%;\n",
              "      cursor: pointer;\n",
              "      display: none;\n",
              "      fill: #1967D2;\n",
              "      height: 32px;\n",
              "      padding: 0 0 0 0;\n",
              "      width: 32px;\n",
              "    }\n",
              "\n",
              "    .colab-df-convert:hover {\n",
              "      background-color: #E2EBFA;\n",
              "      box-shadow: 0px 1px 2px rgba(60, 64, 67, 0.3), 0px 1px 3px 1px rgba(60, 64, 67, 0.15);\n",
              "      fill: #174EA6;\n",
              "    }\n",
              "\n",
              "    [theme=dark] .colab-df-convert {\n",
              "      background-color: #3B4455;\n",
              "      fill: #D2E3FC;\n",
              "    }\n",
              "\n",
              "    [theme=dark] .colab-df-convert:hover {\n",
              "      background-color: #434B5C;\n",
              "      box-shadow: 0px 1px 3px 1px rgba(0, 0, 0, 0.15);\n",
              "      filter: drop-shadow(0px 1px 2px rgba(0, 0, 0, 0.3));\n",
              "      fill: #FFFFFF;\n",
              "    }\n",
              "  </style>\n",
              "\n",
              "      <script>\n",
              "        const buttonEl =\n",
              "          document.querySelector('#df-c451671d-3687-43f8-8074-0534793037ba button.colab-df-convert');\n",
              "        buttonEl.style.display =\n",
              "          google.colab.kernel.accessAllowed ? 'block' : 'none';\n",
              "\n",
              "        async function convertToInteractive(key) {\n",
              "          const element = document.querySelector('#df-c451671d-3687-43f8-8074-0534793037ba');\n",
              "          const dataTable =\n",
              "            await google.colab.kernel.invokeFunction('convertToInteractive',\n",
              "                                                     [key], {});\n",
              "          if (!dataTable) return;\n",
              "\n",
              "          const docLinkHtml = 'Like what you see? Visit the ' +\n",
              "            '<a target=\"_blank\" href=https://colab.research.google.com/notebooks/data_table.ipynb>data table notebook</a>'\n",
              "            + ' to learn more about interactive tables.';\n",
              "          element.innerHTML = '';\n",
              "          dataTable['output_type'] = 'display_data';\n",
              "          await google.colab.output.renderOutput(dataTable, element);\n",
              "          const docLink = document.createElement('div');\n",
              "          docLink.innerHTML = docLinkHtml;\n",
              "          element.appendChild(docLink);\n",
              "        }\n",
              "      </script>\n",
              "    </div>\n",
              "  </div>\n",
              "  "
            ],
            "text/plain": [
              "   Category                                            Message\n",
              "0         0  go jurong point crazy available bugis n great ...\n",
              "1         0                             ok lar joking wif oni "
            ]
          },
          "metadata": {},
          "execution_count": 31
        }
      ]
    },
    {
      "cell_type": "code",
      "source": [
        "X_train, X_test, Y_train, Y_test = train_test_split(X_clean, Y, test_size=0.2, random_state=42)\n",
        "y_train = np.asarray(Y_train).astype(\"float32\")\n",
        "y_test = np.asarray(Y_test).astype(\"float32\")\n",
        "x_train = np.array(X_train)\n",
        "x_test = np.array(X_test)"
      ],
      "metadata": {
        "execution": {
          "iopub.status.busy": "2022-02-08T18:39:49.907819Z",
          "iopub.execute_input": "2022-02-08T18:39:49.908032Z",
          "iopub.status.idle": "2022-02-08T18:39:49.917694Z",
          "shell.execute_reply.started": "2022-02-08T18:39:49.908007Z",
          "shell.execute_reply": "2022-02-08T18:39:49.916739Z"
        },
        "trusted": true,
        "id": "xLbEmeswpNj6"
      },
      "execution_count": 32,
      "outputs": []
    },
    {
      "cell_type": "code",
      "source": [
        "tokenizer = AutoTokenizer.from_pretrained('bert-base-cased')"
      ],
      "metadata": {
        "execution": {
          "iopub.status.busy": "2022-02-08T18:40:29.893707Z",
          "iopub.execute_input": "2022-02-08T18:40:29.894484Z",
          "iopub.status.idle": "2022-02-08T18:40:50.003974Z",
          "shell.execute_reply.started": "2022-02-08T18:40:29.894437Z",
          "shell.execute_reply": "2022-02-08T18:40:50.002780Z"
        },
        "trusted": true,
        "id": "APRWBzwepNj7"
      },
      "execution_count": 33,
      "outputs": []
    },
    {
      "cell_type": "code",
      "source": [
        "def tokenize(sequence):\n",
        "    tokens = tokenizer.encode_plus(sequence, max_length=256,\n",
        "                                   truncation=True, padding='max_length',\n",
        "                                   add_special_tokens=True, return_token_type_ids=False,\n",
        "                                   return_tensors='tf')\n",
        "    return tokens['input_ids'], tokens['attention_mask']"
      ],
      "metadata": {
        "id": "sGyZAMLBpNj8"
      },
      "execution_count": 34,
      "outputs": []
    },
    {
      "cell_type": "code",
      "source": [
        "num_of_elements = 4457\n",
        "\n",
        "Xids = np.zeros((num_of_elements, 256))\n",
        "Xmask = np.zeros((num_of_elements, 256))\n",
        "\n",
        "for i, sequence in enumerate(X_train):\n",
        "    tokens = tokenize(sequence)\n",
        "    Xids[i, :], Xmask[i, :] = tokens[0], tokens[1]"
      ],
      "metadata": {
        "id": "sHdAKK1epNj9"
      },
      "execution_count": 35,
      "outputs": []
    },
    {
      "cell_type": "code",
      "source": [
        " Xids[0:10]"
      ],
      "metadata": {
        "colab": {
          "base_uri": "https://localhost:8080/"
        },
        "id": "O8KJUl6aucs0",
        "outputId": "05feed00-fb7c-4c1b-f010-ce3c0ea72ab2"
      },
      "execution_count": 36,
      "outputs": [
        {
          "output_type": "execute_result",
          "data": {
            "text/plain": [
              "array([[  101.,  7163.,  1782., ...,     0.,     0.,     0.],\n",
              "       [  101., 19082.,  3271., ...,     0.,     0.,     0.],\n",
              "       [  101.,  1435.,   176., ...,     0.,     0.,     0.],\n",
              "       ...,\n",
              "       [  101., 14844.,  5093., ...,     0.,     0.,     0.],\n",
              "       [  101.,  1930.,  1253., ...,     0.,     0.,     0.],\n",
              "       [  101., 20049.,  1324., ...,     0.,     0.,     0.]])"
            ]
          },
          "metadata": {},
          "execution_count": 36
        }
      ]
    },
    {
      "cell_type": "code",
      "source": [
        "bert = TFAutoModel.from_pretrained('bert-base-cased')"
      ],
      "metadata": {
        "colab": {
          "base_uri": "https://localhost:8080/"
        },
        "id": "BsvPb18wucpR",
        "outputId": "da96725c-59c2-4856-8cfc-abdbbfe6da42"
      },
      "execution_count": 37,
      "outputs": [
        {
          "output_type": "stream",
          "name": "stderr",
          "text": [
            "Some layers from the model checkpoint at bert-base-cased were not used when initializing TFBertModel: ['nsp___cls', 'mlm___cls']\n",
            "- This IS expected if you are initializing TFBertModel from the checkpoint of a model trained on another task or with another architecture (e.g. initializing a BertForSequenceClassification model from a BertForPreTraining model).\n",
            "- This IS NOT expected if you are initializing TFBertModel from the checkpoint of a model that you expect to be exactly identical (initializing a BertForSequenceClassification model from a BertForSequenceClassification model).\n",
            "All the layers of TFBertModel were initialized from the model checkpoint at bert-base-cased.\n",
            "If your task is similar to the task the model of the checkpoint was trained on, you can already use TFBertModel for predictions without further training.\n"
          ]
        }
      ]
    },
    {
      "cell_type": "code",
      "source": [
        "bert.summary()"
      ],
      "metadata": {
        "colab": {
          "base_uri": "https://localhost:8080/"
        },
        "id": "h_VKDRYQ-AcF",
        "outputId": "115b35b0-1310-4090-c7df-2efe40feb019"
      },
      "execution_count": 38,
      "outputs": [
        {
          "output_type": "stream",
          "name": "stdout",
          "text": [
            "Model: \"tf_bert_model_1\"\n",
            "_________________________________________________________________\n",
            " Layer (type)                Output Shape              Param #   \n",
            "=================================================================\n",
            " bert (TFBertMainLayer)      multiple                  108310272 \n",
            "                                                                 \n",
            "=================================================================\n",
            "Total params: 108,310,272\n",
            "Trainable params: 108,310,272\n",
            "Non-trainable params: 0\n",
            "_________________________________________________________________\n"
          ]
        }
      ]
    },
    {
      "cell_type": "code",
      "source": [
        "input_ids = tf.keras.layers.Input(shape=(256,), name='input_ids', dtype='int32')\n",
        "mask = tf.keras.layers.Input(shape=(256,), name='attention_mask', dtype='int32')\n",
        "\n",
        "embeddings = bert.bert(input_ids, attention_mask=mask)[1]  # we access the transformer model within our bert object using the bert attribute (eg bert.bert instead of bert)\n",
        "\n",
        "# Classifier head\n",
        "x = tf.keras.layers.Dense(32, activation ='relu')(embeddings)\n",
        "y = tf.keras.layers.Dense(1, activation ='sigmoid', name='outputs')(x)\n",
        "\n",
        "model = tf.keras.Model(inputs=[input_ids, mask], outputs=y)\n",
        "\n",
        "model.layers[2].trainable = False\n"
      ],
      "metadata": {
        "id": "ubII3mOEucmP"
      },
      "execution_count": 39,
      "outputs": []
    },
    {
      "cell_type": "code",
      "source": [
        "bert.bert(input_ids, attention_mask=mask)"
      ],
      "metadata": {
        "colab": {
          "base_uri": "https://localhost:8080/"
        },
        "id": "O1f1tJMqucjG",
        "outputId": "dda0e093-7f40-4f60-f775-e8370a9d2c56"
      },
      "execution_count": 40,
      "outputs": [
        {
          "output_type": "execute_result",
          "data": {
            "text/plain": [
              "TFBaseModelOutputWithPoolingAndCrossAttentions([('last_hidden_state',\n",
              "                                                 <KerasTensor: shape=(None, 256, 768) dtype=float32 (created by layer 'bert')>),\n",
              "                                                ('pooler_output',\n",
              "                                                 <KerasTensor: shape=(None, 768) dtype=float32 (created by layer 'bert')>)])"
            ]
          },
          "metadata": {},
          "execution_count": 40
        }
      ]
    },
    {
      "cell_type": "code",
      "source": [
        "model.compile(optimizer='adam', loss='binary_crossentropy', metrics=[\"accuracy\"])\n",
        "model.summary()\n",
        "history = model.fit(\n",
        "    [Xids, Xmask], Y_train,\n",
        "    validation_split=0.2,\n",
        "    batch_size = 512,\n",
        "    epochs=1)"
      ],
      "metadata": {
        "colab": {
          "base_uri": "https://localhost:8080/"
        },
        "id": "aaWx7Ixvucab",
        "outputId": "735fda1a-aaba-4c87-b878-814f18c93862"
      },
      "execution_count": 22,
      "outputs": [
        {
          "output_type": "stream",
          "name": "stdout",
          "text": [
            "Model: \"model\"\n",
            "__________________________________________________________________________________________________\n",
            " Layer (type)                   Output Shape         Param #     Connected to                     \n",
            "==================================================================================================\n",
            " input_ids (InputLayer)         [(None, 256)]        0           []                               \n",
            "                                                                                                  \n",
            " attention_mask (InputLayer)    [(None, 256)]        0           []                               \n",
            "                                                                                                  \n",
            " bert (TFBertMainLayer)         TFBaseModelOutputWi  108310272   ['input_ids[0][0]',              \n",
            "                                thPoolingAndCrossAt               'attention_mask[0][0]']         \n",
            "                                tentions(last_hidde                                               \n",
            "                                n_state=(None, 256,                                               \n",
            "                                 768),                                                            \n",
            "                                 pooler_output=(Non                                               \n",
            "                                e, 768),                                                          \n",
            "                                 past_key_values=No                                               \n",
            "                                ne, hidden_states=N                                               \n",
            "                                one, attentions=Non                                               \n",
            "                                e, cross_attentions                                               \n",
            "                                =None)                                                            \n",
            "                                                                                                  \n",
            " dense (Dense)                  (None, 32)           24608       ['bert[0][1]']                   \n",
            "                                                                                                  \n",
            " outputs (Dense)                (None, 1)            33          ['dense[0][0]']                  \n",
            "                                                                                                  \n",
            "==================================================================================================\n",
            "Total params: 108,334,913\n",
            "Trainable params: 24,641\n",
            "Non-trainable params: 108,310,272\n",
            "__________________________________________________________________________________________________\n",
            "7/7 [==============================] - 3207s 469s/step - loss: 0.3703 - accuracy: 0.8679 - val_loss: 0.3710 - val_accuracy: 0.8576\n"
          ]
        }
      ]
    }
  ]
}
