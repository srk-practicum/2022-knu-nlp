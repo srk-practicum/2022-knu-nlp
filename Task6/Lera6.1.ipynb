{
  "nbformat": 4,
  "nbformat_minor": 0,
  "metadata": {
    "colab": {
      "name": "Lera6.1.ipynb",
      "provenance": []
    },
    "kernelspec": {
      "name": "python3",
      "display_name": "Python 3"
    },
    "language_info": {
      "name": "python"
    }
  },
  "cells": [
    {
      "cell_type": "code",
      "execution_count": 56,
      "metadata": {
        "id": "ohTBfXAcA0Q9"
      },
      "outputs": [],
      "source": [
        "from transformers import pipeline\n",
        "from transformers import AutoTokenizer, TFAutoModelForSequenceClassification\n",
        "import tensorflow as tf"
      ]
    },
    {
      "cell_type": "code",
      "source": [
        "text_clasification = pipeline('sentiment-analysis', model = \"j-hartmann/emotion-english-distilroberta-base\", return_all_scores=True)"
      ],
      "metadata": {
        "id": "m0D2CDLuA4hr"
      },
      "execution_count": 81,
      "outputs": []
    },
    {
      "cell_type": "code",
      "source": [
        "test1 = 'I am scared!'\n",
        "text_clasification(test1)"
      ],
      "metadata": {
        "colab": {
          "base_uri": "https://localhost:8080/"
        },
        "id": "xbyXxU50ENAc",
        "outputId": "eb5573c9-d2f2-47c6-c3a3-ef65bc1a4c44"
      },
      "execution_count": 74,
      "outputs": [
        {
          "output_type": "execute_result",
          "data": {
            "text/plain": [
              "[[{'label': 'anger', 'score': 0.0023145517334342003},\n",
              "  {'label': 'disgust', 'score': 0.0007054118323139846},\n",
              "  {'label': 'fear', 'score': 0.9890506267547607},\n",
              "  {'label': 'joy', 'score': 0.0009633987210690975},\n",
              "  {'label': 'neutral', 'score': 0.001985208597034216},\n",
              "  {'label': 'sadness', 'score': 0.0025366507470607758},\n",
              "  {'label': 'surprise', 'score': 0.002444098936393857}]]"
            ]
          },
          "metadata": {},
          "execution_count": 74
        }
      ]
    },
    {
      "cell_type": "code",
      "source": [
        "test2 = 'How could you dare?'\n",
        "text_clasification(test2)"
      ],
      "metadata": {
        "colab": {
          "base_uri": "https://localhost:8080/"
        },
        "id": "i81vP-_CJ_fc",
        "outputId": "c716ea3a-856c-49dd-d782-551a278199cc"
      },
      "execution_count": 46,
      "outputs": [
        {
          "output_type": "execute_result",
          "data": {
            "text/plain": [
              "[[{'label': 'anger', 'score': 0.9583742022514343},\n",
              "  {'label': 'disgust', 'score': 0.01923876814544201},\n",
              "  {'label': 'fear', 'score': 0.00683360081166029},\n",
              "  {'label': 'joy', 'score': 0.000912993389647454},\n",
              "  {'label': 'neutral', 'score': 0.0030341146048158407},\n",
              "  {'label': 'sadness', 'score': 0.002004524925723672},\n",
              "  {'label': 'surprise', 'score': 0.009601854719221592}]]"
            ]
          },
          "metadata": {},
          "execution_count": 46
        }
      ]
    },
    {
      "cell_type": "code",
      "source": [
        "#fill_mask = pipeline('fill-mask', model='bert-base-uncased')\n",
        "#fill_mask(\"I am [MASK] scared\")"
      ],
      "metadata": {
        "colab": {
          "base_uri": "https://localhost:8080/"
        },
        "id": "QGxvtXfPES8i",
        "outputId": "c53ff59c-37b0-4a7b-800c-0d3c8de88336"
      },
      "execution_count": 73,
      "outputs": [
        {
          "output_type": "stream",
          "name": "stderr",
          "text": [
            "Some weights of the model checkpoint at bert-base-uncased were not used when initializing BertForMaskedLM: ['cls.seq_relationship.weight', 'cls.seq_relationship.bias']\n",
            "- This IS expected if you are initializing BertForMaskedLM from the checkpoint of a model trained on another task or with another architecture (e.g. initializing a BertForSequenceClassification model from a BertForPreTraining model).\n",
            "- This IS NOT expected if you are initializing BertForMaskedLM from the checkpoint of a model that you expect to be exactly identical (initializing a BertForSequenceClassification model from a BertForSequenceClassification model).\n"
          ]
        },
        {
          "output_type": "execute_result",
          "data": {
            "text/plain": [
              "[{'score': 0.5903838872909546,\n",
              "  'sequence': 'i am so scared',\n",
              "  'token': 2061,\n",
              "  'token_str': 'so'},\n",
              " {'score': 0.14422643184661865,\n",
              "  'sequence': 'i am not scared',\n",
              "  'token': 2025,\n",
              "  'token_str': 'not'},\n",
              " {'score': 0.037188570946455,\n",
              "  'sequence': 'i am still scared',\n",
              "  'token': 2145,\n",
              "  'token_str': 'still'},\n",
              " {'score': 0.02825786918401718,\n",
              "  'sequence': 'i am really scared',\n",
              "  'token': 2428,\n",
              "  'token_str': 'really'},\n",
              " {'score': 0.027339352294802666,\n",
              "  'sequence': 'i am just scared',\n",
              "  'token': 2074,\n",
              "  'token_str': 'just'}]"
            ]
          },
          "metadata": {},
          "execution_count": 73
        }
      ]
    },
    {
      "cell_type": "code",
      "source": [
        "base_model = \"j-hartmann/emotion-english-distilroberta-base\"\n",
        "model = TFAutoModelForSequenceClassification.from_pretrained(base_model, from_pt=True)\n",
        "tokenizer = AutoTokenizer.from_pretrained(base_model)"
      ],
      "metadata": {
        "id": "vKfYE__lES_F"
      },
      "execution_count": null,
      "outputs": []
    },
    {
      "cell_type": "code",
      "source": [
        "inputs = tokenizer([test1, test2])\n",
        "inputs"
      ],
      "metadata": {
        "colab": {
          "base_uri": "https://localhost:8080/"
        },
        "id": "A6sZF1CZLngs",
        "outputId": "47f38e4e-9bb8-47d5-881b-ee857c930404"
      },
      "execution_count": 75,
      "outputs": [
        {
          "output_type": "execute_result",
          "data": {
            "text/plain": [
              "{'input_ids': [[0, 100, 524, 8265, 328, 2], [0, 6179, 115, 47, 19046, 116, 2]], 'attention_mask': [[1, 1, 1, 1, 1, 1], [1, 1, 1, 1, 1, 1, 1]]}"
            ]
          },
          "metadata": {},
          "execution_count": 75
        }
      ]
    },
    {
      "cell_type": "code",
      "source": [
        "inputs_with_padding = tokenizer([test1, test2], padding = True, truncation = True, return_tensors=\"tf\")\n",
        "inputs_with_padding"
      ],
      "metadata": {
        "colab": {
          "base_uri": "https://localhost:8080/"
        },
        "id": "Ebsk7a8GLnpj",
        "outputId": "bd9af930-6393-4141-fd5b-1c9e540d52cd"
      },
      "execution_count": 76,
      "outputs": [
        {
          "output_type": "execute_result",
          "data": {
            "text/plain": [
              "{'input_ids': <tf.Tensor: shape=(2, 7), dtype=int32, numpy=\n",
              "array([[    0,   100,   524,  8265,   328,     2,     1],\n",
              "       [    0,  6179,   115,    47, 19046,   116,     2]], dtype=int32)>, 'attention_mask': <tf.Tensor: shape=(2, 7), dtype=int32, numpy=\n",
              "array([[1, 1, 1, 1, 1, 1, 0],\n",
              "       [1, 1, 1, 1, 1, 1, 1]], dtype=int32)>}"
            ]
          },
          "metadata": {},
          "execution_count": 76
        }
      ]
    },
    {
      "cell_type": "code",
      "source": [
        "outputs = model(inputs_with_padding)\n",
        "outputs"
      ],
      "metadata": {
        "colab": {
          "base_uri": "https://localhost:8080/"
        },
        "id": "hlFOk0IDLns2",
        "outputId": "52a10303-5a89-417a-e346-619ba445dae4"
      },
      "execution_count": 77,
      "outputs": [
        {
          "output_type": "execute_result",
          "data": {
            "text/plain": [
              "TFSequenceClassifierOutput([('logits',\n",
              "                             <tf.Tensor: shape=(2, 7), dtype=float32, numpy=\n",
              "                             array([[-0.6005598 , -1.7887484 ,  5.4569693 , -1.4770631 , -0.7540513 ,\n",
              "                                     -0.50893027, -0.5460996 ],\n",
              "                                    [ 4.723003  ,  0.8146871 , -0.22038527, -2.2332654 , -1.0323194 ,\n",
              "                                     -1.4468334 ,  0.1197142 ]], dtype=float32)>)])"
            ]
          },
          "metadata": {},
          "execution_count": 77
        }
      ]
    },
    {
      "cell_type": "code",
      "source": [
        "predictions = tf.nn.softmax(outputs[0], axis=-1)\n",
        "predictions"
      ],
      "metadata": {
        "colab": {
          "base_uri": "https://localhost:8080/"
        },
        "id": "xcD6i2DWLnvW",
        "outputId": "1f84bfa0-ca6d-4a33-8016-645616c2f96b"
      },
      "execution_count": 78,
      "outputs": [
        {
          "output_type": "execute_result",
          "data": {
            "text/plain": [
              "<tf.Tensor: shape=(2, 7), dtype=float32, numpy=\n",
              "array([[2.3145527e-03, 7.0541282e-04, 9.8905051e-01, 9.6339959e-04,\n",
              "        1.9852107e-03, 2.5366540e-03, 2.4440989e-03],\n",
              "       [9.5837450e-01, 1.9238679e-02, 6.8335934e-03, 9.1299060e-04,\n",
              "        3.0341039e-03, 2.0045158e-03, 9.6017942e-03]], dtype=float32)>"
            ]
          },
          "metadata": {},
          "execution_count": 78
        }
      ]
    },
    {
      "cell_type": "code",
      "source": [
        "predictions[0][2]"
      ],
      "metadata": {
        "colab": {
          "base_uri": "https://localhost:8080/"
        },
        "id": "pK_Jfx77Lnyk",
        "outputId": "81de3c67-8d90-4861-b7db-d05d647b93d5"
      },
      "execution_count": 79,
      "outputs": [
        {
          "output_type": "execute_result",
          "data": {
            "text/plain": [
              "<tf.Tensor: shape=(), dtype=float32, numpy=0.9890505>"
            ]
          },
          "metadata": {},
          "execution_count": 79
        }
      ]
    },
    {
      "cell_type": "code",
      "source": [
        "predictions[1][0]"
      ],
      "metadata": {
        "colab": {
          "base_uri": "https://localhost:8080/"
        },
        "id": "Ovq_6fhOR9zv",
        "outputId": "21e6d83a-f59d-4460-f877-09aa76b5c066"
      },
      "execution_count": 80,
      "outputs": [
        {
          "output_type": "execute_result",
          "data": {
            "text/plain": [
              "<tf.Tensor: shape=(), dtype=float32, numpy=0.9583745>"
            ]
          },
          "metadata": {},
          "execution_count": 80
        }
      ]
    }
  ]
}
