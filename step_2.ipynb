{
 "cells": [
  {
   "cell_type": "markdown",
   "id": "smaller-member",
   "metadata": {
    "id": "japanese-romance"
   },
   "source": [
    "# Step 2 - Classification of text data using fully connected neural networks"
   ]
  },
  {
   "cell_type": "code",
   "execution_count": null,
   "id": "furnished-condition",
   "metadata": {
    "colab": {
     "base_uri": "https://localhost:8080/"
    },
    "id": "JUReEgV8KI7s",
    "outputId": "33947554-74b6-4dba-c2ed-e4d078ce8dbc"
   },
   "outputs": [
    {
     "name": "stdout",
     "output_type": "stream",
     "text": [
      "Mounted at /content/gdrive\n"
     ]
    }
   ],
   "source": [
    "from google.colab import drive\n",
    "drive.mount(\"/content/gdrive\", force_remount=True)"
   ]
  },
  {
   "cell_type": "code",
   "execution_count": null,
   "id": "moral-transfer",
   "metadata": {
    "id": "quarterly-biography"
   },
   "outputs": [],
   "source": [
    "import pandas as pd\n",
    "import numpy as np\n",
    "from tensorflow import keras\n",
    "from tensorflow.keras import layers\n",
    "import matplotlib.pyplot as plt\n",
    "from sklearn.model_selection import train_test_split\n",
    "from IPython.display import clear_output"
   ]
  },
  {
   "cell_type": "code",
   "execution_count": null,
   "id": "focal-newcastle",
   "metadata": {
    "id": "express-number"
   },
   "outputs": [],
   "source": [
    "def show_percentage(m, n):\n",
    "    clear_output(wait=True)\n",
    "    k = m / (n - 1)\n",
    "    percent = int(k * 100)\n",
    "    print('[' + 'x'*percent + '-'*(100 - percent) + ']' + \" {:.2%}\".format(k))\n",
    "    print(\"{}/{} complete\".format(m + 1, n))"
   ]
  },
  {
   "cell_type": "markdown",
   "id": "imperial-blond",
   "metadata": {
    "id": "detected-bahrain"
   },
   "source": [
    "### Get the Data\n",
    "##### Download the processed on Step 1 dataset."
   ]
  },
  {
   "cell_type": "code",
   "execution_count": null,
   "id": "beginning-jersey",
   "metadata": {
    "id": "58T-Pn57LAhg"
   },
   "outputs": [],
   "source": [
    "def str_to_lst(x):\n",
    "    return x.replace(\"'\", \"\").replace(\"[\", \"\").replace(\"]\", \"\").split(\", \")"
   ]
  },
  {
   "cell_type": "code",
   "execution_count": null,
   "id": "unsigned-concept",
   "metadata": {
    "colab": {
     "base_uri": "https://localhost:8080/",
     "height": 206
    },
    "id": "double-greenhouse",
    "outputId": "d84d37dc-2402-467c-fa30-d96d3b94beaf",
    "scrolled": true
   },
   "outputs": [
    {
     "data": {
      "text/html": [
       "\n",
       "  <div id=\"df-15122a8c-c051-47fd-8274-09b410c68ca9\">\n",
       "    <div class=\"colab-df-container\">\n",
       "      <div>\n",
       "<style scoped>\n",
       "    .dataframe tbody tr th:only-of-type {\n",
       "        vertical-align: middle;\n",
       "    }\n",
       "\n",
       "    .dataframe tbody tr th {\n",
       "        vertical-align: top;\n",
       "    }\n",
       "\n",
       "    .dataframe thead th {\n",
       "        text-align: right;\n",
       "    }\n",
       "</style>\n",
       "<table border=\"1\" class=\"dataframe\">\n",
       "  <thead>\n",
       "    <tr style=\"text-align: right;\">\n",
       "      <th></th>\n",
       "      <th>job_no</th>\n",
       "      <th>job_description</th>\n",
       "      <th>job_type</th>\n",
       "      <th>category</th>\n",
       "    </tr>\n",
       "  </thead>\n",
       "  <tbody>\n",
       "    <tr>\n",
       "      <th>0</th>\n",
       "      <td>Id-12765</td>\n",
       "      <td>[zest, scientific, searching, accomplished, sc...</td>\n",
       "      <td>Permanent</td>\n",
       "      <td>Pharmaceutical, Healthcare and Medical Sales</td>\n",
       "    </tr>\n",
       "    <tr>\n",
       "      <th>1</th>\n",
       "      <td>Id-22925</td>\n",
       "      <td>[world, typical, cro, company, making, wave, b...</td>\n",
       "      <td>Permanent</td>\n",
       "      <td>Clinical Research</td>\n",
       "    </tr>\n",
       "    <tr>\n",
       "      <th>2</th>\n",
       "      <td>Id-1321</td>\n",
       "      <td>[asha, mistry, umbilical, life, recruiting, ex...</td>\n",
       "      <td>Contract/Interim</td>\n",
       "      <td>Pharmaceutical Marketing</td>\n",
       "    </tr>\n",
       "    <tr>\n",
       "      <th>3</th>\n",
       "      <td>Id-9473</td>\n",
       "      <td>[sale, representative, laser, der, medizintech...</td>\n",
       "      <td>Permanent</td>\n",
       "      <td>Pharmaceutical, Healthcare and Medical Sales</td>\n",
       "    </tr>\n",
       "    <tr>\n",
       "      <th>4</th>\n",
       "      <td>Id-14952</td>\n",
       "      <td>[field, service, engineer, life, science, camb...</td>\n",
       "      <td>Permanent</td>\n",
       "      <td>Manufacturing &amp; Operations</td>\n",
       "    </tr>\n",
       "  </tbody>\n",
       "</table>\n",
       "</div>\n",
       "      <button class=\"colab-df-convert\" onclick=\"convertToInteractive('df-15122a8c-c051-47fd-8274-09b410c68ca9')\"\n",
       "              title=\"Convert this dataframe to an interactive table.\"\n",
       "              style=\"display:none;\">\n",
       "        \n",
       "  <svg xmlns=\"http://www.w3.org/2000/svg\" height=\"24px\"viewBox=\"0 0 24 24\"\n",
       "       width=\"24px\">\n",
       "    <path d=\"M0 0h24v24H0V0z\" fill=\"none\"/>\n",
       "    <path d=\"M18.56 5.44l.94 2.06.94-2.06 2.06-.94-2.06-.94-.94-2.06-.94 2.06-2.06.94zm-11 1L8.5 8.5l.94-2.06 2.06-.94-2.06-.94L8.5 2.5l-.94 2.06-2.06.94zm10 10l.94 2.06.94-2.06 2.06-.94-2.06-.94-.94-2.06-.94 2.06-2.06.94z\"/><path d=\"M17.41 7.96l-1.37-1.37c-.4-.4-.92-.59-1.43-.59-.52 0-1.04.2-1.43.59L10.3 9.45l-7.72 7.72c-.78.78-.78 2.05 0 2.83L4 21.41c.39.39.9.59 1.41.59.51 0 1.02-.2 1.41-.59l7.78-7.78 2.81-2.81c.8-.78.8-2.07 0-2.86zM5.41 20L4 18.59l7.72-7.72 1.47 1.35L5.41 20z\"/>\n",
       "  </svg>\n",
       "      </button>\n",
       "      \n",
       "  <style>\n",
       "    .colab-df-container {\n",
       "      display:flex;\n",
       "      flex-wrap:wrap;\n",
       "      gap: 12px;\n",
       "    }\n",
       "\n",
       "    .colab-df-convert {\n",
       "      background-color: #E8F0FE;\n",
       "      border: none;\n",
       "      border-radius: 50%;\n",
       "      cursor: pointer;\n",
       "      display: none;\n",
       "      fill: #1967D2;\n",
       "      height: 32px;\n",
       "      padding: 0 0 0 0;\n",
       "      width: 32px;\n",
       "    }\n",
       "\n",
       "    .colab-df-convert:hover {\n",
       "      background-color: #E2EBFA;\n",
       "      box-shadow: 0px 1px 2px rgba(60, 64, 67, 0.3), 0px 1px 3px 1px rgba(60, 64, 67, 0.15);\n",
       "      fill: #174EA6;\n",
       "    }\n",
       "\n",
       "    [theme=dark] .colab-df-convert {\n",
       "      background-color: #3B4455;\n",
       "      fill: #D2E3FC;\n",
       "    }\n",
       "\n",
       "    [theme=dark] .colab-df-convert:hover {\n",
       "      background-color: #434B5C;\n",
       "      box-shadow: 0px 1px 3px 1px rgba(0, 0, 0, 0.15);\n",
       "      filter: drop-shadow(0px 1px 2px rgba(0, 0, 0, 0.3));\n",
       "      fill: #FFFFFF;\n",
       "    }\n",
       "  </style>\n",
       "\n",
       "      <script>\n",
       "        const buttonEl =\n",
       "          document.querySelector('#df-15122a8c-c051-47fd-8274-09b410c68ca9 button.colab-df-convert');\n",
       "        buttonEl.style.display =\n",
       "          google.colab.kernel.accessAllowed ? 'block' : 'none';\n",
       "\n",
       "        async function convertToInteractive(key) {\n",
       "          const element = document.querySelector('#df-15122a8c-c051-47fd-8274-09b410c68ca9');\n",
       "          const dataTable =\n",
       "            await google.colab.kernel.invokeFunction('convertToInteractive',\n",
       "                                                     [key], {});\n",
       "          if (!dataTable) return;\n",
       "\n",
       "          const docLinkHtml = 'Like what you see? Visit the ' +\n",
       "            '<a target=\"_blank\" href=https://colab.research.google.com/notebooks/data_table.ipynb>data table notebook</a>'\n",
       "            + ' to learn more about interactive tables.';\n",
       "          element.innerHTML = '';\n",
       "          dataTable['output_type'] = 'display_data';\n",
       "          await google.colab.output.renderOutput(dataTable, element);\n",
       "          const docLink = document.createElement('div');\n",
       "          docLink.innerHTML = docLinkHtml;\n",
       "          element.appendChild(docLink);\n",
       "        }\n",
       "      </script>\n",
       "    </div>\n",
       "  </div>\n",
       "  "
      ],
      "text/plain": [
       "     job_no  ...                                      category\n",
       "0  Id-12765  ...  Pharmaceutical, Healthcare and Medical Sales\n",
       "1  Id-22925  ...                             Clinical Research\n",
       "2   Id-1321  ...                      Pharmaceutical Marketing\n",
       "3   Id-9473  ...  Pharmaceutical, Healthcare and Medical Sales\n",
       "4  Id-14952  ...                    Manufacturing & Operations\n",
       "\n",
       "[5 rows x 4 columns]"
      ]
     },
     "execution_count": 5,
     "metadata": {},
     "output_type": "execute_result"
    }
   ],
   "source": [
    "df = pd.read_csv(\"/content/gdrive/MyDrive/practice_nlp_2022/data/preprocessed_data.csv\")\n",
    "df['job_description'] = df['job_description'].apply(lambda x: str_to_lst(x))\n",
    "df.head()"
   ]
  },
  {
   "cell_type": "markdown",
   "id": "forced-conservation",
   "metadata": {
    "id": "further-breeding"
   },
   "source": [
    "### Job Type"
   ]
  },
  {
   "cell_type": "markdown",
   "id": "cleared-pricing",
   "metadata": {
    "id": "4YMZjNujJh8K"
   },
   "source": [
    "##### Convert text data to numeric.\n",
    "We put the number in accordance with each type. For convenience, write these numbers in a separate column."
   ]
  },
  {
   "cell_type": "code",
   "execution_count": null,
   "id": "engaging-swimming",
   "metadata": {
    "colab": {
     "base_uri": "https://localhost:8080/",
     "height": 206
    },
    "id": "opponent-substance",
    "outputId": "619c2b5a-c4c3-475b-8a02-813ba3fe37c8"
   },
   "outputs": [
    {
     "data": {
      "text/html": [
       "\n",
       "  <div id=\"df-a38ae14a-74d0-45a1-aaa2-78a97f59864a\">\n",
       "    <div class=\"colab-df-container\">\n",
       "      <div>\n",
       "<style scoped>\n",
       "    .dataframe tbody tr th:only-of-type {\n",
       "        vertical-align: middle;\n",
       "    }\n",
       "\n",
       "    .dataframe tbody tr th {\n",
       "        vertical-align: top;\n",
       "    }\n",
       "\n",
       "    .dataframe thead th {\n",
       "        text-align: right;\n",
       "    }\n",
       "</style>\n",
       "<table border=\"1\" class=\"dataframe\">\n",
       "  <thead>\n",
       "    <tr style=\"text-align: right;\">\n",
       "      <th></th>\n",
       "      <th>job_no</th>\n",
       "      <th>job_description</th>\n",
       "      <th>job_type</th>\n",
       "      <th>category</th>\n",
       "      <th>type_label</th>\n",
       "    </tr>\n",
       "  </thead>\n",
       "  <tbody>\n",
       "    <tr>\n",
       "      <th>0</th>\n",
       "      <td>Id-12765</td>\n",
       "      <td>[zest, scientific, searching, accomplished, sc...</td>\n",
       "      <td>Permanent</td>\n",
       "      <td>Pharmaceutical, Healthcare and Medical Sales</td>\n",
       "      <td>0</td>\n",
       "    </tr>\n",
       "    <tr>\n",
       "      <th>1</th>\n",
       "      <td>Id-22925</td>\n",
       "      <td>[world, typical, cro, company, making, wave, b...</td>\n",
       "      <td>Permanent</td>\n",
       "      <td>Clinical Research</td>\n",
       "      <td>0</td>\n",
       "    </tr>\n",
       "    <tr>\n",
       "      <th>2</th>\n",
       "      <td>Id-1321</td>\n",
       "      <td>[asha, mistry, umbilical, life, recruiting, ex...</td>\n",
       "      <td>Contract/Interim</td>\n",
       "      <td>Pharmaceutical Marketing</td>\n",
       "      <td>1</td>\n",
       "    </tr>\n",
       "    <tr>\n",
       "      <th>3</th>\n",
       "      <td>Id-9473</td>\n",
       "      <td>[sale, representative, laser, der, medizintech...</td>\n",
       "      <td>Permanent</td>\n",
       "      <td>Pharmaceutical, Healthcare and Medical Sales</td>\n",
       "      <td>0</td>\n",
       "    </tr>\n",
       "    <tr>\n",
       "      <th>4</th>\n",
       "      <td>Id-14952</td>\n",
       "      <td>[field, service, engineer, life, science, camb...</td>\n",
       "      <td>Permanent</td>\n",
       "      <td>Manufacturing &amp; Operations</td>\n",
       "      <td>0</td>\n",
       "    </tr>\n",
       "  </tbody>\n",
       "</table>\n",
       "</div>\n",
       "      <button class=\"colab-df-convert\" onclick=\"convertToInteractive('df-a38ae14a-74d0-45a1-aaa2-78a97f59864a')\"\n",
       "              title=\"Convert this dataframe to an interactive table.\"\n",
       "              style=\"display:none;\">\n",
       "        \n",
       "  <svg xmlns=\"http://www.w3.org/2000/svg\" height=\"24px\"viewBox=\"0 0 24 24\"\n",
       "       width=\"24px\">\n",
       "    <path d=\"M0 0h24v24H0V0z\" fill=\"none\"/>\n",
       "    <path d=\"M18.56 5.44l.94 2.06.94-2.06 2.06-.94-2.06-.94-.94-2.06-.94 2.06-2.06.94zm-11 1L8.5 8.5l.94-2.06 2.06-.94-2.06-.94L8.5 2.5l-.94 2.06-2.06.94zm10 10l.94 2.06.94-2.06 2.06-.94-2.06-.94-.94-2.06-.94 2.06-2.06.94z\"/><path d=\"M17.41 7.96l-1.37-1.37c-.4-.4-.92-.59-1.43-.59-.52 0-1.04.2-1.43.59L10.3 9.45l-7.72 7.72c-.78.78-.78 2.05 0 2.83L4 21.41c.39.39.9.59 1.41.59.51 0 1.02-.2 1.41-.59l7.78-7.78 2.81-2.81c.8-.78.8-2.07 0-2.86zM5.41 20L4 18.59l7.72-7.72 1.47 1.35L5.41 20z\"/>\n",
       "  </svg>\n",
       "      </button>\n",
       "      \n",
       "  <style>\n",
       "    .colab-df-container {\n",
       "      display:flex;\n",
       "      flex-wrap:wrap;\n",
       "      gap: 12px;\n",
       "    }\n",
       "\n",
       "    .colab-df-convert {\n",
       "      background-color: #E8F0FE;\n",
       "      border: none;\n",
       "      border-radius: 50%;\n",
       "      cursor: pointer;\n",
       "      display: none;\n",
       "      fill: #1967D2;\n",
       "      height: 32px;\n",
       "      padding: 0 0 0 0;\n",
       "      width: 32px;\n",
       "    }\n",
       "\n",
       "    .colab-df-convert:hover {\n",
       "      background-color: #E2EBFA;\n",
       "      box-shadow: 0px 1px 2px rgba(60, 64, 67, 0.3), 0px 1px 3px 1px rgba(60, 64, 67, 0.15);\n",
       "      fill: #174EA6;\n",
       "    }\n",
       "\n",
       "    [theme=dark] .colab-df-convert {\n",
       "      background-color: #3B4455;\n",
       "      fill: #D2E3FC;\n",
       "    }\n",
       "\n",
       "    [theme=dark] .colab-df-convert:hover {\n",
       "      background-color: #434B5C;\n",
       "      box-shadow: 0px 1px 3px 1px rgba(0, 0, 0, 0.15);\n",
       "      filter: drop-shadow(0px 1px 2px rgba(0, 0, 0, 0.3));\n",
       "      fill: #FFFFFF;\n",
       "    }\n",
       "  </style>\n",
       "\n",
       "      <script>\n",
       "        const buttonEl =\n",
       "          document.querySelector('#df-a38ae14a-74d0-45a1-aaa2-78a97f59864a button.colab-df-convert');\n",
       "        buttonEl.style.display =\n",
       "          google.colab.kernel.accessAllowed ? 'block' : 'none';\n",
       "\n",
       "        async function convertToInteractive(key) {\n",
       "          const element = document.querySelector('#df-a38ae14a-74d0-45a1-aaa2-78a97f59864a');\n",
       "          const dataTable =\n",
       "            await google.colab.kernel.invokeFunction('convertToInteractive',\n",
       "                                                     [key], {});\n",
       "          if (!dataTable) return;\n",
       "\n",
       "          const docLinkHtml = 'Like what you see? Visit the ' +\n",
       "            '<a target=\"_blank\" href=https://colab.research.google.com/notebooks/data_table.ipynb>data table notebook</a>'\n",
       "            + ' to learn more about interactive tables.';\n",
       "          element.innerHTML = '';\n",
       "          dataTable['output_type'] = 'display_data';\n",
       "          await google.colab.output.renderOutput(dataTable, element);\n",
       "          const docLink = document.createElement('div');\n",
       "          docLink.innerHTML = docLinkHtml;\n",
       "          element.appendChild(docLink);\n",
       "        }\n",
       "      </script>\n",
       "    </div>\n",
       "  </div>\n",
       "  "
      ],
      "text/plain": [
       "     job_no  ... type_label\n",
       "0  Id-12765  ...          0\n",
       "1  Id-22925  ...          0\n",
       "2   Id-1321  ...          1\n",
       "3   Id-9473  ...          0\n",
       "4  Id-14952  ...          0\n",
       "\n",
       "[5 rows x 5 columns]"
      ]
     },
     "execution_count": 6,
     "metadata": {},
     "output_type": "execute_result"
    }
   ],
   "source": [
    "Job_type = {\n",
    "    'Permanent': 0,\n",
    "    'Contract/Interim': 1,\n",
    "    'Contract/Temp': 2,\n",
    "    'Temporary/Seasonal': 3,\n",
    "    'Any': 4,\n",
    "    'Part-Time': 5\n",
    "}\n",
    "\n",
    "df['type_label'] = df['job_type'].apply(lambda x: Job_type[x])\n",
    "df.head()"
   ]
  },
  {
   "cell_type": "markdown",
   "id": "artificial-confusion",
   "metadata": {
    "id": "3debVWBnLSto"
   },
   "source": [
    "### Split the data\n",
    "##### We divide the data in the ratio of 80/20 into data for training and testing of the model."
   ]
  },
  {
   "cell_type": "code",
   "execution_count": null,
   "id": "solar-chase",
   "metadata": {
    "id": "monetary-childhood"
   },
   "outputs": [],
   "source": [
    "X_train, X_test, Y_train, Y_test = train_test_split(\n",
    "    df['job_description'], \n",
    "    df['type_label'], \n",
    "    test_size = 0.20, \n",
    "    random_state = 42\n",
    ")"
   ]
  },
  {
   "cell_type": "markdown",
   "id": "advance-toner",
   "metadata": {
    "id": "objective-chain"
   },
   "source": [
    "### Vectorization"
   ]
  },
  {
   "cell_type": "code",
   "execution_count": null,
   "id": "pediatric-chrome",
   "metadata": {
    "id": "practical-graphics"
   },
   "outputs": [],
   "source": [
    "# Collect all the tokens of the corpus in a \"dictionary\" \n",
    "tokens = []\n",
    "for lst in df[\"job_description\"]:\n",
    "    tokens += lst\n",
    "    \n",
    "dictionary = list(set(tokens))\n",
    "dictionary.sort()"
   ]
  },
  {
   "cell_type": "code",
   "execution_count": null,
   "id": "finnish-bench",
   "metadata": {
    "id": "logirgGjGkHM"
   },
   "outputs": [],
   "source": [
    "def tokens_to_num(lst):\n",
    "    \"\"\"Returns the numeric representation of the document words (word index in the dictionary).\"\"\"\n",
    "    res = [dictionary.index(i) for i in lst]\n",
    "    return res"
   ]
  },
  {
   "cell_type": "code",
   "execution_count": null,
   "id": "naughty-branch",
   "metadata": {
    "colab": {
     "base_uri": "https://localhost:8080/"
    },
    "id": "statutory-documentation",
    "outputId": "f4493fce-659c-4f6f-f89c-7587eadd7699",
    "scrolled": true
   },
   "outputs": [
    {
     "name": "stdout",
     "output_type": "stream",
     "text": [
      "[xxxxxxxxxxxxxxxxxxxxxxxxxxxxxxxxxxxxxxxxxxxxxxxxxxxxxxxxxxxxxxxxxxxxxxxxxxxxxxxxxxxxxxxxxxxxxxxxxxxx] 100.00%\n",
      "14125/14125 complete\n"
     ]
    }
   ],
   "source": [
    "n = len(X_train)\n",
    "for i in range(n):\n",
    "    lst = X_train.iloc[i]\n",
    "    X_train.iloc[i] = tokens_to_num(lst)\n",
    "    show_percentage(i, n)"
   ]
  },
  {
   "cell_type": "code",
   "execution_count": null,
   "id": "accredited-watch",
   "metadata": {
    "id": "n3_pzFvcLnUh"
   },
   "outputs": [],
   "source": [
    "train_copy = pd.DataFrame([X_train.copy()]).T\n",
    "train_copy[\"y\"] = Y_train.copy()\n",
    "train_copy.to_csv(\"/content/gdrive/MyDrive/practice_nlp_2022/data/tmp_type_train.csv\", index=False)"
   ]
  },
  {
   "cell_type": "code",
   "execution_count": null,
   "id": "handmade-raising",
   "metadata": {
    "colab": {
     "base_uri": "https://localhost:8080/"
    },
    "id": "computational-patio",
    "outputId": "ea0fe32d-b6c1-491f-b16a-66234eb43273"
   },
   "outputs": [
    {
     "name": "stdout",
     "output_type": "stream",
     "text": [
      "[xxxxxxxxxxxxxxxxxxxxxxxxxxxxxxxxxxxxxxxxxxxxxxxxxxxxxxxxxxxxxxxxxxxxxxxxxxxxxxxxxxxxxxxxxxxxxxxxxxxx] 100.00%\n",
      "3532/3532 complete\n"
     ]
    }
   ],
   "source": [
    "n = len(X_test)\n",
    "for i in range(n):\n",
    "    lst = X_test.iloc[i]\n",
    "    X_test.iloc[i] = tokens_to_num(lst)\n",
    "    show_percentage(i, n)"
   ]
  },
  {
   "cell_type": "code",
   "execution_count": null,
   "id": "north-peninsula",
   "metadata": {
    "id": "mKet79MBRakA"
   },
   "outputs": [],
   "source": [
    "test_copy = pd.DataFrame([X_test.copy()]).T\n",
    "test_copy[\"y\"] = Y_test.copy()\n",
    "test_copy.to_csv(\"/content/gdrive/MyDrive/practice_nlp_2022/data/tmp_type_test.csv\", index=False)"
   ]
  },
  {
   "cell_type": "code",
   "execution_count": null,
   "id": "electronic-enough",
   "metadata": {
    "id": "manual-singles"
   },
   "outputs": [],
   "source": [
    "def vectorize_sequences(sequences, dimension=20000):\n",
    "    results = np.zeros((len(sequences), dimension))\n",
    "    for i, sequence in enumerate(sequences):\n",
    "        for j in sequence:\n",
    "            results[i, j] = 1.\n",
    "    return results"
   ]
  },
  {
   "cell_type": "code",
   "execution_count": null,
   "id": "scientific-upgrade",
   "metadata": {
    "id": "demographic-portable"
   },
   "outputs": [],
   "source": [
    "x_train = vectorize_sequences(X_train, len(dictionary))\n",
    "x_test = vectorize_sequences(X_test, len(dictionary))\n",
    "y_train = np.asarray(Y_train).astype(\"float32\")\n",
    "y_test = np.asarray(Y_test).astype(\"float32\")"
   ]
  },
  {
   "cell_type": "markdown",
   "id": "controversial-popularity",
   "metadata": {
    "id": "british-tourism"
   },
   "source": [
    "### Train a fully connected neural network"
   ]
  },
  {
   "cell_type": "code",
   "execution_count": null,
   "id": "modular-librarian",
   "metadata": {
    "colab": {
     "base_uri": "https://localhost:8080/"
    },
    "id": "secret-brand",
    "outputId": "b65f6948-3036-419b-f430-9c2afbb0f3f7"
   },
   "outputs": [
    {
     "name": "stdout",
     "output_type": "stream",
     "text": [
      "Epoch 1/10\n",
      "45/45 - 1s - loss: 0.3782 - accuracy: 0.9005 - val_loss: 0.1596 - val_accuracy: 0.9575 - 1s/epoch - 28ms/step\n",
      "Epoch 2/10\n",
      "45/45 - 1s - loss: 0.0965 - accuracy: 0.9727 - val_loss: 0.0799 - val_accuracy: 0.9763 - 561ms/epoch - 12ms/step\n",
      "Epoch 3/10\n",
      "45/45 - 1s - loss: 0.0473 - accuracy: 0.9872 - val_loss: 0.0562 - val_accuracy: 0.9844 - 566ms/epoch - 13ms/step\n",
      "Epoch 4/10\n",
      "45/45 - 1s - loss: 0.0298 - accuracy: 0.9931 - val_loss: 0.0424 - val_accuracy: 0.9915 - 554ms/epoch - 12ms/step\n",
      "Epoch 5/10\n",
      "45/45 - 1s - loss: 0.0217 - accuracy: 0.9950 - val_loss: 0.0397 - val_accuracy: 0.9883 - 570ms/epoch - 13ms/step\n",
      "Epoch 6/10\n",
      "45/45 - 1s - loss: 0.0167 - accuracy: 0.9961 - val_loss: 0.0358 - val_accuracy: 0.9897 - 562ms/epoch - 12ms/step\n",
      "Epoch 7/10\n",
      "45/45 - 1s - loss: 0.0138 - accuracy: 0.9966 - val_loss: 0.0305 - val_accuracy: 0.9940 - 559ms/epoch - 12ms/step\n",
      "Epoch 8/10\n",
      "45/45 - 1s - loss: 0.0116 - accuracy: 0.9971 - val_loss: 0.0341 - val_accuracy: 0.9915 - 599ms/epoch - 13ms/step\n",
      "Epoch 9/10\n",
      "45/45 - 1s - loss: 0.0115 - accuracy: 0.9965 - val_loss: 0.0303 - val_accuracy: 0.9915 - 554ms/epoch - 12ms/step\n",
      "Epoch 10/10\n",
      "45/45 - 1s - loss: 0.0095 - accuracy: 0.9978 - val_loss: 0.0303 - val_accuracy: 0.9933 - 545ms/epoch - 12ms/step\n"
     ]
    }
   ],
   "source": [
    "# create a model of a fully connected neural network with two layers\n",
    "# at the output we get a vector with the distribution of probabilities of \n",
    "# belonging of the described job to one or another type \n",
    "\n",
    "model_type = keras.Sequential([\n",
    "    layers.Dense(64, activation = \"relu\"),\n",
    "    layers.Dense(6, activation = \"softmax\")\n",
    "])\n",
    "\n",
    "model_type.compile(\n",
    "    optimizer = \"adam\",\n",
    "    loss = \"sparse_categorical_crossentropy\",\n",
    "    metrics = [\"accuracy\"]\n",
    ")\n",
    "\n",
    "history = model_type.fit(\n",
    "    x_train,\n",
    "    y_train,\n",
    "    epochs = 10,\n",
    "    batch_size = 256,\n",
    "    validation_split = 0.2,\n",
    "    shuffle = True,\n",
    "    verbose = 2\n",
    ")"
   ]
  },
  {
   "cell_type": "code",
   "execution_count": null,
   "id": "boxed-sheffield",
   "metadata": {
    "colab": {
     "base_uri": "https://localhost:8080/"
    },
    "id": "first-worse",
    "outputId": "0123aca3-1f08-49e9-a2e9-b704a9b62901"
   },
   "outputs": [
    {
     "name": "stdout",
     "output_type": "stream",
     "text": [
      "Model: \"sequential_1\"\n",
      "_________________________________________________________________\n",
      " Layer (type)                Output Shape              Param #   \n",
      "=================================================================\n",
      " dense_2 (Dense)             (None, 64)                1036096   \n",
      "                                                                 \n",
      " dense_3 (Dense)             (None, 6)                 390       \n",
      "                                                                 \n",
      "=================================================================\n",
      "Total params: 1,036,486\n",
      "Trainable params: 1,036,486\n",
      "Non-trainable params: 0\n",
      "_________________________________________________________________\n"
     ]
    }
   ],
   "source": [
    "model_type.summary()"
   ]
  },
  {
   "cell_type": "code",
   "execution_count": null,
   "id": "outside-termination",
   "metadata": {
    "id": "f36Nx_yOT00b"
   },
   "outputs": [],
   "source": [
    "def loss_plot(history):\n",
    "    history_dict = history.history\n",
    "    loss_values = history_dict[\"loss\"]\n",
    "    val_loss_values = history_dict[\"val_loss\"]\n",
    "    epochs = range(1, len(loss_values) + 1)\n",
    "    plt.plot(epochs, loss_values, \"bo\", label=\"Training loss\")\n",
    "    plt.plot(epochs, val_loss_values, \"b\", label=\"Validation loss\")\n",
    "    plt.title(\"Training and validation loss\")\n",
    "    plt.xlabel(\"Epochs\")\n",
    "    plt.ylabel(\"Loss\")\n",
    "    plt.legend()\n",
    "    plt.show()"
   ]
  },
  {
   "cell_type": "code",
   "execution_count": null,
   "id": "constitutional-panama",
   "metadata": {
    "colab": {
     "base_uri": "https://localhost:8080/",
     "height": 295
    },
    "id": "beautiful-nightlife",
    "outputId": "3c73af54-e735-4948-e851-b7cc2debf349"
   },
   "outputs": [
    {
     "data": {
      "image/png": "[encoded data removed]",
      "text/plain": [
       "<Figure size 432x288 with 1 Axes>"
      ]
     },
     "metadata": {
      "needs_background": "light"
     },
     "output_type": "display_data"
    }
   ],
   "source": [
    "loss_plot(history)"
   ]
  },
  {
   "cell_type": "code",
   "execution_count": null,
   "id": "norwegian-timber",
   "metadata": {
    "colab": {
     "base_uri": "https://localhost:8080/"
    },
    "id": "young-starter",
    "outputId": "fed1b0fc-0aea-4d72-f905-25555bd7872f"
   },
   "outputs": [
    {
     "name": "stdout",
     "output_type": "stream",
     "text": [
      "Test score: 0.03889083489775658\n",
      "Test accuracy: 0.9903737306594849\n"
     ]
    }
   ],
   "source": [
    "score = model_type.evaluate(x_test, y_test, verbose=0) \n",
    "print('Test score:', score[0]) \n",
    "print('Test accuracy:', score[1])"
   ]
  },
  {
   "cell_type": "markdown",
   "id": "inside-pollution",
   "metadata": {
    "id": "violent-solution"
   },
   "source": [
    "### Category"
   ]
  },
  {
   "cell_type": "code",
   "execution_count": null,
   "id": "strategic-danish",
   "metadata": {
    "colab": {
     "base_uri": "https://localhost:8080/",
     "height": 206
    },
    "id": "pressed-theorem",
    "outputId": "69d427bb-44d0-47cc-f9f8-9893eb58b75e"
   },
   "outputs": [
    {
     "data": {
      "text/html": [
       "\n",
       "  <div id=\"df-22e6f232-a7f0-4859-bce6-57f4007e95b4\">\n",
       "    <div class=\"colab-df-container\">\n",
       "      <div>\n",
       "<style scoped>\n",
       "    .dataframe tbody tr th:only-of-type {\n",
       "        vertical-align: middle;\n",
       "    }\n",
       "\n",
       "    .dataframe tbody tr th {\n",
       "        vertical-align: top;\n",
       "    }\n",
       "\n",
       "    .dataframe thead th {\n",
       "        text-align: right;\n",
       "    }\n",
       "</style>\n",
       "<table border=\"1\" class=\"dataframe\">\n",
       "  <thead>\n",
       "    <tr style=\"text-align: right;\">\n",
       "      <th></th>\n",
       "      <th>job_no</th>\n",
       "      <th>job_description</th>\n",
       "      <th>job_type</th>\n",
       "      <th>category</th>\n",
       "      <th>category_label</th>\n",
       "    </tr>\n",
       "  </thead>\n",
       "  <tbody>\n",
       "    <tr>\n",
       "      <th>0</th>\n",
       "      <td>Id-12765</td>\n",
       "      <td>[zest, scientific, searching, accomplished, sc...</td>\n",
       "      <td>Permanent</td>\n",
       "      <td>Pharmaceutical, Healthcare and Medical Sales</td>\n",
       "      <td>0</td>\n",
       "    </tr>\n",
       "    <tr>\n",
       "      <th>1</th>\n",
       "      <td>Id-22925</td>\n",
       "      <td>[world, typical, cro, company, making, wave, b...</td>\n",
       "      <td>Permanent</td>\n",
       "      <td>Clinical Research</td>\n",
       "      <td>1</td>\n",
       "    </tr>\n",
       "    <tr>\n",
       "      <th>2</th>\n",
       "      <td>Id-1321</td>\n",
       "      <td>[asha, mistry, umbilical, life, recruiting, ex...</td>\n",
       "      <td>Contract/Interim</td>\n",
       "      <td>Pharmaceutical Marketing</td>\n",
       "      <td>2</td>\n",
       "    </tr>\n",
       "    <tr>\n",
       "      <th>3</th>\n",
       "      <td>Id-9473</td>\n",
       "      <td>[sale, representative, laser, der, medizintech...</td>\n",
       "      <td>Permanent</td>\n",
       "      <td>Pharmaceutical, Healthcare and Medical Sales</td>\n",
       "      <td>0</td>\n",
       "    </tr>\n",
       "    <tr>\n",
       "      <th>4</th>\n",
       "      <td>Id-14952</td>\n",
       "      <td>[field, service, engineer, life, science, camb...</td>\n",
       "      <td>Permanent</td>\n",
       "      <td>Manufacturing &amp; Operations</td>\n",
       "      <td>3</td>\n",
       "    </tr>\n",
       "  </tbody>\n",
       "</table>\n",
       "</div>\n",
       "      <button class=\"colab-df-convert\" onclick=\"convertToInteractive('df-22e6f232-a7f0-4859-bce6-57f4007e95b4')\"\n",
       "              title=\"Convert this dataframe to an interactive table.\"\n",
       "              style=\"display:none;\">\n",
       "        \n",
       "  <svg xmlns=\"http://www.w3.org/2000/svg\" height=\"24px\"viewBox=\"0 0 24 24\"\n",
       "       width=\"24px\">\n",
       "    <path d=\"M0 0h24v24H0V0z\" fill=\"none\"/>\n",
       "    <path d=\"M18.56 5.44l.94 2.06.94-2.06 2.06-.94-2.06-.94-.94-2.06-.94 2.06-2.06.94zm-11 1L8.5 8.5l.94-2.06 2.06-.94-2.06-.94L8.5 2.5l-.94 2.06-2.06.94zm10 10l.94 2.06.94-2.06 2.06-.94-2.06-.94-.94-2.06-.94 2.06-2.06.94z\"/><path d=\"M17.41 7.96l-1.37-1.37c-.4-.4-.92-.59-1.43-.59-.52 0-1.04.2-1.43.59L10.3 9.45l-7.72 7.72c-.78.78-.78 2.05 0 2.83L4 21.41c.39.39.9.59 1.41.59.51 0 1.02-.2 1.41-.59l7.78-7.78 2.81-2.81c.8-.78.8-2.07 0-2.86zM5.41 20L4 18.59l7.72-7.72 1.47 1.35L5.41 20z\"/>\n",
       "  </svg>\n",
       "      </button>\n",
       "      \n",
       "  <style>\n",
       "    .colab-df-container {\n",
       "      display:flex;\n",
       "      flex-wrap:wrap;\n",
       "      gap: 12px;\n",
       "    }\n",
       "\n",
       "    .colab-df-convert {\n",
       "      background-color: #E8F0FE;\n",
       "      border: none;\n",
       "      border-radius: 50%;\n",
       "      cursor: pointer;\n",
       "      display: none;\n",
       "      fill: #1967D2;\n",
       "      height: 32px;\n",
       "      padding: 0 0 0 0;\n",
       "      width: 32px;\n",
       "    }\n",
       "\n",
       "    .colab-df-convert:hover {\n",
       "      background-color: #E2EBFA;\n",
       "      box-shadow: 0px 1px 2px rgba(60, 64, 67, 0.3), 0px 1px 3px 1px rgba(60, 64, 67, 0.15);\n",
       "      fill: #174EA6;\n",
       "    }\n",
       "\n",
       "    [theme=dark] .colab-df-convert {\n",
       "      background-color: #3B4455;\n",
       "      fill: #D2E3FC;\n",
       "    }\n",
       "\n",
       "    [theme=dark] .colab-df-convert:hover {\n",
       "      background-color: #434B5C;\n",
       "      box-shadow: 0px 1px 3px 1px rgba(0, 0, 0, 0.15);\n",
       "      filter: drop-shadow(0px 1px 2px rgba(0, 0, 0, 0.3));\n",
       "      fill: #FFFFFF;\n",
       "    }\n",
       "  </style>\n",
       "\n",
       "      <script>\n",
       "        const buttonEl =\n",
       "          document.querySelector('#df-22e6f232-a7f0-4859-bce6-57f4007e95b4 button.colab-df-convert');\n",
       "        buttonEl.style.display =\n",
       "          google.colab.kernel.accessAllowed ? 'block' : 'none';\n",
       "\n",
       "        async function convertToInteractive(key) {\n",
       "          const element = document.querySelector('#df-22e6f232-a7f0-4859-bce6-57f4007e95b4');\n",
       "          const dataTable =\n",
       "            await google.colab.kernel.invokeFunction('convertToInteractive',\n",
       "                                                     [key], {});\n",
       "          if (!dataTable) return;\n",
       "\n",
       "          const docLinkHtml = 'Like what you see? Visit the ' +\n",
       "            '<a target=\"_blank\" href=https://colab.research.google.com/notebooks/data_table.ipynb>data table notebook</a>'\n",
       "            + ' to learn more about interactive tables.';\n",
       "          element.innerHTML = '';\n",
       "          dataTable['output_type'] = 'display_data';\n",
       "          await google.colab.output.renderOutput(dataTable, element);\n",
       "          const docLink = document.createElement('div');\n",
       "          docLink.innerHTML = docLinkHtml;\n",
       "          element.appendChild(docLink);\n",
       "        }\n",
       "      </script>\n",
       "    </div>\n",
       "  </div>\n",
       "  "
      ],
      "text/plain": [
       "     job_no  ... category_label\n",
       "0  Id-12765  ...              0\n",
       "1  Id-22925  ...              1\n",
       "2   Id-1321  ...              2\n",
       "3   Id-9473  ...              0\n",
       "4  Id-14952  ...              3\n",
       "\n",
       "[5 rows x 5 columns]"
      ]
     },
     "execution_count": 8,
     "metadata": {},
     "output_type": "execute_result"
    }
   ],
   "source": [
    "Category = {\n",
    "    'Pharmaceutical, Healthcare and Medical Sales':0,\n",
    "    'Clinical Research':1,\n",
    "    'Pharmaceutical Marketing':2,\n",
    "    'Manufacturing & Operations':3,\n",
    "    'Science':4,\n",
    "    'Medical Affairs / Pharmaceutical Physician':5,\n",
    "    'Regulatory Affairs':6,\n",
    "    'Medical Information and Pharmacovigilance':7,\n",
    "    'Data Management and Statistics':8,\n",
    "    'Quality-assurance':9,\n",
    "    'Pharmacy':10\n",
    "    }\n",
    "\n",
    "df['category_label'] = df['category'].apply(lambda x: Category[x])\n",
    "df.head()"
   ]
  },
  {
   "cell_type": "code",
   "execution_count": null,
   "id": "current-british",
   "metadata": {
    "id": "bridal-eligibility"
   },
   "outputs": [],
   "source": [
    "X_train, X_test, Y_train, Y_test = train_test_split(\n",
    "    df['job_description'], \n",
    "    df['category_label'], \n",
    "    test_size=0.20, \n",
    "    random_state=42\n",
    ")"
   ]
  },
  {
   "cell_type": "code",
   "execution_count": null,
   "id": "daily-anatomy",
   "metadata": {
    "colab": {
     "base_uri": "https://localhost:8080/"
    },
    "id": "forbidden-spirit",
    "outputId": "55a5e761-e8b6-4622-f0e1-0dab44c82678"
   },
   "outputs": [
    {
     "name": "stdout",
     "output_type": "stream",
     "text": [
      "[xxxxxxxxxxxxxxxxxxxxxxxxxxxxxxxxxxxxxxxxxxxxxxxxxxxxxxxxxxxxxxxxxxxxxxxxxxxxxxxxxxxxxxxxxxxxxxxxxxxx] 100.00%\n",
      "14125/14125 complete\n"
     ]
    }
   ],
   "source": [
    "for i in range(len(X_train)):\n",
    "    lst = X_train.iloc[i]\n",
    "    X_train.iloc[i] = tokens_to_num(lst)\n",
    "    show_percentage(i, len(X_train))"
   ]
  },
  {
   "cell_type": "code",
   "execution_count": null,
   "id": "coastal-adams",
   "metadata": {
    "id": "FIPeXlE3mgr6"
   },
   "outputs": [],
   "source": [
    "train_copy = pd.DataFrame([X_train.copy()]).T\n",
    "train_copy[\"y\"] = Y_train.copy()\n",
    "train_copy.to_csv(\"/content/gdrive/MyDrive/practice_nlp_2022/data/tmp_category_train.csv\", index=False)"
   ]
  },
  {
   "cell_type": "code",
   "execution_count": null,
   "id": "laden-senior",
   "metadata": {
    "colab": {
     "base_uri": "https://localhost:8080/"
    },
    "id": "generic-seventh",
    "outputId": "71883d9a-67e7-4e6d-8ba2-848b3a78f076"
   },
   "outputs": [
    {
     "name": "stdout",
     "output_type": "stream",
     "text": [
      "[xxxxxxxxxxxxxxxxxxxxxxxxxxxxxxxxxxxxxxxxxxxxxxxxxxxxxxxxxxxxxxxxxxxxxxxxxxxxxxxxxxxxxxxxxxxxxxxxxxxx] 100.00%\n",
      "3532/3532 complete\n"
     ]
    }
   ],
   "source": [
    "for i in range(len(X_test)):\n",
    "    lst = X_test.iloc[i]\n",
    "    X_test.iloc[i] = tokens_to_num(lst)\n",
    "    show_percentage(i, len(X_test))"
   ]
  },
  {
   "cell_type": "code",
   "execution_count": null,
   "id": "silent-overhead",
   "metadata": {
    "id": "uYDRIpcan5A4"
   },
   "outputs": [],
   "source": [
    "test_copy = pd.DataFrame([X_test.copy()]).T\n",
    "test_copy[\"y\"] = Y_test.copy()\n",
    "test_copy.to_csv(\"/content/gdrive/MyDrive/practice_nlp_2022/data/tmp_category_test.csv\", index=False)"
   ]
  },
  {
   "cell_type": "code",
   "execution_count": null,
   "id": "operational-collect",
   "metadata": {
    "id": "former-footage"
   },
   "outputs": [],
   "source": [
    "x_train = vectorize_sequences(X_train, len(dictionary))\n",
    "x_test = vectorize_sequences(X_test, len(dictionary))\n",
    "y_train = np.asarray(Y_train).astype(\"float32\")\n",
    "y_test = np.asarray(Y_test).astype(\"float32\")"
   ]
  },
  {
   "cell_type": "code",
   "execution_count": null,
   "id": "little-involvement",
   "metadata": {
    "colab": {
     "base_uri": "https://localhost:8080/"
    },
    "id": "superb-cooperative",
    "outputId": "4e3b8d82-c670-4a00-ecfe-48bafc075855"
   },
   "outputs": [
    {
     "name": "stdout",
     "output_type": "stream",
     "text": [
      "Epoch 1/10\n",
      "45/45 - 1s - loss: 1.5243 - accuracy: 0.4615 - val_loss: 1.1922 - val_accuracy: 0.5423 - 1s/epoch - 25ms/step\n",
      "Epoch 2/10\n",
      "45/45 - 1s - loss: 0.9853 - accuracy: 0.6182 - val_loss: 1.0659 - val_accuracy: 0.5664 - 537ms/epoch - 12ms/step\n",
      "Epoch 3/10\n",
      "45/45 - 1s - loss: 0.8286 - accuracy: 0.6555 - val_loss: 1.0269 - val_accuracy: 0.5749 - 519ms/epoch - 12ms/step\n",
      "Epoch 4/10\n",
      "45/45 - 1s - loss: 0.7494 - accuracy: 0.6857 - val_loss: 1.0178 - val_accuracy: 0.5784 - 544ms/epoch - 12ms/step\n",
      "Epoch 5/10\n",
      "45/45 - 1s - loss: 0.7077 - accuracy: 0.6911 - val_loss: 1.0206 - val_accuracy: 0.5773 - 524ms/epoch - 12ms/step\n",
      "Epoch 6/10\n",
      "45/45 - 1s - loss: 0.6712 - accuracy: 0.7008 - val_loss: 1.0356 - val_accuracy: 0.5738 - 531ms/epoch - 12ms/step\n",
      "Epoch 7/10\n",
      "45/45 - 1s - loss: 0.6524 - accuracy: 0.7038 - val_loss: 1.0620 - val_accuracy: 0.5604 - 519ms/epoch - 12ms/step\n",
      "Epoch 8/10\n",
      "45/45 - 1s - loss: 0.6341 - accuracy: 0.7082 - val_loss: 1.0675 - val_accuracy: 0.5731 - 523ms/epoch - 12ms/step\n",
      "Epoch 9/10\n",
      "45/45 - 1s - loss: 0.6118 - accuracy: 0.7115 - val_loss: 1.0878 - val_accuracy: 0.5642 - 567ms/epoch - 13ms/step\n",
      "Epoch 10/10\n",
      "45/45 - 1s - loss: 0.6062 - accuracy: 0.7110 - val_loss: 1.0974 - val_accuracy: 0.5752 - 510ms/epoch - 11ms/step\n"
     ]
    }
   ],
   "source": [
    "model_category = keras.Sequential([\n",
    "    layers.Dense(64, activation = \"relu\"),\n",
    "    layers.Dense(11, activation = \"softmax\")\n",
    "])\n",
    "\n",
    "model_category.compile(\n",
    "    optimizer = \"adam\",\n",
    "    loss = \"sparse_categorical_crossentropy\",\n",
    "    metrics = [\"accuracy\"]\n",
    ")\n",
    "\n",
    "history = model_category.fit(\n",
    "    x_train,\n",
    "    y_train,\n",
    "    epochs = 10,\n",
    "    batch_size = 256,\n",
    "    validation_split = 0.2,\n",
    "    shuffle = True,\n",
    "    verbose = 2\n",
    ")"
   ]
  },
  {
   "cell_type": "code",
   "execution_count": null,
   "id": "pressed-breach",
   "metadata": {
    "colab": {
     "base_uri": "https://localhost:8080/"
    },
    "id": "eastern-treasury",
    "outputId": "576e0246-1256-41dc-e9ad-a9a57a8caa9c"
   },
   "outputs": [
    {
     "name": "stdout",
     "output_type": "stream",
     "text": [
      "Model: \"sequential_1\"\n",
      "_________________________________________________________________\n",
      " Layer (type)                Output Shape              Param #   \n",
      "=================================================================\n",
      " dense_2 (Dense)             (None, 64)                1036096   \n",
      "                                                                 \n",
      " dense_3 (Dense)             (None, 11)                715       \n",
      "                                                                 \n",
      "=================================================================\n",
      "Total params: 1,036,811\n",
      "Trainable params: 1,036,811\n",
      "Non-trainable params: 0\n",
      "_________________________________________________________________\n"
     ]
    }
   ],
   "source": [
    "model_category.summary()"
   ]
  },
  {
   "cell_type": "code",
   "execution_count": null,
   "id": "speaking-midwest",
   "metadata": {
    "colab": {
     "base_uri": "https://localhost:8080/",
     "height": 295
    },
    "id": "perceived-method",
    "outputId": "43fe656c-3bc6-4055-b599-4c170ad2078f"
   },
   "outputs": [
    {
     "data": {
      "image/png": "[encoded data removed]",
      "text/plain": [
       "<Figure size 432x288 with 1 Axes>"
      ]
     },
     "metadata": {
      "needs_background": "light"
     },
     "output_type": "display_data"
    }
   ],
   "source": [
    "loss_plot(history)"
   ]
  },
  {
   "cell_type": "code",
   "execution_count": null,
   "id": "successful-approval",
   "metadata": {
    "colab": {
     "base_uri": "https://localhost:8080/"
    },
    "id": "legendary-reset",
    "outputId": "e7941b9e-22b8-42f3-aa2b-de1170946f4e"
   },
   "outputs": [
    {
     "name": "stdout",
     "output_type": "stream",
     "text": [
      "Test score: 1.0669363737106323\n",
      "Test accuracy: 0.5789920687675476\n"
     ]
    }
   ],
   "source": [
    "score = model_category.evaluate(x_test, y_test, verbose=0) \n",
    "print('Test score:', score[0]) \n",
    "print('Test accuracy:', score[1])"
   ]
  },
  {
   "cell_type": "code",
   "execution_count": null,
   "id": "dying-joshua",
   "metadata": {
    "id": "derived-discount"
   },
   "outputs": [],
   "source": []
  }
 ],
 "metadata": {
  "accelerator": "GPU",
  "colab": {
   "collapsed_sections": [],
   "name": "step_2.ipynb",
   "provenance": []
  },
  "kernelspec": {
   "display_name": "Python 3",
   "language": "python",
   "name": "python3"
  },
  "language_info": {
   "codemirror_mode": {
    "name": "ipython",
    "version": 3
   },
   "file_extension": ".py",
   "mimetype": "text/x-python",
   "name": "python",
   "nbconvert_exporter": "python",
   "pygments_lexer": "ipython3",
   "version": "3.8.10"
  }
 },
 "nbformat": 4,
 "nbformat_minor": 5
}
