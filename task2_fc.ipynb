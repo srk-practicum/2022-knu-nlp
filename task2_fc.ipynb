{
 "cells": [
  {
   "cell_type": "code",
   "execution_count": 25,
   "id": "c99f141a",
   "metadata": {},
   "outputs": [],
   "source": [
    "#importing all necessary modules \n",
    "\n",
    "import pandas as pd\n",
    "from nltk.corpus import stopwords\n",
    "from nltk.tokenize import word_tokenize\n",
    "from nltk.stem import PorterStemmer, WordNetLemmatizer\n",
    "\n",
    "import re, string\n",
    "import numpy as np\n",
    "\n",
    "import tensorflow as tf\n",
    "from tensorflow import keras\n",
    "from tensorflow.keras import layers\n",
    "import matplotlib.pyplot as plt"
   ]
  },
  {
   "cell_type": "code",
   "execution_count": 26,
   "id": "e3b91733",
   "metadata": {},
   "outputs": [],
   "source": [
    "# adding the training urls\n",
    "\n",
    "train_url = 'https://drive.google.com/file/d/1F1fDHnvDMEopHYaulMQYNy1SCpEenoFr/view?usp=sharing'\n",
    "train_url_ = 'https://drive.google.com/uc?id=' + train_url.split('/')[-2]"
   ]
  },
  {
   "cell_type": "code",
   "execution_count": 27,
   "id": "150dfbcd",
   "metadata": {},
   "outputs": [],
   "source": [
    "# adding the testing urls\n",
    "\n",
    "test_url = 'https://drive.google.com/file/d/1Jg3l_AmdkfEIIiLAuwlwyybpXYt93Vvp/view?usp=sharing'\n",
    "test_url_ = 'https://drive.google.com/uc?id=' + test_url.split('/')[-2]"
   ]
  },
  {
   "cell_type": "code",
   "execution_count": 28,
   "id": "fd26af36",
   "metadata": {},
   "outputs": [
    {
     "name": "stdout",
     "output_type": "stream",
     "text": [
      "my training link: https://drive.google.com/uc?id=1F1fDHnvDMEopHYaulMQYNy1SCpEenoFr\n",
      "my testing link: https://drive.google.com/uc?id=1Jg3l_AmdkfEIIiLAuwlwyybpXYt93Vvp\n"
     ]
    }
   ],
   "source": [
    "print('my training link:', train_url_)\n",
    "print('my testing link:', test_url_)"
   ]
  },
  {
   "cell_type": "code",
   "execution_count": 29,
   "id": "57a87778",
   "metadata": {},
   "outputs": [
    {
     "name": "stdout",
     "output_type": "stream",
     "text": [
      "               0                                                  1\n",
      "0     __label__0  study interventions are recombinant CD40-ligan...\n",
      "1     __label__0  study interventions are Liposomal doxorubicin ...\n",
      "2     __label__0  study interventions are BI 836909 . multiple m...\n",
      "3     __label__0  study interventions are Immunoglobulins . recu...\n",
      "4     __label__0  study interventions are Paclitaxel . stage ova...\n",
      "...          ...                                                ...\n",
      "9902  __label__1  study interventions are Pazopanib . carcinoma ...\n",
      "9903  __label__1  study interventions are Dexamethasone 21-phosp...\n",
      "9904  __label__1  study interventions are Camptothecin . rectal ...\n",
      "9905  __label__1  study interventions are Cyclophosphamide . sta...\n",
      "9906  __label__1  study interventions are Cyclophosphamide . lym...\n",
      "\n",
      "[9907 rows x 2 columns]\n",
      "['__label__0', '__label__0', '__label__0', '__label__0', '__label__0']\n"
     ]
    }
   ],
   "source": [
    "# reading the files\n",
    "\n",
    "df_train = pd.read_csv(train_url_, header= None) # got the dataframe\n",
    "df_test = pd.read_csv(test_url_, header= None)\n",
    "\n",
    "print(df_train)\n",
    "print(list(df_train[0])[:5])\n"
   ]
  },
  {
   "cell_type": "code",
   "execution_count": 30,
   "id": "c1101de4",
   "metadata": {},
   "outputs": [
    {
     "name": "stdout",
     "output_type": "stream",
     "text": [
      "<class 'pandas.core.series.Series'> \n",
      " 0    study interventions are recombinant CD40-ligan...\n",
      "1    study interventions are Liposomal doxorubicin ...\n",
      "2    study interventions are BI 836909 . multiple m...\n",
      "3    study interventions are Immunoglobulins . recu...\n",
      "4    study interventions are Paclitaxel . stage ova...\n",
      "Name: 1, dtype: object\n"
     ]
    }
   ],
   "source": [
    "# the second column is responsible fot the text we need (so we take df_train[1])\n",
    "\n",
    "train_data_set = df_train[1]\n",
    "test_data_set = df_test[1]\n",
    "\n",
    "print(type(train_data_set),'\\n', train_data_set[:5])"
   ]
  },
  {
   "cell_type": "code",
   "execution_count": 31,
   "id": "de2af649",
   "metadata": {},
   "outputs": [
    {
     "name": "stdout",
     "output_type": "stream",
     "text": [
      "<class 'list'> 9907\n",
      "<class 'list'>\n",
      "<class 'numpy.ndarray'> [0. 0. 0. ... 1. 1. 1.]\n"
     ]
    }
   ],
   "source": [
    "# working with labels or with the first column in order to the program to distinguish labels\n",
    "\n",
    "train_label = []\n",
    "test_label = []\n",
    "\n",
    "for label in list(df_train[0]):\n",
    "    if label == '__label__0':\n",
    "        train_label.append(0)\n",
    "    if label == '__label__1':\n",
    "        train_label.append(1)\n",
    "\n",
    "for label_test in list(df_test[0]):\n",
    "    if label_test == '__label__0':\n",
    "        test_label.append(0)\n",
    "    if label_test == '__label__1':\n",
    "        test_label.append(1)\n",
    "\n",
    "print(type(train_label), len(train_label))\n",
    "print(type(test_label))\n",
    "\n",
    "y_train = np.asarray(train_label).astype(\"float32\")\n",
    "y_test = np.asarray(test_label).astype(\"float32\")\n",
    "\n",
    "print(type(y_train), y_train)"
   ]
  },
  {
   "cell_type": "code",
   "execution_count": 32,
   "id": "fc88b1d0",
   "metadata": {},
   "outputs": [
    {
     "name": "stdout",
     "output_type": "stream",
     "text": [
      "For example we received the clean train text:  \n",
      " <class 'pandas.core.series.Series'> \n",
      " 0    study interventions recombinant cd ligand mela...\n",
      "1    study interventions liposomal doxorubicin colo...\n",
      "2    study interventions bi multiple myeloma diagno...\n",
      "3    study interventions immunoglobulins recurrent ...\n",
      "4    study interventions paclitaxel stage ovarian c...\n",
      "Name: 1, dtype: object\n"
     ]
    }
   ],
   "source": [
    "stop_words = stopwords.words(\"english\")\n",
    "\n",
    "#cleaning the text from punctuation and other things\n",
    "\n",
    "def cleaning(data):\n",
    "    \n",
    "    filtered = re.sub(\"@\\S+\", \" \", data)  # remove mentions\n",
    "    filtered = re.sub(\"https*\\S+\", \" \", filtered) # remove urls\n",
    "    filtered = re.sub(\"#\\S+\", \" \", filtered) # remove hashtags\n",
    "    filtered = re.sub(\"\\d\", \" \", filtered) # remove all numbers\n",
    "    filtered = re.sub('[%s]' % re.escape(string.punctuation), ' ', filtered)  # remove punctuation\n",
    "    filtered = re.sub('\\n', ' ', filtered) # remove new lines       \n",
    "    filtered = re.sub('\\s{2,}',' ', filtered) # remove extra spaces\n",
    "    \n",
    "    filtered = filtered.lower()\n",
    "    \n",
    "    filtered = ' '.join([word for word in filtered.split(' ') if word not in stop_words])\n",
    "    return filtered\n",
    "\n",
    "cleaned_train = train_data_set.apply(cleaning)\n",
    "cleaned_test = test_data_set.apply(cleaning)\n",
    "\n",
    "print('For example we received the clean train text: ','\\n', type(cleaned_train),'\\n', cleaned_train[:5])"
   ]
  },
  {
   "cell_type": "code",
   "execution_count": 33,
   "id": "fcfe5c85",
   "metadata": {},
   "outputs": [],
   "source": [
    "# train and test data concatenation (type -- string)\n",
    "\n",
    "train_in_string = ''\n",
    "for i in cleaned_train:\n",
    "    train_in_string += (' ' + i)\n",
    "    \n",
    "test_in_string = ''\n",
    "for j in cleaned_test:\n",
    "    test_in_string += (' ' + j)\n",
    "    \n",
    "all_data = train_in_string + test_in_string"
   ]
  },
  {
   "cell_type": "code",
   "execution_count": 34,
   "id": "c53f88c0",
   "metadata": {},
   "outputs": [
    {
     "name": "stdout",
     "output_type": "stream",
     "text": [
      "x_train_data type: <class 'pandas.core.series.Series'>\n",
      "x_test_data type: <class 'pandas.core.series.Series'>\n"
     ]
    }
   ],
   "source": [
    "# Tokenization\n",
    "tokenization = word_tokenize(all_data)\n",
    "\n",
    "#Lemmatization \n",
    "lemmatizer = WordNetLemmatizer()\n",
    "lemmatized_all_data = [lemmatizer.lemmatize(t) for t in tokenization]\n",
    "\n",
    "dictionary = list(set(lemmatized_all_data))\n",
    "\n",
    "def lemmatization(data):\n",
    "\n",
    "    data = data.lower()\n",
    "    tokens = word_tokenize(data)\n",
    "    lemmatized = [lemmatizer.lemmatize(l) for l in tokens]\n",
    "    res = [dictionary.index(i) for i in lemmatized]\n",
    "    return res\n",
    "\n",
    "\n",
    "x_train_data = cleaned_train.apply(lemmatization)\n",
    "x_test_data = cleaned_test.apply(lemmatization)\n",
    "\n",
    "print('x_train_data type:', type(x_train_data))\n",
    "print('x_test_data type:', type(x_test_data))\n"
   ]
  },
  {
   "cell_type": "code",
   "execution_count": 44,
   "id": "b1a9a01e",
   "metadata": {},
   "outputs": [],
   "source": [
    "# this performs kind of vectorization \n",
    "\n",
    "# generate zeros, iterates over all sequences and indexes in seq\n",
    "# iterates oves nested seq and assignes 1 to i-seq om j-position \n",
    "\n",
    "def vectorizing(sequences, dimension=10000):\n",
    "  \n",
    "    results = np.zeros((len(sequences), dimension))\n",
    "    # print('seq', sequences)\n",
    "    for i, sequence in enumerate(sequences):\n",
    "        # print(i)\n",
    "        # print(sequence )\n",
    "        for j in sequence:\n",
    "           #  print(j)\n",
    "            results[i, j] = 1.\n",
    "    return results"
   ]
  },
  {
   "cell_type": "code",
   "execution_count": 45,
   "id": "35c55d4d",
   "metadata": {},
   "outputs": [
    {
     "name": "stdout",
     "output_type": "stream",
     "text": [
      "<class 'numpy.ndarray'> 9907\n",
      "<class 'numpy.ndarray'> 26\n"
     ]
    }
   ],
   "source": [
    "# applying the function \n",
    "\n",
    "train_vect = vectorizing(x_train_data)\n",
    "test_vect = vectorizing(x_test_data)\n",
    "\n",
    "\n",
    "print(type(train_vect), len(train_vect))\n",
    "print(type(test_vect), len(test_vect))# great!"
   ]
  },
  {
   "cell_type": "code",
   "execution_count": 46,
   "id": "92c92ea0",
   "metadata": {},
   "outputs": [],
   "source": [
    "# creating the first model ever :)\n",
    "\n",
    "the_first_model = tf.keras.Sequential([\n",
    "    layers.Dense(8, activation=\"relu\"),\n",
    "    layers.Dense(16, activation=\"relu\"),\n",
    "    layers.Dense(1, activation=\"sigmoid\")\n",
    "])"
   ]
  },
  {
   "cell_type": "code",
   "execution_count": 47,
   "id": "784d90b0",
   "metadata": {},
   "outputs": [
    {
     "name": "stdout",
     "output_type": "stream",
     "text": [
      "<class 'numpy.ndarray'> 9907\n",
      "<class 'numpy.ndarray'> 9907\n"
     ]
    }
   ],
   "source": [
    "the_first_model.compile(optimizer=\"adam\", loss=\"binary_crossentropy\", metrics=[\"accuracy\"])\n",
    "\n",
    "# checking all data\n",
    "print(type(train_vect), len(train_vect))\n",
    "print(type(y_train), len(y_train))\n"
   ]
  },
  {
   "cell_type": "code",
   "execution_count": 48,
   "id": "ad7cc674",
   "metadata": {},
   "outputs": [
    {
     "name": "stdout",
     "output_type": "stream",
     "text": [
      "Epoch 1/50\n",
      "16/16 - 1s - loss: 0.6872 - accuracy: 0.6063 - val_loss: 0.7225 - val_accuracy: 0.1095 - 1s/epoch - 73ms/step\n",
      "Epoch 2/50\n",
      "16/16 - 0s - loss: 0.6600 - accuracy: 0.6915 - val_loss: 0.7298 - val_accuracy: 0.3068 - 207ms/epoch - 13ms/step\n",
      "Epoch 3/50\n",
      "16/16 - 0s - loss: 0.6206 - accuracy: 0.7462 - val_loss: 0.7305 - val_accuracy: 0.4420 - 214ms/epoch - 13ms/step\n",
      "Epoch 4/50\n",
      "16/16 - 0s - loss: 0.5764 - accuracy: 0.7898 - val_loss: 0.7173 - val_accuracy: 0.5146 - 202ms/epoch - 13ms/step\n",
      "Epoch 5/50\n",
      "16/16 - 0s - loss: 0.5309 - accuracy: 0.8150 - val_loss: 0.6852 - val_accuracy: 0.5802 - 206ms/epoch - 13ms/step\n",
      "Epoch 6/50\n",
      "16/16 - 0s - loss: 0.4875 - accuracy: 0.8304 - val_loss: 0.6621 - val_accuracy: 0.6140 - 202ms/epoch - 13ms/step\n",
      "Epoch 7/50\n",
      "16/16 - 0s - loss: 0.4484 - accuracy: 0.8517 - val_loss: 0.6497 - val_accuracy: 0.6312 - 202ms/epoch - 13ms/step\n",
      "Epoch 8/50\n",
      "16/16 - 0s - loss: 0.4145 - accuracy: 0.8591 - val_loss: 0.6092 - val_accuracy: 0.6806 - 208ms/epoch - 13ms/step\n",
      "Epoch 9/50\n",
      "16/16 - 0s - loss: 0.3847 - accuracy: 0.8710 - val_loss: 0.5992 - val_accuracy: 0.6897 - 209ms/epoch - 13ms/step\n",
      "Epoch 10/50\n",
      "16/16 - 0s - loss: 0.3590 - accuracy: 0.8803 - val_loss: 0.6050 - val_accuracy: 0.6857 - 207ms/epoch - 13ms/step\n",
      "Epoch 11/50\n",
      "16/16 - 0s - loss: 0.3360 - accuracy: 0.8893 - val_loss: 0.5975 - val_accuracy: 0.6932 - 208ms/epoch - 13ms/step\n",
      "Epoch 12/50\n",
      "16/16 - 0s - loss: 0.3152 - accuracy: 0.8974 - val_loss: 0.5863 - val_accuracy: 0.7013 - 208ms/epoch - 13ms/step\n",
      "Epoch 13/50\n",
      "16/16 - 0s - loss: 0.2962 - accuracy: 0.9033 - val_loss: 0.5802 - val_accuracy: 0.7079 - 207ms/epoch - 13ms/step\n",
      "Epoch 14/50\n",
      "16/16 - 0s - loss: 0.2783 - accuracy: 0.9091 - val_loss: 0.6033 - val_accuracy: 0.7003 - 207ms/epoch - 13ms/step\n",
      "Epoch 15/50\n",
      "16/16 - 0s - loss: 0.2616 - accuracy: 0.9126 - val_loss: 0.5608 - val_accuracy: 0.7316 - 195ms/epoch - 12ms/step\n",
      "Epoch 16/50\n",
      "16/16 - 0s - loss: 0.2459 - accuracy: 0.9197 - val_loss: 0.5919 - val_accuracy: 0.7134 - 202ms/epoch - 13ms/step\n",
      "Epoch 17/50\n",
      "16/16 - 0s - loss: 0.2305 - accuracy: 0.9262 - val_loss: 0.5901 - val_accuracy: 0.7180 - 206ms/epoch - 13ms/step\n",
      "Epoch 18/50\n",
      "16/16 - 0s - loss: 0.2167 - accuracy: 0.9298 - val_loss: 0.5824 - val_accuracy: 0.7255 - 212ms/epoch - 13ms/step\n",
      "Epoch 19/50\n",
      "16/16 - 0s - loss: 0.2043 - accuracy: 0.9336 - val_loss: 0.5640 - val_accuracy: 0.7442 - 209ms/epoch - 13ms/step\n",
      "Epoch 20/50\n",
      "16/16 - 0s - loss: 0.1916 - accuracy: 0.9394 - val_loss: 0.6298 - val_accuracy: 0.7053 - 235ms/epoch - 15ms/step\n",
      "Epoch 21/50\n",
      "16/16 - 0s - loss: 0.1804 - accuracy: 0.9447 - val_loss: 0.6246 - val_accuracy: 0.7129 - 208ms/epoch - 13ms/step\n",
      "Epoch 22/50\n",
      "16/16 - 0s - loss: 0.1697 - accuracy: 0.9480 - val_loss: 0.6500 - val_accuracy: 0.7074 - 213ms/epoch - 13ms/step\n",
      "Epoch 23/50\n",
      "16/16 - 0s - loss: 0.1604 - accuracy: 0.9514 - val_loss: 0.6589 - val_accuracy: 0.7084 - 205ms/epoch - 13ms/step\n",
      "Epoch 24/50\n",
      "16/16 - 0s - loss: 0.1508 - accuracy: 0.9546 - val_loss: 0.6406 - val_accuracy: 0.7200 - 209ms/epoch - 13ms/step\n",
      "Epoch 25/50\n",
      "16/16 - 0s - loss: 0.1418 - accuracy: 0.9571 - val_loss: 0.6906 - val_accuracy: 0.7074 - 224ms/epoch - 14ms/step\n",
      "Epoch 26/50\n",
      "16/16 - 0s - loss: 0.1339 - accuracy: 0.9603 - val_loss: 0.6669 - val_accuracy: 0.7200 - 225ms/epoch - 14ms/step\n",
      "Epoch 27/50\n",
      "16/16 - 0s - loss: 0.1262 - accuracy: 0.9630 - val_loss: 0.6818 - val_accuracy: 0.7190 - 204ms/epoch - 13ms/step\n",
      "Epoch 28/50\n",
      "16/16 - 0s - loss: 0.1190 - accuracy: 0.9653 - val_loss: 0.7053 - val_accuracy: 0.7180 - 212ms/epoch - 13ms/step\n",
      "Epoch 29/50\n",
      "16/16 - 0s - loss: 0.1116 - accuracy: 0.9677 - val_loss: 0.7413 - val_accuracy: 0.7064 - 211ms/epoch - 13ms/step\n",
      "Epoch 30/50\n",
      "16/16 - 0s - loss: 0.1055 - accuracy: 0.9698 - val_loss: 0.7592 - val_accuracy: 0.7079 - 209ms/epoch - 13ms/step\n",
      "Epoch 31/50\n",
      "16/16 - 0s - loss: 0.0993 - accuracy: 0.9730 - val_loss: 0.7843 - val_accuracy: 0.7023 - 218ms/epoch - 14ms/step\n",
      "Epoch 32/50\n",
      "16/16 - 0s - loss: 0.0939 - accuracy: 0.9730 - val_loss: 0.7819 - val_accuracy: 0.7114 - 233ms/epoch - 15ms/step\n",
      "Epoch 33/50\n",
      "16/16 - 0s - loss: 0.0889 - accuracy: 0.9748 - val_loss: 0.7732 - val_accuracy: 0.7185 - 204ms/epoch - 13ms/step\n",
      "Epoch 34/50\n",
      "16/16 - 0s - loss: 0.0840 - accuracy: 0.9762 - val_loss: 0.7912 - val_accuracy: 0.7175 - 205ms/epoch - 13ms/step\n",
      "Epoch 35/50\n",
      "16/16 - 0s - loss: 0.0796 - accuracy: 0.9789 - val_loss: 0.8471 - val_accuracy: 0.7089 - 206ms/epoch - 13ms/step\n",
      "Epoch 36/50\n",
      "16/16 - 0s - loss: 0.0752 - accuracy: 0.9799 - val_loss: 0.8764 - val_accuracy: 0.7053 - 195ms/epoch - 12ms/step\n",
      "Epoch 37/50\n",
      "16/16 - 0s - loss: 0.0709 - accuracy: 0.9815 - val_loss: 0.8644 - val_accuracy: 0.7139 - 220ms/epoch - 14ms/step\n",
      "Epoch 38/50\n",
      "16/16 - 0s - loss: 0.0669 - accuracy: 0.9815 - val_loss: 0.9013 - val_accuracy: 0.7089 - 207ms/epoch - 13ms/step\n",
      "Epoch 39/50\n",
      "16/16 - 0s - loss: 0.0638 - accuracy: 0.9826 - val_loss: 0.9835 - val_accuracy: 0.6857 - 186ms/epoch - 12ms/step\n",
      "Epoch 40/50\n",
      "16/16 - 0s - loss: 0.0604 - accuracy: 0.9835 - val_loss: 0.9399 - val_accuracy: 0.7074 - 213ms/epoch - 13ms/step\n",
      "Epoch 41/50\n",
      "16/16 - 0s - loss: 0.0570 - accuracy: 0.9840 - val_loss: 0.9625 - val_accuracy: 0.7023 - 212ms/epoch - 13ms/step\n",
      "Epoch 42/50\n",
      "16/16 - 0s - loss: 0.0542 - accuracy: 0.9854 - val_loss: 0.9332 - val_accuracy: 0.7154 - 210ms/epoch - 13ms/step\n",
      "Epoch 43/50\n",
      "16/16 - 0s - loss: 0.0516 - accuracy: 0.9869 - val_loss: 1.0239 - val_accuracy: 0.6968 - 222ms/epoch - 14ms/step\n",
      "Epoch 44/50\n",
      "16/16 - 0s - loss: 0.0489 - accuracy: 0.9878 - val_loss: 1.0250 - val_accuracy: 0.7033 - 234ms/epoch - 15ms/step\n",
      "Epoch 45/50\n",
      "16/16 - 0s - loss: 0.0465 - accuracy: 0.9880 - val_loss: 0.9941 - val_accuracy: 0.7124 - 204ms/epoch - 13ms/step\n",
      "Epoch 46/50\n",
      "16/16 - 0s - loss: 0.0444 - accuracy: 0.9890 - val_loss: 1.0750 - val_accuracy: 0.6993 - 211ms/epoch - 13ms/step\n",
      "Epoch 47/50\n",
      "16/16 - 0s - loss: 0.0421 - accuracy: 0.9899 - val_loss: 1.0629 - val_accuracy: 0.7059 - 198ms/epoch - 12ms/step\n",
      "Epoch 48/50\n",
      "16/16 - 0s - loss: 0.0405 - accuracy: 0.9898 - val_loss: 1.0643 - val_accuracy: 0.7104 - 201ms/epoch - 13ms/step\n",
      "Epoch 49/50\n",
      "16/16 - 0s - loss: 0.0384 - accuracy: 0.9905 - val_loss: 1.1260 - val_accuracy: 0.7013 - 226ms/epoch - 14ms/step\n",
      "Epoch 50/50\n",
      "16/16 - 0s - loss: 0.0366 - accuracy: 0.9913 - val_loss: 1.0515 - val_accuracy: 0.7195 - 184ms/epoch - 11ms/step\n"
     ]
    }
   ],
   "source": [
    "history = the_first_model.fit(train_vect,y_train,\n",
    "                    epochs=50,\n",
    "                    batch_size=512,\n",
    "                    validation_split=0.2, shuffle = True,\n",
    "                    verbose = 2)\n"
   ]
  },
  {
   "cell_type": "code",
   "execution_count": 49,
   "id": "71ca3abd",
   "metadata": {},
   "outputs": [
    {
     "name": "stdout",
     "output_type": "stream",
     "text": [
      "Model: \"sequential_2\"\n",
      "_________________________________________________________________\n",
      " Layer (type)                Output Shape              Param #   \n",
      "=================================================================\n",
      " dense_6 (Dense)             (None, 8)                 80008     \n",
      "                                                                 \n",
      " dense_7 (Dense)             (None, 16)                144       \n",
      "                                                                 \n",
      " dense_8 (Dense)             (None, 1)                 17        \n",
      "                                                                 \n",
      "=================================================================\n",
      "Total params: 80,169\n",
      "Trainable params: 80,169\n",
      "Non-trainable params: 0\n",
      "_________________________________________________________________\n",
      "None\n"
     ]
    }
   ],
   "source": [
    "print(the_first_model.summary())"
   ]
  },
  {
   "cell_type": "code",
   "execution_count": 50,
   "id": "8b4c2b8a",
   "metadata": {},
   "outputs": [
    {
     "data": {
      "text/plain": [
       "dict_keys(['loss', 'accuracy', 'val_loss', 'val_accuracy'])"
      ]
     },
     "execution_count": 50,
     "metadata": {},
     "output_type": "execute_result"
    }
   ],
   "source": [
    "history_dict = history.history\n",
    "history_dict.keys()"
   ]
  },
  {
   "cell_type": "code",
   "execution_count": 51,
   "id": "1f072d44",
   "metadata": {},
   "outputs": [
    {
     "data": {
      "image/png": "[encoded data removed]",
      "text/plain": [
       "<Figure size 432x288 with 1 Axes>"
      ]
     },
     "metadata": {
      "needs_background": "light"
     },
     "output_type": "display_data"
    }
   ],
   "source": [
    "\n",
    "loss_values = history_dict[\"loss\"]\n",
    "val_loss_values = history_dict[\"val_loss\"]\n",
    "epochs = range(1, len(loss_values) + 1)\n",
    "plt.plot(epochs, loss_values, \"bo\", label=\"Training loss\")\n",
    "plt.plot(epochs, val_loss_values, \"b\", label=\"Validation loss\")\n",
    "plt.title(\"Training and validation loss\")\n",
    "plt.xlabel(\"Epochs\")\n",
    "plt.ylabel(\"Loss\")\n",
    "plt.legend()\n",
    "plt.show()"
   ]
  },
  {
   "cell_type": "code",
   "execution_count": 52,
   "id": "6e76cbd9",
   "metadata": {},
   "outputs": [
    {
     "name": "stdout",
     "output_type": "stream",
     "text": [
      "1/1 - 0s - loss: 0.4434 - accuracy: 0.8462 - 13ms/epoch - 13ms/step\n",
      "Test score: 0.44343504309654236\n",
      "Test accuracy: 0.8461538553237915\n"
     ]
    }
   ],
   "source": [
    "# results \n",
    "score = the_first_model.evaluate(test_vect, y_test, verbose=2) \n",
    "print('Test score:', score[0]) \n",
    "print('Test accuracy:', score[1])"
   ]
  },
  {
   "cell_type": "code",
   "execution_count": null,
   "id": "71062d14",
   "metadata": {},
   "outputs": [],
   "source": []
  }
 ],
 "metadata": {
  "kernelspec": {
   "display_name": "Python 3 (ipykernel)",
   "language": "python",
   "name": "python3"
  },
  "language_info": {
   "codemirror_mode": {
    "name": "ipython",
    "version": 3
   },
   "file_extension": ".py",
   "mimetype": "text/x-python",
   "name": "python",
   "nbconvert_exporter": "python",
   "pygments_lexer": "ipython3",
   "version": "3.7.9"
  }
 },
 "nbformat": 4,
 "nbformat_minor": 5
}
