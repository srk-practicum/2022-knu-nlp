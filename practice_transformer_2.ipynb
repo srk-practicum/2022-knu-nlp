{
 "cells": [
  {
   "cell_type": "code",
   "execution_count": 1,
   "id": "e39f13d3",
   "metadata": {},
   "outputs": [],
   "source": [
    "import pathlib\n",
    "import random\n",
    "import string\n",
    "import re\n",
    "\n",
    "import numpy as np\n",
    "import pandas as pd\n",
    "\n",
    "import tensorflow as tf\n",
    "from tensorflow import keras\n",
    "from tensorflow.keras import layers\n",
    "from tensorflow.keras.layers import TextVectorization"
   ]
  },
  {
   "cell_type": "code",
   "execution_count": 2,
   "id": "2e99b977",
   "metadata": {},
   "outputs": [
    {
     "name": "stdout",
     "output_type": "stream",
     "text": [
      "Df size:  (100, 2)\n"
     ]
    },
    {
     "data": {
      "text/plain": [
       "(   eng      ukr\n",
       " 0  Hi.   Вітаю!\n",
       " 1  Hi.  Привіт.\n",
       " 2  Hi.  Привіт!,\n",
       "         eng         ukr\n",
       " 97  Really?  Насправді?\n",
       " 98  Really?     Дійсно?\n",
       " 99  Thanks!      Дякую!)"
      ]
     },
     "execution_count": 2,
     "metadata": {},
     "output_type": "execute_result"
    }
   ],
   "source": [
    "text_file = \"ukr.txt\"\n",
    "df = pd.read_csv(text_file, sep='\\t', usecols=[0, 1])\n",
    "df.columns = ['eng', 'ukr']\n",
    "#data = df[['eng', 'ukr']]\n",
    "print(\"Df size: \", df.shape)\n",
    "df.head(3), df.tail(3)\n",
    "\n"
   ]
  },
  {
   "cell_type": "code",
   "execution_count": 3,
   "id": "edac314a",
   "metadata": {},
   "outputs": [],
   "source": [
    "def create_pair(eng_text, ukr_text):\n",
    "    text_pairs = []\n",
    "    ukr_text = \"[start] \" + ukr_text + \" [end]\"\n",
    "    text_pairs.append(eng_text)\n",
    "    text_pairs.append(ukr_text)\n",
    "    return text_pairs\n",
    "\n",
    "df['pair'] = df.apply(lambda x:create_pair(x['eng'], x['ukr']), axis = 1)"
   ]
  },
  {
   "cell_type": "code",
   "execution_count": 4,
   "id": "70ce1dbe",
   "metadata": {},
   "outputs": [
    {
     "data": {
      "text/plain": [
       "0                [Hi., [start] Вітаю! [end]]\n",
       "1               [Hi., [start] Привіт. [end]]\n",
       "2               [Hi., [start] Привіт! [end]]\n",
       "3              [Run!, [start] Біжіть! [end]]\n",
       "4             [Run!, [start] Тікайте! [end]]\n",
       "                       ...                  \n",
       "95    [No way!, [start] Не може бути! [end]]\n",
       "96         [Really?, [start] Справді? [end]]\n",
       "97       [Really?, [start] Насправді? [end]]\n",
       "98          [Really?, [start] Дійсно? [end]]\n",
       "99           [Thanks!, [start] Дякую! [end]]\n",
       "Name: pair, Length: 100, dtype: object"
      ]
     },
     "execution_count": 4,
     "metadata": {},
     "output_type": "execute_result"
    }
   ],
   "source": [
    "df['pair']\n"
   ]
  },
  {
   "cell_type": "code",
   "execution_count": 5,
   "id": "1c5f01ab",
   "metadata": {},
   "outputs": [
    {
     "name": "stdout",
     "output_type": "stream",
     "text": [
      "['Hi.', '[start] Вітаю! [end]']\n",
      "['No way!', '[start] Не може бути! [end]']\n",
      "['Hug me.', '[start] Обійми мене. [end]']\n",
      "['Relax.', '[start] Облиш! [end]']\n",
      "['I lost.', '[start] Я програла. [end]']\n"
     ]
    }
   ],
   "source": [
    "text = []\n",
    "def to_text(df):\n",
    "    \n",
    "    for i in df:\n",
    "        text.append(i)\n",
    "    return text\n",
    "\n",
    "text_pairs = to_text(df['pair'])\n",
    "for _ in range(5):\n",
    "    print(random.choice(text))"
   ]
  },
  {
   "cell_type": "code",
   "execution_count": 6,
   "id": "cdad9c9b",
   "metadata": {},
   "outputs": [
    {
     "name": "stdout",
     "output_type": "stream",
     "text": [
      "100 total pairs\n",
      "70 training pairs\n",
      "15 validation pairs\n",
      "15 test pairs\n"
     ]
    }
   ],
   "source": [
    "random.shuffle(text_pairs)\n",
    "num_val_samples = int(0.15 * len(text_pairs))\n",
    "num_train_samples = len(text_pairs) - 2 * num_val_samples\n",
    "train_pairs = text_pairs[:num_train_samples]\n",
    "val_pairs = text_pairs[num_train_samples : num_train_samples + num_val_samples]\n",
    "test_pairs = text_pairs[num_train_samples + num_val_samples :]\n",
    "\n",
    "print(f\"{len(text_pairs)} total pairs\")\n",
    "print(f\"{len(train_pairs)} training pairs\")\n",
    "print(f\"{len(val_pairs)} validation pairs\")\n",
    "print(f\"{len(test_pairs)} test pairs\")"
   ]
  },
  {
   "cell_type": "code",
   "execution_count": 7,
   "id": "10f1b34a",
   "metadata": {},
   "outputs": [],
   "source": [
    "strip_chars = string.punctuation + \"¿\"\n",
    "strip_chars = strip_chars.replace(\"[\", \"\")\n",
    "strip_chars = strip_chars.replace(\"]\", \"\")\n",
    "\n",
    "vocab_size = 15000\n",
    "sequence_length = 20\n",
    "batch_size = 64\n",
    "\n",
    "\n",
    "def custom_standardization(input_string):\n",
    "    lowercase = tf.strings.lower(input_string)\n",
    "    return tf.strings.regex_replace(lowercase, \"[%s]\" % re.escape(strip_chars), \"\")\n",
    "\n",
    "\n",
    "eng_vectorization = TextVectorization(\n",
    "    max_tokens=vocab_size, output_mode=\"int\", output_sequence_length=sequence_length,)\n",
    "\n",
    "ukr_vectorization = TextVectorization(\n",
    "    max_tokens=vocab_size,\n",
    "    output_mode=\"int\",\n",
    "    output_sequence_length=sequence_length + 1,\n",
    "    standardize=custom_standardization,\n",
    ")\n",
    "train_eng_texts = [pair[0] for pair in train_pairs]\n",
    "train_ukr_texts = [pair[1] for pair in train_pairs]\n",
    "eng_vectorization.adapt(train_eng_texts)\n",
    "ukr_vectorization.adapt(train_ukr_texts)"
   ]
  },
  {
   "cell_type": "code",
   "execution_count": 8,
   "id": "65cc370d",
   "metadata": {},
   "outputs": [
    {
     "data": {
      "text/plain": [
       "<keras.layers.preprocessing.text_vectorization.TextVectorization at 0x1999b7e8400>"
      ]
     },
     "execution_count": 8,
     "metadata": {},
     "output_type": "execute_result"
    }
   ],
   "source": [
    "ukr_vectorization"
   ]
  },
  {
   "cell_type": "code",
   "execution_count": 9,
   "id": "86fff2f3",
   "metadata": {},
   "outputs": [
    {
     "data": {
      "text/plain": [
       "<keras.layers.preprocessing.text_vectorization.TextVectorization at 0x1999b7e84c0>"
      ]
     },
     "execution_count": 9,
     "metadata": {},
     "output_type": "execute_result"
    }
   ],
   "source": [
    "eng_vectorization"
   ]
  },
  {
   "cell_type": "code",
   "execution_count": 10,
   "id": "748d9bb3",
   "metadata": {},
   "outputs": [],
   "source": [
    "def format_dataset(eng, ukr):\n",
    "    eng = eng_vectorization(eng)\n",
    "    ukr = ukr_vectorization(ukr)\n",
    "    return ({\"encoder_inputs\": eng, \"decoder_inputs\": ukr[:, :-1],}, ukr[:, 1:])\n",
    "\n",
    "\n",
    "def make_dataset(pairs):\n",
    "    eng_texts, ukr_texts = zip(*pairs)\n",
    "    eng_texts = list(eng_texts)\n",
    "    ukr_texts = list(ukr_texts)\n",
    "    dataset = tf.data.Dataset.from_tensor_slices((eng_texts, ukr_texts))\n",
    "    dataset = dataset.batch(batch_size)\n",
    "    dataset = dataset.map(format_dataset)\n",
    "    return dataset.shuffle(2048).prefetch(16).cache()\n",
    "\n",
    "\n",
    "train_ds = make_dataset(train_pairs)\n",
    "val_ds = make_dataset(val_pairs)"
   ]
  },
  {
   "cell_type": "code",
   "execution_count": 11,
   "id": "788fb691",
   "metadata": {},
   "outputs": [
    {
     "name": "stdout",
     "output_type": "stream",
     "text": [
      "inputs[\"encoder_inputs\"].shape: (6, 20)\n",
      "inputs[\"decoder_inputs\"].shape: (6, 20)\n",
      "targets.shape: (6, 20)\n"
     ]
    }
   ],
   "source": [
    "for inputs, targets in train_ds.take(1):\n",
    "    print(f'inputs[\"encoder_inputs\"].shape: {inputs[\"encoder_inputs\"].shape}')\n",
    "    print(f'inputs[\"decoder_inputs\"].shape: {inputs[\"decoder_inputs\"].shape}')\n",
    "    print(f\"targets.shape: {targets.shape}\")\n"
   ]
  },
  {
   "cell_type": "code",
   "execution_count": 12,
   "id": "a5313cfd",
   "metadata": {},
   "outputs": [],
   "source": [
    "class TransformerEncoder(layers.Layer):\n",
    "    def __init__(self, embed_dim, dense_dim, num_heads, **kwargs):\n",
    "        super(TransformerEncoder, self).__init__(**kwargs)\n",
    "        self.embed_dim = embed_dim\n",
    "        self.dense_dim = dense_dim\n",
    "        self.num_heads = num_heads\n",
    "        self.attention = layers.MultiHeadAttention(\n",
    "            num_heads=num_heads, key_dim=embed_dim\n",
    "        )\n",
    "        self.dense_proj = keras.Sequential(\n",
    "            [layers.Dense(dense_dim, activation=\"relu\"), layers.Dense(embed_dim),]\n",
    "        )\n",
    "        self.layernorm_1 = layers.LayerNormalization()\n",
    "        self.layernorm_2 = layers.LayerNormalization()\n",
    "        self.supports_masking = True\n",
    "\n",
    "    def get_config(self):\n",
    "        config = super().get_config().copy()\n",
    "        config.update({\n",
    "            'embed_dim': self.embed_dim,\n",
    "            'dense_dim': self.dense_dim,\n",
    "            'num_heads': self.num_heads,\n",
    "        })\n",
    "        return config\n",
    "        \n",
    "    def call(self, inputs, mask=None):\n",
    "        if mask is not None:\n",
    "            padding_mask = tf.cast(mask[:, tf.newaxis, tf.newaxis, :], dtype=\"int32\")\n",
    "        attention_output = self.attention(\n",
    "            query=inputs, value=inputs, key=inputs, attention_mask=padding_mask\n",
    "        )\n",
    "        proj_input = self.layernorm_1(inputs + attention_output)\n",
    "        proj_output = self.dense_proj(proj_input)\n",
    "        return self.layernorm_2(proj_input + proj_output)\n",
    "\n",
    "\n",
    "class PositionalEmbedding(layers.Layer):\n",
    "    def __init__(self, sequence_length, vocab_size, embed_dim, **kwargs):\n",
    "        super(PositionalEmbedding, self).__init__(**kwargs)\n",
    "        self.token_embeddings = layers.Embedding(\n",
    "            input_dim=vocab_size, output_dim=embed_dim\n",
    "        )\n",
    "        self.position_embeddings = layers.Embedding(\n",
    "            input_dim=sequence_length, output_dim=embed_dim\n",
    "        )\n",
    "        self.sequence_length = sequence_length\n",
    "        self.vocab_size = vocab_size\n",
    "        self.embed_dim = embed_dim\n",
    "\n",
    "    def get_config(self):\n",
    "        config = super().get_config().copy()\n",
    "        config.update({\n",
    "            'sequence_length': self.sequence_length,\n",
    "            'vocab_size': self.vocab_size,\n",
    "            'embed_dim': self.embed_dim,\n",
    "        })\n",
    "        return config\n",
    "        \n",
    "    def call(self, inputs):\n",
    "        length = tf.shape(inputs)[-1]\n",
    "        positions = tf.range(start=0, limit=length, delta=1)\n",
    "        embedded_tokens = self.token_embeddings(inputs)\n",
    "        embedded_positions = self.position_embeddings(positions)\n",
    "        return embedded_tokens + embedded_positions\n",
    "\n",
    "    def compute_mask(self, inputs, mask=None):\n",
    "        return tf.math.not_equal(inputs, 0)\n",
    "\n",
    "\n",
    "class TransformerDecoder(layers.Layer):\n",
    "    def __init__(self, embed_dim, latent_dim, num_heads, **kwargs):\n",
    "        super(TransformerDecoder, self).__init__(**kwargs)\n",
    "        self.embed_dim = embed_dim\n",
    "        self.latent_dim = latent_dim\n",
    "        self.num_heads = num_heads\n",
    "        self.attention_1 = layers.MultiHeadAttention(\n",
    "            num_heads=num_heads, key_dim=embed_dim\n",
    "        )\n",
    "        self.attention_2 = layers.MultiHeadAttention(\n",
    "            num_heads=num_heads, key_dim=embed_dim\n",
    "        )\n",
    "        self.dense_proj = keras.Sequential(\n",
    "            [layers.Dense(latent_dim, activation=\"relu\"), layers.Dense(embed_dim),]\n",
    "        )\n",
    "        self.layernorm_1 = layers.LayerNormalization()\n",
    "        self.layernorm_2 = layers.LayerNormalization()\n",
    "        self.layernorm_3 = layers.LayerNormalization()\n",
    "        self.supports_masking = True\n",
    "\n",
    "    def get_config(self):\n",
    "        config = super().get_config().copy()\n",
    "        config.update({\n",
    "            'embed_dim': self.embed_dim,\n",
    "            'latent_dim': self.latent_dim,\n",
    "            'num_heads': self.num_heads,\n",
    "        })\n",
    "        return config\n",
    "        \n",
    "    def call(self, inputs, encoder_outputs, mask=None):\n",
    "        causal_mask = self.get_causal_attention_mask(inputs)\n",
    "        if mask is not None:\n",
    "            padding_mask = tf.cast(mask[:, tf.newaxis, :], dtype=\"int32\")\n",
    "            padding_mask = tf.minimum(padding_mask, causal_mask)\n",
    "\n",
    "        attention_output_1 = self.attention_1(query=inputs, value=inputs, key=inputs, attention_mask=causal_mask\n",
    "        )\n",
    "        out_1 = self.layernorm_1(inputs + attention_output_1)\n",
    "\n",
    "        attention_output_2 = self.attention_2(\n",
    "            query=out_1,\n",
    "            value=encoder_outputs,\n",
    "            key=encoder_outputs,\n",
    "            attention_mask=padding_mask,\n",
    "        )\n",
    "        out_2 = self.layernorm_2(out_1 + attention_output_2)\n",
    "\n",
    "        proj_output = self.dense_proj(out_2)\n",
    "        return self.layernorm_3(out_2 + proj_output)\n",
    "\n",
    "    def get_causal_attention_mask(self, inputs):\n",
    "        input_shape = tf.shape(inputs)\n",
    "        batch_size, sequence_length = input_shape[0], input_shape[1]\n",
    "        i = tf.range(sequence_length)[:, tf.newaxis]\n",
    "        j = tf.range(sequence_length)\n",
    "        mask = tf.cast(i >= j, dtype=\"int32\")\n",
    "        mask = tf.reshape(mask, (1, input_shape[1], input_shape[1]))\n",
    "        mult = tf.concat(\n",
    "            [tf.expand_dims(batch_size, -1), tf.constant([1, 1], dtype=tf.int32)],\n",
    "            axis=0,\n",
    "        )\n",
    "        return tf.tile(mask, mult)\n"
   ]
  },
  {
   "cell_type": "code",
   "execution_count": 16,
   "id": "0eb04272",
   "metadata": {},
   "outputs": [],
   "source": [
    "embed_dim = 128\n",
    "latent_dim = 256\n",
    "num_heads = 8\n",
    "\n",
    "encoder_inputs = keras.Input(shape=(None,), dtype=\"int64\", name=\"encoder_inputs\")\n",
    "x = PositionalEmbedding(sequence_length, vocab_size, embed_dim)(encoder_inputs)\n",
    "encoder_outputs = TransformerEncoder(embed_dim, latent_dim, num_heads)(x)\n",
    "encoder = keras.Model(encoder_inputs, encoder_outputs)\n",
    "\n",
    "decoder_inputs = keras.Input(shape=(None,), dtype=\"int64\", name=\"decoder_inputs\")\n",
    "encoded_seq_inputs = keras.Input(shape=(None, embed_dim), name=\"decoder_state_inputs\")\n",
    "x = PositionalEmbedding(sequence_length, vocab_size, embed_dim)(decoder_inputs)\n",
    "x = TransformerDecoder(embed_dim, latent_dim, num_heads)(x, encoded_seq_inputs)\n",
    "x = layers.Dropout(0.5)(x)\n",
    "decoder_outputs = layers.Dense(vocab_size, activation=\"softmax\")(x)\n",
    "decoder = keras.Model([decoder_inputs, encoded_seq_inputs], decoder_outputs)\n",
    "\n",
    "decoder_outputs = decoder([decoder_inputs, encoder_outputs])\n",
    "transformer = keras.Model(\n",
    "    [encoder_inputs, decoder_inputs], decoder_outputs, name=\"transformer\"\n",
    ")"
   ]
  },
  {
   "cell_type": "code",
   "execution_count": 18,
   "id": "59fadf03",
   "metadata": {},
   "outputs": [
    {
     "name": "stdout",
     "output_type": "stream",
     "text": [
      "Model: \"transformer\"\n",
      "__________________________________________________________________________________________________\n",
      " Layer (type)                   Output Shape         Param #     Connected to                     \n",
      "==================================================================================================\n",
      " encoder_inputs (InputLayer)    [(None, None)]       0           []                               \n",
      "                                                                                                  \n",
      " positional_embedding_2 (Positi  (None, None, 128)   1922560     ['encoder_inputs[0][0]']         \n",
      " onalEmbedding)                                                                                   \n",
      "                                                                                                  \n",
      " decoder_inputs (InputLayer)    [(None, None)]       0           []                               \n",
      "                                                                                                  \n",
      " transformer_encoder_1 (Transfo  (None, None, 128)   593920      ['positional_embedding_2[0][0]'] \n",
      " rmerEncoder)                                                                                     \n",
      "                                                                                                  \n",
      " model_3 (Functional)           (None, None, 15000)  4979224     ['decoder_inputs[0][0]',         \n",
      "                                                                  'transformer_encoder_1[0][0]']  \n",
      "                                                                                                  \n",
      "==================================================================================================\n",
      "Total params: 7,495,704\n",
      "Trainable params: 7,495,704\n",
      "Non-trainable params: 0\n",
      "__________________________________________________________________________________________________\n",
      "Epoch 1/60\n",
      "2/2 [==============================] - 8s 1s/step - loss: 0.2906 - accuracy: 0.6423 - val_loss: 0.8704 - val_accuracy: 0.4833\n",
      "Epoch 2/60\n",
      "2/2 [==============================] - 2s 482ms/step - loss: 0.3226 - accuracy: 0.6260 - val_loss: 0.8453 - val_accuracy: 0.6000\n",
      "Epoch 3/60\n",
      "2/2 [==============================] - 2s 427ms/step - loss: 0.3033 - accuracy: 0.6382 - val_loss: 0.7829 - val_accuracy: 0.6000\n",
      "Epoch 4/60\n",
      "2/2 [==============================] - 2s 405ms/step - loss: 0.2661 - accuracy: 0.6382 - val_loss: 0.8005 - val_accuracy: 0.6000\n",
      "Epoch 5/60\n",
      "2/2 [==============================] - 1s 377ms/step - loss: 0.2575 - accuracy: 0.6545 - val_loss: 0.8053 - val_accuracy: 0.6000\n",
      "Epoch 6/60\n",
      "2/2 [==============================] - 2s 388ms/step - loss: 0.2420 - accuracy: 0.6585 - val_loss: 0.8304 - val_accuracy: 0.6000\n",
      "Epoch 7/60\n",
      "2/2 [==============================] - 2s 400ms/step - loss: 0.2374 - accuracy: 0.6585 - val_loss: 0.7795 - val_accuracy: 0.6000\n",
      "Epoch 8/60\n",
      "2/2 [==============================] - 2s 407ms/step - loss: 0.2261 - accuracy: 0.7073 - val_loss: 0.8385 - val_accuracy: 0.6000\n",
      "Epoch 9/60\n",
      "2/2 [==============================] - 2s 398ms/step - loss: 0.2170 - accuracy: 0.6585 - val_loss: 0.8143 - val_accuracy: 0.6167\n",
      "Epoch 10/60\n",
      "2/2 [==============================] - 2s 411ms/step - loss: 0.2112 - accuracy: 0.6951 - val_loss: 0.8188 - val_accuracy: 0.6000\n",
      "Epoch 11/60\n",
      "2/2 [==============================] - 2s 387ms/step - loss: 0.2021 - accuracy: 0.6951 - val_loss: 0.8201 - val_accuracy: 0.6000\n",
      "Epoch 12/60\n",
      "2/2 [==============================] - 2s 461ms/step - loss: 0.2034 - accuracy: 0.7033 - val_loss: 0.8131 - val_accuracy: 0.6167\n",
      "Epoch 13/60\n",
      "2/2 [==============================] - 2s 423ms/step - loss: 0.1914 - accuracy: 0.7439 - val_loss: 0.8421 - val_accuracy: 0.6167\n",
      "Epoch 14/60\n",
      "2/2 [==============================] - 2s 411ms/step - loss: 0.1910 - accuracy: 0.7033 - val_loss: 0.7994 - val_accuracy: 0.6167\n",
      "Epoch 15/60\n",
      "2/2 [==============================] - 2s 374ms/step - loss: 0.1785 - accuracy: 0.7846 - val_loss: 0.8264 - val_accuracy: 0.6167\n",
      "Epoch 16/60\n",
      "2/2 [==============================] - 2s 410ms/step - loss: 0.1769 - accuracy: 0.7480 - val_loss: 0.8101 - val_accuracy: 0.6167\n",
      "Epoch 17/60\n",
      "2/2 [==============================] - 2s 423ms/step - loss: 0.1741 - accuracy: 0.7967 - val_loss: 0.8330 - val_accuracy: 0.6167\n",
      "Epoch 18/60\n",
      "2/2 [==============================] - 2s 429ms/step - loss: 0.1653 - accuracy: 0.7764 - val_loss: 0.7951 - val_accuracy: 0.6167\n",
      "Epoch 19/60\n",
      "2/2 [==============================] - 2s 431ms/step - loss: 0.1597 - accuracy: 0.8130 - val_loss: 0.8454 - val_accuracy: 0.6167\n",
      "Epoch 20/60\n",
      "2/2 [==============================] - 2s 382ms/step - loss: 0.1617 - accuracy: 0.7967 - val_loss: 0.8298 - val_accuracy: 0.6167\n",
      "Epoch 21/60\n",
      "2/2 [==============================] - 2s 737ms/step - loss: 0.1570 - accuracy: 0.8008 - val_loss: 0.8505 - val_accuracy: 0.6167\n",
      "Epoch 22/60\n",
      "2/2 [==============================] - 2s 501ms/step - loss: 0.1595 - accuracy: 0.7805 - val_loss: 0.8388 - val_accuracy: 0.6167\n",
      "Epoch 23/60\n",
      "2/2 [==============================] - 2s 453ms/step - loss: 0.1540 - accuracy: 0.7927 - val_loss: 0.8389 - val_accuracy: 0.6167\n",
      "Epoch 24/60\n",
      "2/2 [==============================] - 2s 412ms/step - loss: 0.1452 - accuracy: 0.8252 - val_loss: 0.8451 - val_accuracy: 0.6167\n",
      "Epoch 25/60\n",
      "2/2 [==============================] - 2s 446ms/step - loss: 0.1405 - accuracy: 0.8252 - val_loss: 0.8459 - val_accuracy: 0.6167\n",
      "Epoch 26/60\n",
      "2/2 [==============================] - 2s 403ms/step - loss: 0.1349 - accuracy: 0.8252 - val_loss: 0.8522 - val_accuracy: 0.6167\n",
      "Epoch 27/60\n",
      "2/2 [==============================] - 1s 373ms/step - loss: 0.1321 - accuracy: 0.8171 - val_loss: 0.8332 - val_accuracy: 0.6167\n",
      "Epoch 28/60\n",
      "2/2 [==============================] - 2s 450ms/step - loss: 0.1275 - accuracy: 0.8496 - val_loss: 0.8542 - val_accuracy: 0.6167\n",
      "Epoch 29/60\n",
      "2/2 [==============================] - 2s 372ms/step - loss: 0.1308 - accuracy: 0.8293 - val_loss: 0.9042 - val_accuracy: 0.6167\n",
      "Epoch 30/60\n",
      "2/2 [==============================] - 1s 378ms/step - loss: 0.1304 - accuracy: 0.8252 - val_loss: 0.8170 - val_accuracy: 0.6000\n",
      "Epoch 31/60\n",
      "2/2 [==============================] - 2s 410ms/step - loss: 0.1192 - accuracy: 0.8699 - val_loss: 0.8847 - val_accuracy: 0.6167\n",
      "Epoch 32/60\n",
      "2/2 [==============================] - 2s 433ms/step - loss: 0.1188 - accuracy: 0.8333 - val_loss: 0.8336 - val_accuracy: 0.6167\n",
      "Epoch 33/60\n",
      "2/2 [==============================] - 2s 391ms/step - loss: 0.1110 - accuracy: 0.8659 - val_loss: 0.8877 - val_accuracy: 0.6167\n",
      "Epoch 34/60\n",
      "2/2 [==============================] - 2s 403ms/step - loss: 0.1070 - accuracy: 0.8659 - val_loss: 0.8648 - val_accuracy: 0.6167\n",
      "Epoch 35/60\n",
      "2/2 [==============================] - 1s 376ms/step - loss: 0.1051 - accuracy: 0.8618 - val_loss: 0.8380 - val_accuracy: 0.6167\n",
      "Epoch 36/60\n",
      "2/2 [==============================] - 2s 391ms/step - loss: 0.1026 - accuracy: 0.8821 - val_loss: 0.8671 - val_accuracy: 0.6000\n",
      "Epoch 37/60\n",
      "2/2 [==============================] - 1s 407ms/step - loss: 0.1016 - accuracy: 0.8902 - val_loss: 0.8499 - val_accuracy: 0.6167\n",
      "Epoch 38/60\n",
      "2/2 [==============================] - 2s 369ms/step - loss: 0.1009 - accuracy: 0.8537 - val_loss: 0.8884 - val_accuracy: 0.6000\n",
      "Epoch 39/60\n",
      "2/2 [==============================] - 1s 376ms/step - loss: 0.0988 - accuracy: 0.8821 - val_loss: 0.8516 - val_accuracy: 0.6167\n",
      "Epoch 40/60\n",
      "2/2 [==============================] - 2s 417ms/step - loss: 0.0973 - accuracy: 0.8699 - val_loss: 0.9068 - val_accuracy: 0.6167\n",
      "Epoch 41/60\n",
      "2/2 [==============================] - 1s 377ms/step - loss: 0.0953 - accuracy: 0.8618 - val_loss: 0.8699 - val_accuracy: 0.6167\n",
      "Epoch 42/60\n",
      "2/2 [==============================] - 1s 362ms/step - loss: 0.0896 - accuracy: 0.8821 - val_loss: 0.9101 - val_accuracy: 0.6167\n",
      "Epoch 43/60\n",
      "2/2 [==============================] - 1s 405ms/step - loss: 0.0917 - accuracy: 0.8821 - val_loss: 0.8882 - val_accuracy: 0.6000\n",
      "Epoch 44/60\n",
      "2/2 [==============================] - 2s 493ms/step - loss: 0.0951 - accuracy: 0.8740 - val_loss: 0.9076 - val_accuracy: 0.6167\n",
      "Epoch 45/60\n",
      "2/2 [==============================] - 2s 404ms/step - loss: 0.0872 - accuracy: 0.8780 - val_loss: 0.8922 - val_accuracy: 0.6000\n"
     ]
    },
    {
     "name": "stdout",
     "output_type": "stream",
     "text": [
      "Epoch 46/60\n",
      "2/2 [==============================] - 2s 478ms/step - loss: 0.0849 - accuracy: 0.8699 - val_loss: 0.8957 - val_accuracy: 0.6167\n",
      "Epoch 47/60\n",
      "2/2 [==============================] - 2s 446ms/step - loss: 0.0787 - accuracy: 0.8780 - val_loss: 0.8926 - val_accuracy: 0.6167\n",
      "Epoch 48/60\n",
      "2/2 [==============================] - 2s 453ms/step - loss: 0.0799 - accuracy: 0.8659 - val_loss: 0.9104 - val_accuracy: 0.6167\n",
      "Epoch 49/60\n",
      "2/2 [==============================] - 2s 395ms/step - loss: 0.0802 - accuracy: 0.8780 - val_loss: 0.9059 - val_accuracy: 0.6000\n",
      "Epoch 50/60\n",
      "2/2 [==============================] - 2s 436ms/step - loss: 0.0755 - accuracy: 0.8821 - val_loss: 0.9461 - val_accuracy: 0.6167\n",
      "Epoch 51/60\n",
      "2/2 [==============================] - 2s 407ms/step - loss: 0.0767 - accuracy: 0.8780 - val_loss: 0.8856 - val_accuracy: 0.6000\n",
      "Epoch 52/60\n",
      "2/2 [==============================] - 1s 388ms/step - loss: 0.0745 - accuracy: 0.8618 - val_loss: 0.9405 - val_accuracy: 0.6000\n",
      "Epoch 53/60\n",
      "2/2 [==============================] - 2s 392ms/step - loss: 0.0780 - accuracy: 0.8699 - val_loss: 0.9031 - val_accuracy: 0.6167\n",
      "Epoch 54/60\n",
      "2/2 [==============================] - 2s 417ms/step - loss: 0.0742 - accuracy: 0.8821 - val_loss: 0.9299 - val_accuracy: 0.6167\n",
      "Epoch 55/60\n",
      "2/2 [==============================] - 2s 366ms/step - loss: 0.0734 - accuracy: 0.8780 - val_loss: 0.9301 - val_accuracy: 0.6167\n",
      "Epoch 56/60\n",
      "2/2 [==============================] - 2s 373ms/step - loss: 0.0761 - accuracy: 0.8537 - val_loss: 0.9443 - val_accuracy: 0.6167\n",
      "Epoch 57/60\n",
      "2/2 [==============================] - 1s 421ms/step - loss: 0.0714 - accuracy: 0.8577 - val_loss: 0.9075 - val_accuracy: 0.6000\n",
      "Epoch 58/60\n",
      "2/2 [==============================] - 2s 375ms/step - loss: 0.0665 - accuracy: 0.8699 - val_loss: 0.9369 - val_accuracy: 0.6167\n",
      "Epoch 59/60\n",
      "2/2 [==============================] - 1s 363ms/step - loss: 0.0717 - accuracy: 0.8537 - val_loss: 0.9320 - val_accuracy: 0.6000\n",
      "Epoch 60/60\n",
      "2/2 [==============================] - 2s 413ms/step - loss: 0.0672 - accuracy: 0.8821 - val_loss: 0.9451 - val_accuracy: 0.6000\n"
     ]
    },
    {
     "data": {
      "text/plain": [
       "<keras.callbacks.History at 0x199a2bb2670>"
      ]
     },
     "execution_count": 18,
     "metadata": {},
     "output_type": "execute_result"
    }
   ],
   "source": [
    "epochs = 60\n",
    "transformer.summary()\n",
    "transformer.compile(\n",
    "    \"rmsprop\", loss=\"sparse_categorical_crossentropy\", metrics=[\"accuracy\"]\n",
    ")\n",
    "transformer.fit(train_ds, epochs=epochs, validation_data=val_ds)"
   ]
  },
  {
   "cell_type": "code",
   "execution_count": null,
   "id": "7d7517c1",
   "metadata": {},
   "outputs": [],
   "source": [
    "ukr_vocab = ukr_vectorization.get_vocabulary()\n",
    "ukr_index_lookup = dict(zip(range(len(ukr_vocab)), ukr_vocab))\n",
    "max_decoded_sentence_length = 20\n",
    "\n",
    "\n",
    "def decode_sequence(input_sentence):\n",
    "    tokenized_input_sentence = eng_vectorization([input_sentence])\n",
    "    decoded_sentence = \"[start]\"\n",
    "\n",
    "    for i in range(max_decoded_sentence_length):\n",
    "        tokenized_target_sentence = ukr_vectorization([decoded_sentence])[:, :-1]\n",
    "        predictions = transformer([tokenized_input_sentence, tokenized_target_sentence])\n",
    "        sampled_token_index = np.argmax(predictions[0, i, :])\n",
    "        sampled_token = ukr_index_lookup[sampled_token_index]\n",
    "        decoded_sentence += \" \" + sampled_token\n",
    "\n",
    "        if sampled_token == \"[end]\":\n",
    "            break\n",
    "    return decoded_sentence\n",
    "\n",
    "\n",
    "test_eng_texts = [pair[0] for pair in test_pairs]\n",
    "for _ in range(5):\n",
    "    input_sentence = random.choice(test_eng_texts)\n",
    "    translated = decode_sequence(input_sentence)\n",
    "    print(\"input_sentence: \", input_sentence,\" translated: \", translated)"
   ]
  },
  {
   "cell_type": "markdown",
   "id": "90de2fd5",
   "metadata": {},
   "source": [
    "input_sentence:  Maybe you should go home.  translated:  [start] Можливо тобі слід йти додому [end]\n",
    "\n",
    "input_sentence:  Tom a lot older than I am.  translated:  [start] Том набагато старша ніж я [end]\n",
    "\n",
    "input_sentence:  No one shouted.  translated:  [start] Ніхто не [UNK] [end]\n",
    "\n",
    "input_sentence:  Many yachts are the harbor.  translated:  [start] В [UNK] у [UNK] [UNK] [end]\n",
    "\n",
    "input_sentence:  Tom one of Marys children.  translated:  [start] Том — один із дітей Мері [end]"
   ]
  },
  {
   "cell_type": "markdown",
   "id": "476e2fac",
   "metadata": {},
   "source": [
    "### Save model"
   ]
  },
  {
   "cell_type": "code",
   "execution_count": 19,
   "id": "fa443162",
   "metadata": {},
   "outputs": [],
   "source": [
    "transformer.save_weights(\"/home/translater2\")"
   ]
  },
  {
   "cell_type": "code",
   "execution_count": 20,
   "id": "dc47fe14",
   "metadata": {},
   "outputs": [
    {
     "data": {
      "text/plain": [
       "<tensorflow.python.training.tracking.util.CheckpointLoadStatus at 0x1999ba2d4c0>"
      ]
     },
     "execution_count": 20,
     "metadata": {},
     "output_type": "execute_result"
    }
   ],
   "source": [
    "tr2 = keras.Model([encoder_inputs, decoder_inputs], decoder_outputs, name=\"tr2\")\n",
    "tr2.load_weights('/home/translater2')"
   ]
  },
  {
   "cell_type": "code",
   "execution_count": null,
   "id": "79808b09",
   "metadata": {},
   "outputs": [],
   "source": [
    "tr2.compile(\n",
    "    \"rmsprop\", loss=\"sparse_categorical_crossentropy\", metrics=[\"accuracy\"]\n",
    ")\n",
    "# tr2.fit(train_ds, epochs=epochs, validation_data=val_ds)\n",
    "test_eng_texts = [pair[0] for pair in test_pairs]\n",
    "for _ in range(5):\n",
    "    input_sentence = random.choice(test_eng_texts)\n",
    "    # print(\"input_sentence:\", input_sentence)\n",
    "    translated = decode_sequence(input_sentence)\n",
    "    print(\"input_sentence: \", input_sentence,\" translated: \", translated)"
   ]
  },
  {
   "cell_type": "code",
   "execution_count": 23,
   "id": "05d1dcdd",
   "metadata": {},
   "outputs": [
    {
     "name": "stdout",
     "output_type": "stream",
     "text": [
      "Model: \"tr2\"\n",
      "__________________________________________________________________________________________________\n",
      " Layer (type)                   Output Shape         Param #     Connected to                     \n",
      "==================================================================================================\n",
      " encoder_inputs (InputLayer)    [(None, None)]       0           []                               \n",
      "                                                                                                  \n",
      " positional_embedding_2 (Positi  (None, None, 128)   1922560     ['encoder_inputs[0][0]']         \n",
      " onalEmbedding)                                                                                   \n",
      "                                                                                                  \n",
      " decoder_inputs (InputLayer)    [(None, None)]       0           []                               \n",
      "                                                                                                  \n",
      " transformer_encoder_1 (Transfo  (None, None, 128)   593920      ['positional_embedding_2[0][0]'] \n",
      " rmerEncoder)                                                                                     \n",
      "                                                                                                  \n",
      " model_3 (Functional)           (None, None, 15000)  4979224     ['decoder_inputs[0][0]',         \n",
      "                                                                  'transformer_encoder_1[0][0]']  \n",
      "                                                                                                  \n",
      "==================================================================================================\n",
      "Total params: 7,495,704\n",
      "Trainable params: 7,495,704\n",
      "Non-trainable params: 0\n",
      "__________________________________________________________________________________________________\n"
     ]
    }
   ],
   "source": [
    "tr2.summary()"
   ]
  },
  {
   "cell_type": "code",
   "execution_count": null,
   "id": "656b76e5",
   "metadata": {},
   "outputs": [],
   "source": []
  }
 ],
 "metadata": {
  "kernelspec": {
   "display_name": "Python 3 (ipykernel)",
   "language": "python",
   "name": "python3"
  },
  "language_info": {
   "codemirror_mode": {
    "name": "ipython",
    "version": 3
   },
   "file_extension": ".py",
   "mimetype": "text/x-python",
   "name": "python",
   "nbconvert_exporter": "python",
   "pygments_lexer": "ipython3",
   "version": "3.9.7"
  }
 },
 "nbformat": 4,
 "nbformat_minor": 5
}
