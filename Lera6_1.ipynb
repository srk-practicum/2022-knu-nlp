{
  "nbformat": 4,
  "nbformat_minor": 0,
  "metadata": {
    "colab": {
      "name": "Lera6.1.ipynb",
      "provenance": []
    },
    "kernelspec": {
      "name": "python3",
      "display_name": "Python 3"
    },
    "language_info": {
      "name": "python"
    }
  },
  "cells": [
    {
      "cell_type": "code",
      "source": [
        "!pip install transformers"
      ],
      "metadata": {
        "id": "El4tfQj3Bx9h"
      },
      "execution_count": null,
      "outputs": []
    },
    {
      "cell_type": "code",
      "execution_count": 56,
      "metadata": {
        "id": "ohTBfXAcA0Q9"
      },
      "outputs": [],
      "source": [
        "from transformers import pipeline\n",
        "from transformers import AutoTokenizer, TFAutoModelForSequenceClassification\n",
        "import tensorflow as tf"
      ]
    },
    {
      "cell_type": "code",
      "source": [
        "text_clasification = pipeline('sentiment-analysis',model = \"j-hartmann/emotion-english-distilroberta-base\", return_all_scores=True)"
      ],
      "metadata": {
        "id": "m0D2CDLuA4hr"
      },
      "execution_count": 35,
      "outputs": []
    },
    {
      "cell_type": "code",
      "source": [
        "test1 = 'I am scared'\n",
        "text_clasification(test1)"
      ],
      "metadata": {
        "colab": {
          "base_uri": "https://localhost:8080/"
        },
        "id": "xbyXxU50ENAc",
        "outputId": "d7574090-916e-4326-a563-c87f41128046"
      },
      "execution_count": 39,
      "outputs": [
        {
          "output_type": "execute_result",
          "data": {
            "text/plain": [
              "[[{'label': 'anger', 'score': 0.0007163436966948211},\n",
              "  {'label': 'disgust', 'score': 0.00041105312993749976},\n",
              "  {'label': 'fear', 'score': 0.9940180778503418},\n",
              "  {'label': 'joy', 'score': 0.0007126834825612605},\n",
              "  {'label': 'neutral', 'score': 0.0012325181160122156},\n",
              "  {'label': 'sadness', 'score': 0.0020408525597304106},\n",
              "  {'label': 'surprise', 'score': 0.0008686112705618143}]]"
            ]
          },
          "metadata": {},
          "execution_count": 39
        }
      ]
    },
    {
      "cell_type": "code",
      "source": [
        "test2 = 'How could you dare?'\n",
        "text_clasification(test2)"
      ],
      "metadata": {
        "colab": {
          "base_uri": "https://localhost:8080/"
        },
        "id": "i81vP-_CJ_fc",
        "outputId": "c716ea3a-856c-49dd-d782-551a278199cc"
      },
      "execution_count": 46,
      "outputs": [
        {
          "output_type": "execute_result",
          "data": {
            "text/plain": [
              "[[{'label': 'anger', 'score': 0.9583742022514343},\n",
              "  {'label': 'disgust', 'score': 0.01923876814544201},\n",
              "  {'label': 'fear', 'score': 0.00683360081166029},\n",
              "  {'label': 'joy', 'score': 0.000912993389647454},\n",
              "  {'label': 'neutral', 'score': 0.0030341146048158407},\n",
              "  {'label': 'sadness', 'score': 0.002004524925723672},\n",
              "  {'label': 'surprise', 'score': 0.009601854719221592}]]"
            ]
          },
          "metadata": {},
          "execution_count": 46
        }
      ]
    },
    {
      "cell_type": "code",
      "source": [
        "#fill_mask = pipeline('fill-mask', model='bert-base-uncased')\n",
        "#fill_mask(\"Hello, I'm a [MASK] teacher.\")"
      ],
      "metadata": {
        "colab": {
          "base_uri": "https://localhost:8080/"
        },
        "id": "QGxvtXfPES8i",
        "outputId": "dd6e5225-4937-4c1d-aeee-aeda88cebee0"
      },
      "execution_count": 41,
      "outputs": [
        {
          "output_type": "stream",
          "name": "stderr",
          "text": [
            "Some weights of the model checkpoint at bert-base-uncased were not used when initializing BertForMaskedLM: ['cls.seq_relationship.weight', 'cls.seq_relationship.bias']\n",
            "- This IS expected if you are initializing BertForMaskedLM from the checkpoint of a model trained on another task or with another architecture (e.g. initializing a BertForSequenceClassification model from a BertForPreTraining model).\n",
            "- This IS NOT expected if you are initializing BertForMaskedLM from the checkpoint of a model that you expect to be exactly identical (initializing a BertForSequenceClassification model from a BertForSequenceClassification model).\n"
          ]
        },
        {
          "output_type": "execute_result",
          "data": {
            "text/plain": [
              "[{'score': 0.11413352936506271,\n",
              "  'sequence': \"hello, i'm a history teacher.\",\n",
              "  'token': 2381,\n",
              "  'token_str': 'history'},\n",
              " {'score': 0.07028090208768845,\n",
              "  'sequence': \"hello, i'm a school teacher.\",\n",
              "  'token': 2082,\n",
              "  'token_str': 'school'},\n",
              " {'score': 0.06983745843172073,\n",
              "  'sequence': \"hello, i'm a good teacher.\",\n",
              "  'token': 2204,\n",
              "  'token_str': 'good'},\n",
              " {'score': 0.05665993690490723,\n",
              "  'sequence': \"hello, i'm a science teacher.\",\n",
              "  'token': 2671,\n",
              "  'token_str': 'science'},\n",
              " {'score': 0.05624273791909218,\n",
              "  'sequence': \"hello, i'm a music teacher.\",\n",
              "  'token': 2189,\n",
              "  'token_str': 'music'}]"
            ]
          },
          "metadata": {},
          "execution_count": 41
        }
      ]
    },
    {
      "cell_type": "code",
      "source": [
        "base_model = \"j-hartmann/emotion-english-distilroberta-base\"\n",
        "model = TFAutoModelForSequenceClassification.from_pretrained(base_model, from_pt=True)\n",
        "tokenizer = AutoTokenizer.from_pretrained(base_model)"
      ],
      "metadata": {
        "id": "vKfYE__lES_F"
      },
      "execution_count": null,
      "outputs": []
    },
    {
      "cell_type": "code",
      "source": [
        "inputs = tokenizer([test1, test2])\n",
        "inputs"
      ],
      "metadata": {
        "colab": {
          "base_uri": "https://localhost:8080/"
        },
        "id": "A6sZF1CZLngs",
        "outputId": "892af842-e216-438c-b76e-388b30b1052b"
      },
      "execution_count": 47,
      "outputs": [
        {
          "output_type": "execute_result",
          "data": {
            "text/plain": [
              "{'input_ids': [[0, 100, 524, 8265, 2], [0, 6179, 115, 47, 19046, 116, 2]], 'attention_mask': [[1, 1, 1, 1, 1], [1, 1, 1, 1, 1, 1, 1]]}"
            ]
          },
          "metadata": {},
          "execution_count": 47
        }
      ]
    },
    {
      "cell_type": "code",
      "source": [
        "inputs_with_padding = tokenizer([test1, test2], padding = True, truncation = True, return_tensors=\"tf\")\n",
        "inputs_with_padding"
      ],
      "metadata": {
        "colab": {
          "base_uri": "https://localhost:8080/"
        },
        "id": "Ebsk7a8GLnpj",
        "outputId": "eb64d7e4-1440-4c7f-d0c8-3bf44096e632"
      },
      "execution_count": 54,
      "outputs": [
        {
          "output_type": "execute_result",
          "data": {
            "text/plain": [
              "{'input_ids': <tf.Tensor: shape=(2, 7), dtype=int32, numpy=\n",
              "array([[    0,   100,   524,  8265,     2,     1,     1],\n",
              "       [    0,  6179,   115,    47, 19046,   116,     2]], dtype=int32)>, 'attention_mask': <tf.Tensor: shape=(2, 7), dtype=int32, numpy=\n",
              "array([[1, 1, 1, 1, 1, 0, 0],\n",
              "       [1, 1, 1, 1, 1, 1, 1]], dtype=int32)>}"
            ]
          },
          "metadata": {},
          "execution_count": 54
        }
      ]
    },
    {
      "cell_type": "code",
      "source": [
        "outputs = model(inputs_with_padding)\n",
        "outputs"
      ],
      "metadata": {
        "colab": {
          "base_uri": "https://localhost:8080/"
        },
        "id": "hlFOk0IDLns2",
        "outputId": "589471ec-9e2b-41bc-c792-63f682cff801"
      },
      "execution_count": 55,
      "outputs": [
        {
          "output_type": "execute_result",
          "data": {
            "text/plain": [
              "TFSequenceClassifierOutput([('logits',\n",
              "                             <tf.Tensor: shape=(2, 7), dtype=float32, numpy=\n",
              "                             array([[-1.2862786 , -1.8417155 ,  5.949072  , -1.291403  , -0.7436233 ,\n",
              "                                     -0.23931551, -1.0935441 ],\n",
              "                                    [ 4.723003  ,  0.8146871 , -0.22038527, -2.2332654 , -1.0323194 ,\n",
              "                                     -1.4468334 ,  0.1197142 ]], dtype=float32)>)])"
            ]
          },
          "metadata": {},
          "execution_count": 55
        }
      ]
    },
    {
      "cell_type": "code",
      "source": [
        "predictions = tf.nn.softmax(outputs[0], axis=-1)\n",
        "predictions"
      ],
      "metadata": {
        "colab": {
          "base_uri": "https://localhost:8080/"
        },
        "id": "xcD6i2DWLnvW",
        "outputId": "9fd87009-5f8e-4e02-ac9e-5cca31a27506"
      },
      "execution_count": 57,
      "outputs": [
        {
          "output_type": "execute_result",
          "data": {
            "text/plain": [
              "<tf.Tensor: shape=(2, 7), dtype=float32, numpy=\n",
              "array([[7.1634370e-04, 4.1105354e-04, 9.9401808e-01, 7.1268249e-04,\n",
              "        1.2325193e-03, 2.0408535e-03, 8.6861051e-04],\n",
              "       [9.5837450e-01, 1.9238679e-02, 6.8335934e-03, 9.1299060e-04,\n",
              "        3.0341039e-03, 2.0045158e-03, 9.6017942e-03]], dtype=float32)>"
            ]
          },
          "metadata": {},
          "execution_count": 57
        }
      ]
    },
    {
      "cell_type": "code",
      "source": [
        "predictions[0][2]"
      ],
      "metadata": {
        "colab": {
          "base_uri": "https://localhost:8080/"
        },
        "id": "pK_Jfx77Lnyk",
        "outputId": "3a0f1a00-e842-4749-ddb7-159e6cdc4a36"
      },
      "execution_count": 71,
      "outputs": [
        {
          "output_type": "execute_result",
          "data": {
            "text/plain": [
              "<tf.Tensor: shape=(), dtype=float32, numpy=0.9940181>"
            ]
          },
          "metadata": {},
          "execution_count": 71
        }
      ]
    },
    {
      "cell_type": "code",
      "source": [
        "predictions[1][0]"
      ],
      "metadata": {
        "colab": {
          "base_uri": "https://localhost:8080/"
        },
        "id": "Ovq_6fhOR9zv",
        "outputId": "6a9b23bc-34e3-4696-f407-4316b15a66d7"
      },
      "execution_count": 70,
      "outputs": [
        {
          "output_type": "execute_result",
          "data": {
            "text/plain": [
              "<tf.Tensor: shape=(), dtype=float32, numpy=0.9583745>"
            ]
          },
          "metadata": {},
          "execution_count": 70
        }
      ]
    }
  ]
}