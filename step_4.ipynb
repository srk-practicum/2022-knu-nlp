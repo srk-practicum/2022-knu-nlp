{
  "cells": [
    {
      "cell_type": "markdown",
      "id": "agricultural-police",
      "metadata": {
        "id": "agricultural-police"
      },
      "source": [
        "# Step 4 - Text classification with Transformer"
      ]
    },
    {
      "cell_type": "code",
      "source": [
        "from google.colab import drive\n",
        "drive.mount(\"/content/gdrive\", force_remount=True)"
      ],
      "metadata": {
        "colab": {
          "base_uri": "https://localhost:8080/"
        },
        "id": "hrddE4LfvqBi",
        "outputId": "d0a94320-56c5-489b-9d3b-d791d2108923"
      },
      "id": "hrddE4LfvqBi",
      "execution_count": null,
      "outputs": [
        {
          "output_type": "stream",
          "name": "stdout",
          "text": [
            "Mounted at /content/gdrive\n"
          ]
        }
      ]
    },
    {
      "cell_type": "code",
      "execution_count": null,
      "id": "serious-coffee",
      "metadata": {
        "id": "serious-coffee"
      },
      "outputs": [],
      "source": [
        "import pandas as pd\n",
        "import numpy as np\n",
        "import tensorflow as tf\n",
        "from tensorflow import keras\n",
        "from tensorflow.keras import layers\n",
        "from keras.callbacks import EarlyStopping\n",
        "import matplotlib.pyplot as plt\n",
        "from sklearn.model_selection import train_test_split"
      ]
    },
    {
      "cell_type": "markdown",
      "id": "exact-efficiency",
      "metadata": {
        "id": "exact-efficiency"
      },
      "source": [
        "### Job Type"
      ]
    },
    {
      "cell_type": "code",
      "execution_count": null,
      "id": "separate-senior",
      "metadata": {
        "id": "separate-senior"
      },
      "outputs": [],
      "source": [
        "def str_to_num_lst(x):\n",
        "    x = x.replace(\"'\", \"\").replace(\"[\", \"\").replace(\"]\", \"\").split(\", \")\n",
        "    return list(map(int, x))"
      ]
    },
    {
      "cell_type": "code",
      "execution_count": null,
      "id": "limited-consultancy",
      "metadata": {
        "id": "limited-consultancy"
      },
      "outputs": [],
      "source": [
        "# Download and prepare dataset\n",
        "train_df = pd.read_csv(\"/content/gdrive/MyDrive/practice_nlp_2022/data/tmp_type_train.csv\")\n",
        "train_df['job_description'] = train_df['job_description'].apply(lambda x: str_to_num_lst(x))\n",
        "X_train = train_df[\"job_description\"]\n",
        "Y_train = train_df[\"y\"]\n",
        "y_train = np.asarray(Y_train).astype(\"float32\")\n",
        "\n",
        "test_df = pd.read_csv(\"/content/gdrive/MyDrive/practice_nlp_2022/data/tmp_type_test.csv\")\n",
        "test_df['job_description'] = test_df['job_description'].apply(lambda x: str_to_num_lst(x))\n",
        "X_test = test_df[\"job_description\"]\n",
        "Y_test = test_df[\"y\"]\n",
        "y_test = np.asarray(Y_test).astype(\"float32\")"
      ]
    },
    {
      "cell_type": "code",
      "execution_count": null,
      "id": "stylish-triple",
      "metadata": {
        "id": "stylish-triple"
      },
      "outputs": [],
      "source": [
        "max_seq_len = 80\n",
        "\n",
        "x_train = keras.preprocessing.sequence.pad_sequences(X_train, maxlen = max_seq_len)\n",
        "x_test = keras.preprocessing.sequence.pad_sequences(X_test, maxlen = max_seq_len)"
      ]
    },
    {
      "cell_type": "markdown",
      "source": [
        "##### Implement a Transformer block as a layer"
      ],
      "metadata": {
        "id": "9UNQt57iNmra"
      },
      "id": "9UNQt57iNmra"
    },
    {
      "cell_type": "code",
      "execution_count": null,
      "id": "essential-leadership",
      "metadata": {
        "id": "essential-leadership"
      },
      "outputs": [],
      "source": [
        "class TransformerBlock(layers.Layer):\n",
        "    def __init__(self, embed_dim, num_heads, ff_dim, rate=0.1):\n",
        "        super(TransformerBlock, self).__init__()\n",
        "        self.att = layers.MultiHeadAttention(num_heads=num_heads, key_dim=embed_dim)\n",
        "        self.ffn = keras.Sequential(\n",
        "            [layers.Dense(ff_dim, activation=\"relu\"), layers.Dense(embed_dim),]\n",
        "        )\n",
        "        self.layernorm1 = layers.LayerNormalization(epsilon=1e-6)\n",
        "        self.layernorm2 = layers.LayerNormalization(epsilon=1e-6)\n",
        "        self.dropout1 = layers.Dropout(rate)\n",
        "        self.dropout2 = layers.Dropout(rate)\n",
        "\n",
        "    def call(self, inputs, training):\n",
        "        attn_output = self.att(inputs, inputs)\n",
        "        attn_output = self.dropout1(attn_output, training=training)\n",
        "        out1 = self.layernorm1(inputs + attn_output)\n",
        "        ffn_output = self.ffn(out1)\n",
        "        ffn_output = self.dropout2(ffn_output, training=training)\n",
        "        return self.layernorm2(out1 + ffn_output)"
      ]
    },
    {
      "cell_type": "code",
      "execution_count": null,
      "id": "spatial-grounds",
      "metadata": {
        "id": "spatial-grounds"
      },
      "outputs": [],
      "source": [
        "# Implement embedding layer\n",
        "# Two seperate embedding layers, one for tokens, one for token index (positions).\n",
        "\n",
        "class TokenAndPositionEmbedding(layers.Layer):\n",
        "    def __init__(self, maxlen, vocab_size, embed_dim):\n",
        "        super(TokenAndPositionEmbedding, self).__init__()\n",
        "        self.token_emb = layers.Embedding(input_dim=vocab_size, output_dim=embed_dim)\n",
        "        self.pos_emb = layers.Embedding(input_dim=maxlen, output_dim=embed_dim)\n",
        "\n",
        "    def call(self, x):\n",
        "        maxlen = tf.shape(x)[-1]\n",
        "        positions = tf.range(start=0, limit=maxlen, delta=1)\n",
        "        positions = self.pos_emb(positions)\n",
        "        x = self.token_emb(x)\n",
        "        return x + positions"
      ]
    },
    {
      "cell_type": "markdown",
      "source": [
        "## Create classifier model using transformer layer"
      ],
      "metadata": {
        "id": "mDL2wkjXqTF-"
      },
      "id": "mDL2wkjXqTF-"
    },
    {
      "cell_type": "code",
      "source": [
        "# Transformer layer outputs one vector for each time step of our input sequence. \n",
        "# Here, we take the mean across all time steps and use a feed forward network on top of it to classify text.\n",
        "\n",
        "my_callbacks = [tf.keras.callbacks.EarlyStopping(patience=2)]\n",
        "max_features = 20000 \n",
        "\n",
        "embed_dim = 32  # Embedding size for each token\n",
        "num_heads = 4  # Number of attention heads\n",
        "ff_dim = 32  # Hidden layer size in feed forward network inside transformer\n",
        "\n",
        "inputs = layers.Input(shape=(max_seq_len,))\n",
        "embedding_layer = TokenAndPositionEmbedding(max_seq_len, max_features, embed_dim)\n",
        "x = embedding_layer(inputs)\n",
        "transformer_block = TransformerBlock(embed_dim, num_heads, ff_dim)\n",
        "x = transformer_block(x)\n",
        "x = layers.GlobalAveragePooling1D()(x)\n",
        "x = layers.Dropout(0.2)(x)\n",
        "x = layers.Dense(32, activation=\"relu\")(x)\n",
        "x = layers.Dropout(0.2)(x)\n",
        "outputs = layers.Dense(6, activation=\"softmax\")(x)\n",
        "\n",
        "model_type = keras.Model(inputs=inputs, outputs=outputs)\n",
        "model_type.compile(\n",
        "    optimizer = \"adam\", \n",
        "    loss = \"sparse_categorical_crossentropy\", \n",
        "    metrics = [\"accuracy\"]\n",
        ")"
      ],
      "metadata": {
        "id": "Gy9wkjk7qZ6j"
      },
      "id": "Gy9wkjk7qZ6j",
      "execution_count": null,
      "outputs": []
    },
    {
      "cell_type": "markdown",
      "source": [
        "##### Train and Evaluate"
      ],
      "metadata": {
        "id": "vG6ZiGbhN3WP"
      },
      "id": "vG6ZiGbhN3WP"
    },
    {
      "cell_type": "code",
      "execution_count": null,
      "id": "talented-convergence",
      "metadata": {
        "colab": {
          "base_uri": "https://localhost:8080/"
        },
        "id": "talented-convergence",
        "outputId": "b71d680f-933a-4d03-f262-ad52de9ba804"
      },
      "outputs": [
        {
          "output_type": "stream",
          "name": "stdout",
          "text": [
            "Epoch 1/5\n",
            "111/111 [==============================] - 9s 39ms/step - loss: 0.4710 - accuracy: 0.8847 - val_loss: 0.2331 - val_accuracy: 0.9258\n",
            "Epoch 2/5\n",
            "111/111 [==============================] - 3s 31ms/step - loss: 0.1669 - accuracy: 0.9536 - val_loss: 0.1182 - val_accuracy: 0.9640\n",
            "Epoch 3/5\n",
            "111/111 [==============================] - 4s 33ms/step - loss: 0.0914 - accuracy: 0.9742 - val_loss: 0.0790 - val_accuracy: 0.9734\n",
            "Epoch 4/5\n",
            "111/111 [==============================] - 3s 31ms/step - loss: 0.0638 - accuracy: 0.9803 - val_loss: 0.0714 - val_accuracy: 0.9822\n",
            "Epoch 5/5\n",
            "111/111 [==============================] - 2s 22ms/step - loss: 0.0501 - accuracy: 0.9841 - val_loss: 0.0675 - val_accuracy: 0.9816\n"
          ]
        }
      ],
      "source": [
        "history = model_type.fit(\n",
        "    x_train, \n",
        "    y_train, \n",
        "    batch_size = 128, \n",
        "    epochs = 5, \n",
        "    validation_data = (x_test, y_test),\n",
        "    callbacks = my_callbacks\n",
        ")"
      ]
    },
    {
      "cell_type": "code",
      "source": [
        "def loss_plot(history):\n",
        "    history_dict = history.history\n",
        "    loss_values = history_dict[\"loss\"]\n",
        "    val_loss_values = history_dict[\"val_loss\"]\n",
        "    epochs = range(1, len(loss_values) + 1)\n",
        "    plt.plot(epochs, loss_values, \"bo\", label=\"Training loss\")\n",
        "    plt.plot(epochs, val_loss_values, \"b\", label=\"Validation loss\")\n",
        "    plt.title(\"Training and validation loss\")\n",
        "    plt.xlabel(\"Epochs\")\n",
        "    plt.ylabel(\"Loss\")\n",
        "    plt.legend()\n",
        "    plt.show()"
      ],
      "metadata": {
        "id": "iXQa13mfqzz7"
      },
      "id": "iXQa13mfqzz7",
      "execution_count": null,
      "outputs": []
    },
    {
      "cell_type": "code",
      "execution_count": null,
      "id": "colonial-iraqi",
      "metadata": {
        "colab": {
          "base_uri": "https://localhost:8080/",
          "height": 295
        },
        "id": "colonial-iraqi",
        "outputId": "059e9ee2-e2da-4f53-ee19-fa9fe1db19d6"
      },
      "outputs": [
        {
          "output_type": "display_data",
          "data": {
            "image/png": "[encoded data removed]",
            "text/plain": [
              "<Figure size 432x288 with 1 Axes>"
            ]
          },
          "metadata": {
            "needs_background": "light"
          }
        }
      ],
      "source": [
        "loss_plot(history)"
      ]
    },
    {
      "cell_type": "code",
      "execution_count": null,
      "id": "fossil-illness",
      "metadata": {
        "colab": {
          "base_uri": "https://localhost:8080/"
        },
        "id": "fossil-illness",
        "outputId": "02f65571-3de1-4fc4-c2b3-6054d66f6cbe"
      },
      "outputs": [
        {
          "output_type": "stream",
          "name": "stdout",
          "text": [
            "Test score: 0.06750018149614334\n",
            "Test accuracy: 0.981596827507019\n"
          ]
        }
      ],
      "source": [
        "score = model_type.evaluate(x_test, y_test, verbose=0) \n",
        "print('Test score:', score[0]) \n",
        "print('Test accuracy:', score[1])"
      ]
    },
    {
      "cell_type": "markdown",
      "id": "indoor-scottish",
      "metadata": {
        "id": "indoor-scottish"
      },
      "source": [
        "### Job Category"
      ]
    },
    {
      "cell_type": "code",
      "execution_count": null,
      "id": "thick-kingston",
      "metadata": {
        "id": "thick-kingston"
      },
      "outputs": [],
      "source": [
        "train_df = pd.read_csv(\"/content/gdrive/MyDrive/practice_nlp_2022/data/tmp_category_train.csv\")\n",
        "train_df['job_description'] = train_df['job_description'].apply(lambda x: str_to_num_lst(x))\n",
        "X_train = train_df[\"job_description\"]\n",
        "Y_train = train_df[\"y\"]\n",
        "y_train = np.asarray(Y_train).astype(\"float32\")\n",
        "\n",
        "test_df = pd.read_csv(\"/content/gdrive/MyDrive/practice_nlp_2022/data/tmp_category_test.csv\")\n",
        "test_df['job_description'] = test_df['job_description'].apply(lambda x: str_to_num_lst(x))\n",
        "X_test = test_df[\"job_description\"]\n",
        "Y_test = test_df[\"y\"]\n",
        "y_test = np.asarray(Y_test).astype(\"float32\")"
      ]
    },
    {
      "cell_type": "code",
      "execution_count": null,
      "id": "taken-psychology",
      "metadata": {
        "id": "taken-psychology"
      },
      "outputs": [],
      "source": [
        "max_seq_len = 80\n",
        "\n",
        "x_train = keras.preprocessing.sequence.pad_sequences(X_train, maxlen = max_seq_len)\n",
        "x_test = keras.preprocessing.sequence.pad_sequences(X_test, maxlen = max_seq_len)"
      ]
    },
    {
      "cell_type": "code",
      "source": [
        "my_callbacks = [tf.keras.callbacks.EarlyStopping(patience=2)]\n",
        "max_features = 20000\n",
        "\n",
        "embed_dim = 32  # Embedding size for each token\n",
        "num_heads = 4  # Number of attention heads\n",
        "ff_dim = 32  # Hidden layer size in feed forward network inside transformer\n",
        "\n",
        "inputs = layers.Input(shape=(max_seq_len,))\n",
        "embedding_layer = TokenAndPositionEmbedding(max_seq_len, max_features, embed_dim)\n",
        "x = embedding_layer(inputs)\n",
        "transformer_block = TransformerBlock(embed_dim, num_heads, ff_dim)\n",
        "x = transformer_block(x)\n",
        "x = layers.GlobalAveragePooling1D()(x)\n",
        "x = layers.Dropout(0.2)(x)\n",
        "x = layers.Dense(32, activation=\"relu\")(x)\n",
        "x = layers.Dropout(0.2)(x)\n",
        "outputs = layers.Dense(11, activation=\"softmax\")(x)\n",
        "\n",
        "model_category = keras.Model(inputs=inputs, outputs=outputs)\n",
        "model_category.compile(\n",
        "    optimizer = \"adam\", \n",
        "    loss = \"sparse_categorical_crossentropy\", \n",
        "    metrics = [\"accuracy\"]\n",
        ")"
      ],
      "metadata": {
        "id": "BstFVvONrKcT"
      },
      "id": "BstFVvONrKcT",
      "execution_count": null,
      "outputs": []
    },
    {
      "cell_type": "code",
      "execution_count": null,
      "id": "chicken-desktop",
      "metadata": {
        "colab": {
          "base_uri": "https://localhost:8080/"
        },
        "id": "chicken-desktop",
        "outputId": "47ff31f6-2059-4657-ffd2-0596a029d6b3"
      },
      "outputs": [
        {
          "output_type": "stream",
          "name": "stdout",
          "text": [
            "Epoch 1/7\n",
            "111/111 [==============================] - 6s 26ms/step - loss: 1.7949 - accuracy: 0.3682 - val_loss: 1.4068 - val_accuracy: 0.4672\n",
            "Epoch 2/7\n",
            "111/111 [==============================] - 2s 22ms/step - loss: 1.3232 - accuracy: 0.5023 - val_loss: 1.2330 - val_accuracy: 0.5173\n",
            "Epoch 3/7\n",
            "111/111 [==============================] - 2s 22ms/step - loss: 1.1447 - accuracy: 0.5527 - val_loss: 1.1147 - val_accuracy: 0.5481\n",
            "Epoch 4/7\n",
            "111/111 [==============================] - 2s 22ms/step - loss: 1.0560 - accuracy: 0.5890 - val_loss: 1.0947 - val_accuracy: 0.5566\n",
            "Epoch 5/7\n",
            "111/111 [==============================] - 2s 22ms/step - loss: 1.0012 - accuracy: 0.6030 - val_loss: 1.0462 - val_accuracy: 0.5620\n",
            "Epoch 6/7\n",
            "111/111 [==============================] - 2s 22ms/step - loss: 0.9493 - accuracy: 0.6164 - val_loss: 1.0620 - val_accuracy: 0.5535\n",
            "Epoch 7/7\n",
            "111/111 [==============================] - 2s 22ms/step - loss: 0.9207 - accuracy: 0.6256 - val_loss: 1.0311 - val_accuracy: 0.5614\n"
          ]
        }
      ],
      "source": [
        "history = model_category.fit(\n",
        "    x_train, \n",
        "    y_train, \n",
        "    batch_size = 128, \n",
        "    epochs = 7, \n",
        "    validation_data = (x_test, y_test),\n",
        "    callbacks = my_callbacks\n",
        ")"
      ]
    },
    {
      "cell_type": "code",
      "execution_count": null,
      "id": "compliant-mining",
      "metadata": {
        "colab": {
          "base_uri": "https://localhost:8080/",
          "height": 295
        },
        "id": "compliant-mining",
        "outputId": "d8ad8364-307a-4d04-a70a-4677bab4ca94"
      },
      "outputs": [
        {
          "output_type": "display_data",
          "data": {
            "image/png": "[encoded data removed]",
            "text/plain": [
              "<Figure size 432x288 with 1 Axes>"
            ]
          },
          "metadata": {
            "needs_background": "light"
          }
        }
      ],
      "source": [
        "loss_plot(history)"
      ]
    },
    {
      "cell_type": "code",
      "execution_count": null,
      "id": "latter-secret",
      "metadata": {
        "colab": {
          "base_uri": "https://localhost:8080/"
        },
        "id": "latter-secret",
        "outputId": "394db65f-2c6f-4f5f-efa2-3a9fd11e6f79"
      },
      "outputs": [
        {
          "output_type": "stream",
          "name": "stdout",
          "text": [
            "Test score: 1.0310890674591064\n",
            "Test accuracy: 0.561438262462616\n"
          ]
        }
      ],
      "source": [
        "score = model_category.evaluate(x_test, y_test, verbose=0) \n",
        "print('Test score:', score[0]) \n",
        "print('Test accuracy:', score[1])"
      ]
    },
    {
      "cell_type": "code",
      "execution_count": null,
      "id": "stuck-transportation",
      "metadata": {
        "id": "stuck-transportation"
      },
      "outputs": [],
      "source": [
        ""
      ]
    }
  ],
  "metadata": {
    "kernelspec": {
      "display_name": "Python 3",
      "language": "python",
      "name": "python3"
    },
    "language_info": {
      "codemirror_mode": {
        "name": "ipython",
        "version": 3
      },
      "file_extension": ".py",
      "mimetype": "text/x-python",
      "name": "python",
      "nbconvert_exporter": "python",
      "pygments_lexer": "ipython3",
      "version": "3.8.10"
    },
    "colab": {
      "name": "step_4.ipynb",
      "provenance": [],
      "collapsed_sections": []
    },
    "accelerator": "GPU"
  },
  "nbformat": 4,
  "nbformat_minor": 5
}