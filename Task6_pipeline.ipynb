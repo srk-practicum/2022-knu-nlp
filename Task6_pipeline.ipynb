{
  "nbformat": 4,
  "nbformat_minor": 0,
  "metadata": {
    "colab": {
      "name": "Task6-pipeline.ipynb",
      "provenance": []
    },
    "kernelspec": {
      "name": "python3",
      "display_name": "Python 3"
    },
    "language_info": {
      "name": "python"
    },
    "widgets": {
      "application/vnd.jupyter.widget-state+json": {
        "7d0c69fb5ea044099bffbf7c1f926e85": {
          "model_module": "@jupyter-widgets/controls",
          "model_name": "HBoxModel",
          "model_module_version": "1.5.0",
          "state": {
            "_view_name": "HBoxView",
            "_dom_classes": [],
            "_model_name": "HBoxModel",
            "_view_module": "@jupyter-widgets/controls",
            "_model_module_version": "1.5.0",
            "_view_count": null,
            "_view_module_version": "1.5.0",
            "box_style": "",
            "layout": "IPY_MODEL_861b49a2a646484d99696ffb219f75b2",
            "_model_module": "@jupyter-widgets/controls",
            "children": [
              "IPY_MODEL_5ed9a1ce45364932b680d199114125cd",
              "IPY_MODEL_a1648530ff55413185d2dfa9ce9c9bad",
              "IPY_MODEL_05a98f995d99418a8eb0e59940cf4916"
            ]
          }
        },
        "861b49a2a646484d99696ffb219f75b2": {
          "model_module": "@jupyter-widgets/base",
          "model_name": "LayoutModel",
          "model_module_version": "1.2.0",
          "state": {
            "_view_name": "LayoutView",
            "grid_template_rows": null,
            "right": null,
            "justify_content": null,
            "_view_module": "@jupyter-widgets/base",
            "overflow": null,
            "_model_module_version": "1.2.0",
            "_view_count": null,
            "flex_flow": null,
            "width": null,
            "min_width": null,
            "border": null,
            "align_items": null,
            "bottom": null,
            "_model_module": "@jupyter-widgets/base",
            "top": null,
            "grid_column": null,
            "overflow_y": null,
            "overflow_x": null,
            "grid_auto_flow": null,
            "grid_area": null,
            "grid_template_columns": null,
            "flex": null,
            "_model_name": "LayoutModel",
            "justify_items": null,
            "grid_row": null,
            "max_height": null,
            "align_content": null,
            "visibility": null,
            "align_self": null,
            "height": null,
            "min_height": null,
            "padding": null,
            "grid_auto_rows": null,
            "grid_gap": null,
            "max_width": null,
            "order": null,
            "_view_module_version": "1.2.0",
            "grid_template_areas": null,
            "object_position": null,
            "object_fit": null,
            "grid_auto_columns": null,
            "margin": null,
            "display": null,
            "left": null
          }
        },
        "5ed9a1ce45364932b680d199114125cd": {
          "model_module": "@jupyter-widgets/controls",
          "model_name": "HTMLModel",
          "model_module_version": "1.5.0",
          "state": {
            "_view_name": "HTMLView",
            "style": "IPY_MODEL_4328bc372880477f8e25d6e887b425f0",
            "_dom_classes": [],
            "description": "",
            "_model_name": "HTMLModel",
            "placeholder": "​",
            "_view_module": "@jupyter-widgets/controls",
            "_model_module_version": "1.5.0",
            "value": "Downloading: 100%",
            "_view_count": null,
            "_view_module_version": "1.5.0",
            "description_tooltip": null,
            "_model_module": "@jupyter-widgets/controls",
            "layout": "IPY_MODEL_047ef99ad0e94e629850e548c10f3bc6"
          }
        },
        "a1648530ff55413185d2dfa9ce9c9bad": {
          "model_module": "@jupyter-widgets/controls",
          "model_name": "FloatProgressModel",
          "model_module_version": "1.5.0",
          "state": {
            "_view_name": "ProgressView",
            "style": "IPY_MODEL_692acea78ea64ad8bbf104cedd8fda54",
            "_dom_classes": [],
            "description": "",
            "_model_name": "FloatProgressModel",
            "bar_style": "success",
            "max": 669729124,
            "_view_module": "@jupyter-widgets/controls",
            "_model_module_version": "1.5.0",
            "value": 669729124,
            "_view_count": null,
            "_view_module_version": "1.5.0",
            "orientation": "horizontal",
            "min": 0,
            "description_tooltip": null,
            "_model_module": "@jupyter-widgets/controls",
            "layout": "IPY_MODEL_a3c6b25b72d44836964ea37e62313ea7"
          }
        },
        "05a98f995d99418a8eb0e59940cf4916": {
          "model_module": "@jupyter-widgets/controls",
          "model_name": "HTMLModel",
          "model_module_version": "1.5.0",
          "state": {
            "_view_name": "HTMLView",
            "style": "IPY_MODEL_48666db8dd704ec4be109615359c6e8d",
            "_dom_classes": [],
            "description": "",
            "_model_name": "HTMLModel",
            "placeholder": "​",
            "_view_module": "@jupyter-widgets/controls",
            "_model_module_version": "1.5.0",
            "value": " 639M/639M [00:18&lt;00:00, 11.2MB/s]",
            "_view_count": null,
            "_view_module_version": "1.5.0",
            "description_tooltip": null,
            "_model_module": "@jupyter-widgets/controls",
            "layout": "IPY_MODEL_2ef808cdadb5422aa2c7f71fbe85a92b"
          }
        },
        "4328bc372880477f8e25d6e887b425f0": {
          "model_module": "@jupyter-widgets/controls",
          "model_name": "DescriptionStyleModel",
          "model_module_version": "1.5.0",
          "state": {
            "_view_name": "StyleView",
            "_model_name": "DescriptionStyleModel",
            "description_width": "",
            "_view_module": "@jupyter-widgets/base",
            "_model_module_version": "1.5.0",
            "_view_count": null,
            "_view_module_version": "1.2.0",
            "_model_module": "@jupyter-widgets/controls"
          }
        },
        "047ef99ad0e94e629850e548c10f3bc6": {
          "model_module": "@jupyter-widgets/base",
          "model_name": "LayoutModel",
          "model_module_version": "1.2.0",
          "state": {
            "_view_name": "LayoutView",
            "grid_template_rows": null,
            "right": null,
            "justify_content": null,
            "_view_module": "@jupyter-widgets/base",
            "overflow": null,
            "_model_module_version": "1.2.0",
            "_view_count": null,
            "flex_flow": null,
            "width": null,
            "min_width": null,
            "border": null,
            "align_items": null,
            "bottom": null,
            "_model_module": "@jupyter-widgets/base",
            "top": null,
            "grid_column": null,
            "overflow_y": null,
            "overflow_x": null,
            "grid_auto_flow": null,
            "grid_area": null,
            "grid_template_columns": null,
            "flex": null,
            "_model_name": "LayoutModel",
            "justify_items": null,
            "grid_row": null,
            "max_height": null,
            "align_content": null,
            "visibility": null,
            "align_self": null,
            "height": null,
            "min_height": null,
            "padding": null,
            "grid_auto_rows": null,
            "grid_gap": null,
            "max_width": null,
            "order": null,
            "_view_module_version": "1.2.0",
            "grid_template_areas": null,
            "object_position": null,
            "object_fit": null,
            "grid_auto_columns": null,
            "margin": null,
            "display": null,
            "left": null
          }
        },
        "692acea78ea64ad8bbf104cedd8fda54": {
          "model_module": "@jupyter-widgets/controls",
          "model_name": "ProgressStyleModel",
          "model_module_version": "1.5.0",
          "state": {
            "_view_name": "StyleView",
            "_model_name": "ProgressStyleModel",
            "description_width": "",
            "_view_module": "@jupyter-widgets/base",
            "_model_module_version": "1.5.0",
            "_view_count": null,
            "_view_module_version": "1.2.0",
            "bar_color": null,
            "_model_module": "@jupyter-widgets/controls"
          }
        },
        "a3c6b25b72d44836964ea37e62313ea7": {
          "model_module": "@jupyter-widgets/base",
          "model_name": "LayoutModel",
          "model_module_version": "1.2.0",
          "state": {
            "_view_name": "LayoutView",
            "grid_template_rows": null,
            "right": null,
            "justify_content": null,
            "_view_module": "@jupyter-widgets/base",
            "overflow": null,
            "_model_module_version": "1.2.0",
            "_view_count": null,
            "flex_flow": null,
            "width": null,
            "min_width": null,
            "border": null,
            "align_items": null,
            "bottom": null,
            "_model_module": "@jupyter-widgets/base",
            "top": null,
            "grid_column": null,
            "overflow_y": null,
            "overflow_x": null,
            "grid_auto_flow": null,
            "grid_area": null,
            "grid_template_columns": null,
            "flex": null,
            "_model_name": "LayoutModel",
            "justify_items": null,
            "grid_row": null,
            "max_height": null,
            "align_content": null,
            "visibility": null,
            "align_self": null,
            "height": null,
            "min_height": null,
            "padding": null,
            "grid_auto_rows": null,
            "grid_gap": null,
            "max_width": null,
            "order": null,
            "_view_module_version": "1.2.0",
            "grid_template_areas": null,
            "object_position": null,
            "object_fit": null,
            "grid_auto_columns": null,
            "margin": null,
            "display": null,
            "left": null
          }
        },
        "48666db8dd704ec4be109615359c6e8d": {
          "model_module": "@jupyter-widgets/controls",
          "model_name": "DescriptionStyleModel",
          "model_module_version": "1.5.0",
          "state": {
            "_view_name": "StyleView",
            "_model_name": "DescriptionStyleModel",
            "description_width": "",
            "_view_module": "@jupyter-widgets/base",
            "_model_module_version": "1.5.0",
            "_view_count": null,
            "_view_module_version": "1.2.0",
            "_model_module": "@jupyter-widgets/controls"
          }
        },
        "2ef808cdadb5422aa2c7f71fbe85a92b": {
          "model_module": "@jupyter-widgets/base",
          "model_name": "LayoutModel",
          "model_module_version": "1.2.0",
          "state": {
            "_view_name": "LayoutView",
            "grid_template_rows": null,
            "right": null,
            "justify_content": null,
            "_view_module": "@jupyter-widgets/base",
            "overflow": null,
            "_model_module_version": "1.2.0",
            "_view_count": null,
            "flex_flow": null,
            "width": null,
            "min_width": null,
            "border": null,
            "align_items": null,
            "bottom": null,
            "_model_module": "@jupyter-widgets/base",
            "top": null,
            "grid_column": null,
            "overflow_y": null,
            "overflow_x": null,
            "grid_auto_flow": null,
            "grid_area": null,
            "grid_template_columns": null,
            "flex": null,
            "_model_name": "LayoutModel",
            "justify_items": null,
            "grid_row": null,
            "max_height": null,
            "align_content": null,
            "visibility": null,
            "align_self": null,
            "height": null,
            "min_height": null,
            "padding": null,
            "grid_auto_rows": null,
            "grid_gap": null,
            "max_width": null,
            "order": null,
            "_view_module_version": "1.2.0",
            "grid_template_areas": null,
            "object_position": null,
            "object_fit": null,
            "grid_auto_columns": null,
            "margin": null,
            "display": null,
            "left": null
          }
        }
      }
    }
  },
  "cells": [
    {
      "cell_type": "markdown",
      "source": [
        "## Okey... Let use some pretrained models for different excercises"
      ],
      "metadata": {
        "id": "w9W4ahjB4UJg"
      }
    },
    {
      "cell_type": "code",
      "source": [
        "#FIRSTLY, WE SETUP PACKAGES\n",
        "\n",
        "from transformers import pipeline, AutoTokenizer, TFAutoModelForSequenceClassification"
      ],
      "metadata": {
        "id": "Eh0h2XJnF0FN"
      },
      "execution_count": 16,
      "outputs": []
    },
    {
      "cell_type": "markdown",
      "source": [
        "## Sentiment Analysis"
      ],
      "metadata": {
        "id": "qMCA458FFqGr"
      }
    },
    {
      "cell_type": "code",
      "execution_count": 17,
      "metadata": {
        "colab": {
          "base_uri": "https://localhost:8080/"
        },
        "id": "pEdejr5R2GAy",
        "outputId": "b6267080-c4e8-4838-e56a-24faf4021254"
      },
      "outputs": [
        {
          "output_type": "execute_result",
          "data": {
            "text/plain": [
              "[{'label': '5 stars', 'score': 0.4837053120136261},\n",
              " {'label': '5 stars', 'score': 0.8546808362007141},\n",
              " {'label': '5 stars', 'score': 0.7413736581802368}]"
            ]
          },
          "metadata": {},
          "execution_count": 17
        }
      ],
      "source": [
        "# Experiment for phrase \"I love you\" in different languages\n",
        "pipe_1 = pipeline('sentiment-analysis',model = \"nlptown/bert-base-multilingual-uncased-sentiment\")\n",
        "pipe_1(['Je tu aime','I love you','Ich liebe dich']) # Ok, for french it has bad results but for english and german it's ok!"
      ]
    },
    {
      "cell_type": "markdown",
      "source": [
        "## Filling masks"
      ],
      "metadata": {
        "id": "33ZVGhwXFceM"
      }
    },
    {
      "cell_type": "code",
      "source": [
        "pipe_2 = pipeline('fill-mask')\n",
        "\n",
        "pipe_3 = pipeline('fill-mask',model = 'camembert-base')\n",
        "\n",
        "pipe_2('I love <mask>')[0],pipe_3('Je <mask> aime')[0]\n"
      ],
      "metadata": {
        "colab": {
          "base_uri": "https://localhost:8080/"
        },
        "id": "X6QUNXjJFN6i",
        "outputId": "5a97f859-4575-4780-fa53-740c8aee3e13"
      },
      "execution_count": 28,
      "outputs": [
        {
          "output_type": "stream",
          "name": "stderr",
          "text": [
            "No model was supplied, defaulted to distilroberta-base (https://huggingface.co/distilroberta-base)\n"
          ]
        },
        {
          "output_type": "execute_result",
          "data": {
            "text/plain": [
              "({'score': 0.03729768097400665,\n",
              "  'sequence': 'I love him',\n",
              "  'token': 123,\n",
              "  'token_str': ' him'},\n",
              " {'score': 0.5958378314971924,\n",
              "  'sequence': 'Je vous aime',\n",
              "  'token': 39,\n",
              "  'token_str': 'vous'})"
            ]
          },
          "metadata": {},
          "execution_count": 28
        }
      ]
    },
    {
      "cell_type": "markdown",
      "source": [
        "## Zero-shot-Classification"
      ],
      "metadata": {
        "id": "noqIUgXsH-iM"
      }
    },
    {
      "cell_type": "code",
      "source": [
        "\n",
        "pipe_4 = pipeline(\"zero-shot-classification\")\n",
        "\n",
        "sequence = 'pour moi, les mathématiques ont beaucoup de pouvoir dans la société'\n",
        "\n",
        "candidate_labels = ['sport','espace','science']\n",
        "\n",
        "pipe_5 = pipeline(\"zero-shot-classification\", model = \"cmarkea/distilcamembert-base-nli\")\n",
        "#Okey, let's compare results from different models\n",
        "#default model = facebook/bart-large-mnli and which find by myself model = distilcamembert-base-nli\n",
        "pipe_4(sequence,candidate_labels),pipe_5(sequence,candidate_labels,hypothesis_template=\"Ce texte parle de {}.\")"
      ],
      "metadata": {
        "colab": {
          "base_uri": "https://localhost:8080/"
        },
        "id": "qqbcqCvIH-tq",
        "outputId": "dcdac6c6-6005-4bd4-ab87-f96d603d42fc"
      },
      "execution_count": 4,
      "outputs": [
        {
          "output_type": "stream",
          "name": "stderr",
          "text": [
            "No model was supplied, defaulted to facebook/bart-large-mnli (https://huggingface.co/facebook/bart-large-mnli)\n",
            "Asking to truncate to max_length but no maximum length is provided and the model has no predefined maximum length. Default to no truncation.\n"
          ]
        },
        {
          "output_type": "execute_result",
          "data": {
            "text/plain": [
              "({'labels': ['science', 'espace', 'sport'],\n",
              "  'scores': [0.9355031847953796, 0.05409245193004608, 0.010404355823993683],\n",
              "  'sequence': 'pour moi, les mathématiques ont beaucoup de pouvoir dans la société'},\n",
              " {'labels': ['espace', 'science', 'sport'],\n",
              "  'scores': [0.42121946811676025, 0.4060155749320984, 0.17276489734649658],\n",
              "  'sequence': 'pour moi, les mathématiques ont beaucoup de pouvoir dans la société'})"
            ]
          },
          "metadata": {},
          "execution_count": 4
        }
      ]
    },
    {
      "cell_type": "markdown",
      "source": [
        ""
      ],
      "metadata": {
        "id": "xwoFfHXKRaiN"
      }
    },
    {
      "cell_type": "markdown",
      "source": [
        "## Okey, here we are working with AutoTokenizer, TFAutoModelForSequenceClassification"
      ],
      "metadata": {
        "id": "_Vm7zrw-J5pc"
      }
    },
    {
      "cell_type": "markdown",
      "source": [
        "For example, we will take model from pipe_1 and watch what is going on, when we use pipeline"
      ],
      "metadata": {
        "id": "bTqrq2BaOevk"
      }
    },
    {
      "cell_type": "code",
      "source": [
        "\n",
        "model_name = \"nlptown/bert-base-multilingual-uncased-sentiment\"\n",
        "model = TFAutoModelForSequenceClassification.from_pretrained(model_name)\n",
        "tokenizer = AutoTokenizer.from_pretrained(model_name)"
      ],
      "metadata": {
        "colab": {
          "base_uri": "https://localhost:8080/",
          "height": 140,
          "referenced_widgets": [
            "7d0c69fb5ea044099bffbf7c1f926e85",
            "861b49a2a646484d99696ffb219f75b2",
            "5ed9a1ce45364932b680d199114125cd",
            "a1648530ff55413185d2dfa9ce9c9bad",
            "05a98f995d99418a8eb0e59940cf4916",
            "4328bc372880477f8e25d6e887b425f0",
            "047ef99ad0e94e629850e548c10f3bc6",
            "692acea78ea64ad8bbf104cedd8fda54",
            "a3c6b25b72d44836964ea37e62313ea7",
            "48666db8dd704ec4be109615359c6e8d",
            "2ef808cdadb5422aa2c7f71fbe85a92b"
          ]
        },
        "id": "wZZHVWCoDtXX",
        "outputId": "ce94671b-f977-4f47-9f56-e380409c515c"
      },
      "execution_count": 5,
      "outputs": [
        {
          "output_type": "display_data",
          "data": {
            "application/vnd.jupyter.widget-view+json": {
              "model_id": "7d0c69fb5ea044099bffbf7c1f926e85",
              "version_minor": 0,
              "version_major": 2
            },
            "text/plain": [
              "Downloading:   0%|          | 0.00/639M [00:00<?, ?B/s]"
            ]
          },
          "metadata": {}
        },
        {
          "output_type": "stream",
          "name": "stderr",
          "text": [
            "All model checkpoint layers were used when initializing TFBertForSequenceClassification.\n",
            "\n",
            "All the layers of TFBertForSequenceClassification were initialized from the model checkpoint at nlptown/bert-base-multilingual-uncased-sentiment.\n",
            "If your task is similar to the task the model of the checkpoint was trained on, you can already use TFBertForSequenceClassification for predictions without further training.\n"
          ]
        }
      ]
    },
    {
      "cell_type": "code",
      "source": [
        "texts = ['Je tu aime','I love you','Ich liebe dich']\n",
        "inputs = tokenizer(texts)\n",
        "inputs"
      ],
      "metadata": {
        "colab": {
          "base_uri": "https://localhost:8080/"
        },
        "id": "1PR0LU9EPzXg",
        "outputId": "c5191bb0-46f6-4de5-e0e1-4791bb31f2cd"
      },
      "execution_count": 8,
      "outputs": [
        {
          "output_type": "execute_result",
          "data": {
            "text/plain": [
              "{'input_ids': [[101, 10149, 10689, 37942, 102], [101, 151, 11157, 10855, 102], [101, 12373, 24941, 19229, 102]], 'token_type_ids': [[0, 0, 0, 0, 0], [0, 0, 0, 0, 0], [0, 0, 0, 0, 0]], 'attention_mask': [[1, 1, 1, 1, 1], [1, 1, 1, 1, 1], [1, 1, 1, 1, 1]]}"
            ]
          },
          "metadata": {},
          "execution_count": 8
        }
      ]
    },
    {
      "cell_type": "code",
      "source": [
        "inputs_with_padding = tokenizer(texts, padding = True, truncation = True, max_length = 256, return_tensors=\"tf\")\n",
        "inputs_with_padding"
      ],
      "metadata": {
        "colab": {
          "base_uri": "https://localhost:8080/"
        },
        "id": "adKdPZeOQT4S",
        "outputId": "2d006c4d-8f11-4f14-e1de-84f2fbb9a63f"
      },
      "execution_count": 9,
      "outputs": [
        {
          "output_type": "execute_result",
          "data": {
            "text/plain": [
              "{'input_ids': <tf.Tensor: shape=(3, 5), dtype=int32, numpy=\n",
              "array([[  101, 10149, 10689, 37942,   102],\n",
              "       [  101,   151, 11157, 10855,   102],\n",
              "       [  101, 12373, 24941, 19229,   102]], dtype=int32)>, 'token_type_ids': <tf.Tensor: shape=(3, 5), dtype=int32, numpy=\n",
              "array([[0, 0, 0, 0, 0],\n",
              "       [0, 0, 0, 0, 0],\n",
              "       [0, 0, 0, 0, 0]], dtype=int32)>, 'attention_mask': <tf.Tensor: shape=(3, 5), dtype=int32, numpy=\n",
              "array([[1, 1, 1, 1, 1],\n",
              "       [1, 1, 1, 1, 1],\n",
              "       [1, 1, 1, 1, 1]], dtype=int32)>}"
            ]
          },
          "metadata": {},
          "execution_count": 9
        }
      ]
    },
    {
      "cell_type": "code",
      "source": [
        "outputs = model(inputs_with_padding)\n",
        "outputs"
      ],
      "metadata": {
        "colab": {
          "base_uri": "https://localhost:8080/"
        },
        "id": "wzAnC4UQQg8W",
        "outputId": "8692a907-6aef-4bd7-af0b-286e14637fc7"
      },
      "execution_count": 10,
      "outputs": [
        {
          "output_type": "execute_result",
          "data": {
            "text/plain": [
              "TFSequenceClassifierOutput([('logits',\n",
              "                             <tf.Tensor: shape=(3, 5), dtype=float32, numpy=\n",
              "                             array([[-2.2876294 , -1.9347584 ,  0.45290372,  1.5439389 ,  1.8068829 ],\n",
              "                                    [-2.0086846 , -2.101042  , -0.6899481 ,  1.0338992 ,  3.0443912 ],\n",
              "                                    [-1.7996992 , -2.0554729 , -0.512829  ,  1.2688576 ,  2.545792  ]],\n",
              "                                   dtype=float32)>)])"
            ]
          },
          "metadata": {},
          "execution_count": 10
        }
      ]
    },
    {
      "cell_type": "code",
      "source": [
        "import tensorflow as tf\n",
        "predictions = tf.nn.softmax(outputs[0], axis=-1)\n",
        "\n",
        "float(predictions[0][4]), float(predictions[1][4]), float(predictions[2][4])"
      ],
      "metadata": {
        "colab": {
          "base_uri": "https://localhost:8080/"
        },
        "id": "NiNrWHV0Q3GN",
        "outputId": "d460fda4-6626-418a-f5b1-90e3e7a5641a"
      },
      "execution_count": 20,
      "outputs": [
        {
          "output_type": "execute_result",
          "data": {
            "text/plain": [
              "(0.4837052524089813, 0.8546808362007141, 0.741373598575592)"
            ]
          },
          "metadata": {},
          "execution_count": 20
        }
      ]
    },
    {
      "cell_type": "markdown",
      "source": [
        "Recall results from pipe_1 and compare it"
      ],
      "metadata": {
        "id": "FEMsRjT3Ryin"
      }
    },
    {
      "cell_type": "code",
      "source": [
        "pipe_1(['Je tu aime','I love you','Ich liebe dich'])"
      ],
      "metadata": {
        "colab": {
          "base_uri": "https://localhost:8080/"
        },
        "id": "oPL1572SRrDv",
        "outputId": "42cd15f2-2df4-44fa-bbfc-afc045771951"
      },
      "execution_count": 19,
      "outputs": [
        {
          "output_type": "execute_result",
          "data": {
            "text/plain": [
              "[{'label': '5 stars', 'score': 0.4837053120136261},\n",
              " {'label': '5 stars', 'score': 0.8546808362007141},\n",
              " {'label': '5 stars', 'score': 0.7413736581802368}]"
            ]
          },
          "metadata": {},
          "execution_count": 19
        }
      ]
    }
  ]
}