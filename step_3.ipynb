{
  "cells": [
    {
      "cell_type": "markdown",
      "id": "coordinate-railway",
      "metadata": {
        "id": "coordinate-railway"
      },
      "source": [
        "# Step 3 - Classification of text data using recurrent neural networks (LSTM)"
      ]
    },
    {
      "cell_type": "code",
      "source": [
        "from google.colab import drive\n",
        "drive.mount(\"/content/gdrive\", force_remount=True)"
      ],
      "metadata": {
        "colab": {
          "base_uri": "https://localhost:8080/"
        },
        "id": "FeOnopwvjkvE",
        "outputId": "bb851570-af2f-4c03-bbd4-d9c510b1df7b"
      },
      "id": "FeOnopwvjkvE",
      "execution_count": null,
      "outputs": [
        {
          "output_type": "stream",
          "name": "stdout",
          "text": [
            "Mounted at /content/gdrive\n"
          ]
        }
      ]
    },
    {
      "cell_type": "code",
      "execution_count": null,
      "id": "insured-eagle",
      "metadata": {
        "id": "insured-eagle"
      },
      "outputs": [],
      "source": [
        "import pandas as pd\n",
        "import numpy as np\n",
        "import tensorflow as tf\n",
        "from tensorflow import keras\n",
        "from tensorflow.keras import layers\n",
        "from keras.callbacks import EarlyStopping\n",
        "import matplotlib.pyplot as plt\n",
        "from sklearn.model_selection import train_test_split"
      ]
    },
    {
      "cell_type": "markdown",
      "id": "collected-connection",
      "metadata": {
        "id": "collected-connection"
      },
      "source": [
        "### Job Type"
      ]
    },
    {
      "cell_type": "code",
      "execution_count": null,
      "id": "controversial-prospect",
      "metadata": {
        "id": "controversial-prospect"
      },
      "outputs": [],
      "source": [
        "def str_to_num_lst(x):\n",
        "    x = x.replace(\"'\", \"\").replace(\"[\", \"\").replace(\"]\", \"\").split(\", \")\n",
        "    return list(map(int, x))"
      ]
    },
    {
      "cell_type": "code",
      "execution_count": null,
      "id": "subject-jewel",
      "metadata": {
        "id": "subject-jewel"
      },
      "outputs": [],
      "source": [
        "# load saved data from step 2 (numerical vectors)\n",
        "\n",
        "train_df = pd.read_csv(\"/content/gdrive/MyDrive/practice_nlp_2022/data/tmp_type_train.csv\")\n",
        "train_df['job_description'] = train_df['job_description'].apply(lambda x: str_to_num_lst(x))\n",
        "X_train = train_df[\"job_description\"]\n",
        "Y_train = train_df[\"y\"]\n",
        "y_train = np.asarray(Y_train).astype(\"float32\")\n",
        "\n",
        "test_df = pd.read_csv(\"/content/gdrive/MyDrive/practice_nlp_2022/data/tmp_type_test.csv\")\n",
        "test_df['job_description'] = test_df['job_description'].apply(lambda x: str_to_num_lst(x))\n",
        "X_test = test_df[\"job_description\"]\n",
        "Y_test = test_df[\"y\"]\n",
        "y_test = np.asarray(Y_test).astype(\"float32\")"
      ]
    },
    {
      "cell_type": "markdown",
      "id": "pursuant-pennsylvania",
      "metadata": {
        "id": "pursuant-pennsylvania"
      },
      "source": [
        "### Train a recurrent neural network"
      ]
    },
    {
      "cell_type": "code",
      "execution_count": null,
      "id": "coated-limitation",
      "metadata": {
        "id": "coated-limitation"
      },
      "outputs": [],
      "source": [
        "max_seq_len = 80\n",
        "\n",
        "x_train = keras.preprocessing.sequence.pad_sequences(X_train, maxlen = max_seq_len)\n",
        "x_test = keras.preprocessing.sequence.pad_sequences(X_test, maxlen = max_seq_len)"
      ]
    },
    {
      "cell_type": "code",
      "execution_count": null,
      "id": "collaborative-drunk",
      "metadata": {
        "id": "collaborative-drunk"
      },
      "outputs": [],
      "source": [
        "emb_dim = 128\n",
        "max_features = 20000\n",
        "\n",
        "model_type = keras.Sequential()\n",
        "model_type.add(layers.Embedding(max_features, emb_dim))\n",
        "model_type.add(layers.LSTM(128))\n",
        "model_type.add(layers.Dense(6, activation = 'softmax'))"
      ]
    },
    {
      "cell_type": "code",
      "execution_count": null,
      "id": "absolute-idaho",
      "metadata": {
        "scrolled": true,
        "colab": {
          "base_uri": "https://localhost:8080/"
        },
        "id": "absolute-idaho",
        "outputId": "8d08fc8e-fd4c-43d5-fd4e-c44a051149c3"
      },
      "outputs": [
        {
          "output_type": "stream",
          "name": "stdout",
          "text": [
            "Epoch 1/10\n",
            "45/45 - 4s - loss: 0.6682 - accuracy: 0.8819 - val_loss: 0.4370 - val_accuracy: 0.8949 - 4s/epoch - 91ms/step\n",
            "Epoch 2/10\n",
            "45/45 - 1s - loss: 0.4113 - accuracy: 0.8942 - val_loss: 0.4078 - val_accuracy: 0.8949 - 1s/epoch - 29ms/step\n",
            "Epoch 3/10\n",
            "45/45 - 1s - loss: 0.3370 - accuracy: 0.8933 - val_loss: 0.2873 - val_accuracy: 0.8924 - 1s/epoch - 29ms/step\n",
            "Epoch 4/10\n",
            "45/45 - 1s - loss: 0.2200 - accuracy: 0.9264 - val_loss: 0.1771 - val_accuracy: 0.9462 - 1s/epoch - 29ms/step\n",
            "Epoch 5/10\n",
            "45/45 - 1s - loss: 0.1372 - accuracy: 0.9525 - val_loss: 0.2123 - val_accuracy: 0.9388 - 1s/epoch - 29ms/step\n",
            "Epoch 6/10\n",
            "45/45 - 1s - loss: 0.1180 - accuracy: 0.9668 - val_loss: 0.1550 - val_accuracy: 0.9543 - 1s/epoch - 31ms/step\n",
            "Epoch 7/10\n",
            "45/45 - 1s - loss: 0.0827 - accuracy: 0.9768 - val_loss: 0.0985 - val_accuracy: 0.9713 - 1s/epoch - 30ms/step\n",
            "Epoch 8/10\n",
            "45/45 - 1s - loss: 0.0674 - accuracy: 0.9804 - val_loss: 0.0947 - val_accuracy: 0.9738 - 1s/epoch - 29ms/step\n",
            "Epoch 9/10\n",
            "45/45 - 1s - loss: 0.0573 - accuracy: 0.9819 - val_loss: 0.0996 - val_accuracy: 0.9749 - 1s/epoch - 29ms/step\n",
            "Epoch 10/10\n",
            "45/45 - 1s - loss: 0.0525 - accuracy: 0.9835 - val_loss: 0.0883 - val_accuracy: 0.9745 - 1s/epoch - 29ms/step\n"
          ]
        }
      ],
      "source": [
        "model_type.compile(\n",
        "    optimizer = \"adam\",\n",
        "    loss = \"sparse_categorical_crossentropy\",\n",
        "    metrics = [\"accuracy\"]\n",
        ")\n",
        "\n",
        "# Stop training when a monitored metric has stopped improving.\n",
        "my_callbacks = [tf.keras.callbacks.EarlyStopping(patience=2)] \n",
        "\n",
        "history = model_type.fit(\n",
        "    x_train,\n",
        "    y_train,\n",
        "    epochs = 10,\n",
        "    batch_size = 256,\n",
        "    validation_split = 0.2,\n",
        "    shuffle = True,\n",
        "    verbose = 2,\n",
        "    callbacks = my_callbacks\n",
        ")"
      ]
    },
    {
      "cell_type": "code",
      "execution_count": null,
      "id": "upset-duplicate",
      "metadata": {
        "colab": {
          "base_uri": "https://localhost:8080/"
        },
        "id": "upset-duplicate",
        "outputId": "1cac4a23-6b06-4d18-94ba-7a63788c6fc0"
      },
      "outputs": [
        {
          "output_type": "stream",
          "name": "stdout",
          "text": [
            "Model: \"sequential_1\"\n",
            "_________________________________________________________________\n",
            " Layer (type)                Output Shape              Param #   \n",
            "=================================================================\n",
            " embedding_1 (Embedding)     (None, None, 128)         2560000   \n",
            "                                                                 \n",
            " lstm_1 (LSTM)               (None, 128)               131584    \n",
            "                                                                 \n",
            " dense_1 (Dense)             (None, 6)                 774       \n",
            "                                                                 \n",
            "=================================================================\n",
            "Total params: 2,692,358\n",
            "Trainable params: 2,692,358\n",
            "Non-trainable params: 0\n",
            "_________________________________________________________________\n",
            "None\n"
          ]
        }
      ],
      "source": [
        "print(model_type.summary())"
      ]
    },
    {
      "cell_type": "code",
      "source": [
        "def loss_plot(history):\n",
        "    history_dict = history.history\n",
        "    loss_values = history_dict[\"loss\"]\n",
        "    val_loss_values = history_dict[\"val_loss\"]\n",
        "    epochs = range(1, len(loss_values) + 1)\n",
        "    plt.plot(epochs, loss_values, \"bo\", label=\"Training loss\")\n",
        "    plt.plot(epochs, val_loss_values, \"b\", label=\"Validation loss\")\n",
        "    plt.title(\"Training and validation loss\")\n",
        "    plt.xlabel(\"Epochs\")\n",
        "    plt.ylabel(\"Loss\")\n",
        "    plt.legend()\n",
        "    plt.show()"
      ],
      "metadata": {
        "id": "qdu0wdnEg8NO"
      },
      "id": "qdu0wdnEg8NO",
      "execution_count": null,
      "outputs": []
    },
    {
      "cell_type": "code",
      "source": [
        "loss_plot(history)"
      ],
      "metadata": {
        "colab": {
          "base_uri": "https://localhost:8080/",
          "height": 295
        },
        "id": "8_gvkFLOoRzg",
        "outputId": "5db8a20d-d775-48b1-d087-42db5e3cc33b"
      },
      "id": "8_gvkFLOoRzg",
      "execution_count": null,
      "outputs": [
        {
          "output_type": "display_data",
          "data": {
            "image/png": "[encoded data removed]",
            "text/plain": [
              "<Figure size 432x288 with 1 Axes>"
            ]
          },
          "metadata": {
            "needs_background": "light"
          }
        }
      ]
    },
    {
      "cell_type": "code",
      "execution_count": null,
      "id": "responsible-compilation",
      "metadata": {
        "colab": {
          "base_uri": "https://localhost:8080/"
        },
        "id": "responsible-compilation",
        "outputId": "11520fd3-b189-480f-afff-138a7e0ddbd6"
      },
      "outputs": [
        {
          "output_type": "stream",
          "name": "stdout",
          "text": [
            "Test score: 0.08935113251209259\n",
            "Test accuracy: 0.9736692905426025\n"
          ]
        }
      ],
      "source": [
        "score = model_type.evaluate(x_test, y_test, verbose=0) \n",
        "print('Test score:', score[0]) \n",
        "print('Test accuracy:', score[1])"
      ]
    },
    {
      "cell_type": "markdown",
      "id": "wired-naples",
      "metadata": {
        "id": "wired-naples"
      },
      "source": [
        "### Job Category"
      ]
    },
    {
      "cell_type": "code",
      "execution_count": null,
      "id": "likely-trail",
      "metadata": {
        "id": "likely-trail"
      },
      "outputs": [],
      "source": [
        "train_df = pd.read_csv(\"/content/gdrive/MyDrive/practice_nlp_2022/data/tmp_category_train.csv\")\n",
        "train_df['job_description'] = train_df['job_description'].apply(lambda x: str_to_num_lst(x))\n",
        "X_train = train_df[\"job_description\"]\n",
        "Y_train = train_df[\"y\"]\n",
        "y_train = np.asarray(Y_train).astype(\"float32\")\n",
        "\n",
        "test_df = pd.read_csv(\"/content/gdrive/MyDrive/practice_nlp_2022/data/tmp_category_test.csv\")\n",
        "test_df['job_description'] = test_df['job_description'].apply(lambda x: str_to_num_lst(x))\n",
        "X_test = test_df[\"job_description\"]\n",
        "Y_test = test_df[\"y\"]\n",
        "y_test = np.asarray(Y_test).astype(\"float32\")"
      ]
    },
    {
      "cell_type": "code",
      "execution_count": null,
      "id": "enormous-tender",
      "metadata": {
        "id": "enormous-tender"
      },
      "outputs": [],
      "source": [
        "max_seq_len = 80\n",
        "\n",
        "x_train = keras.preprocessing.sequence.pad_sequences(X_train, maxlen = max_seq_len)\n",
        "x_test = keras.preprocessing.sequence.pad_sequences(X_test, maxlen = max_seq_len)"
      ]
    },
    {
      "cell_type": "code",
      "execution_count": null,
      "id": "arbitrary-president",
      "metadata": {
        "id": "arbitrary-president"
      },
      "outputs": [],
      "source": [
        "emb_dim = 128\n",
        "max_features = 20000\n",
        "\n",
        "model_category = keras.Sequential()\n",
        "model_category.add(layers.Embedding(max_features, emb_dim))\n",
        "model_category.add(layers.LSTM(128))\n",
        "model_category.add(layers.Dense(11, activation = 'softmax'))"
      ]
    },
    {
      "cell_type": "code",
      "execution_count": null,
      "id": "seasonal-insert",
      "metadata": {
        "scrolled": false,
        "colab": {
          "base_uri": "https://localhost:8080/"
        },
        "id": "seasonal-insert",
        "outputId": "1e7da0f0-078e-4156-dc67-0067c54d5406"
      },
      "outputs": [
        {
          "output_type": "stream",
          "name": "stdout",
          "text": [
            "Epoch 1/10\n",
            "89/89 - 5s - loss: 1.8732 - accuracy: 0.3383 - val_loss: 1.6472 - val_accuracy: 0.3961 - 5s/epoch - 54ms/step\n",
            "Epoch 2/10\n",
            "89/89 - 2s - loss: 1.5233 - accuracy: 0.4321 - val_loss: 1.4526 - val_accuracy: 0.4623 - 2s/epoch - 23ms/step\n",
            "Epoch 3/10\n",
            "89/89 - 2s - loss: 1.3282 - accuracy: 0.4988 - val_loss: 1.3245 - val_accuracy: 0.5083 - 2s/epoch - 24ms/step\n",
            "Epoch 4/10\n",
            "89/89 - 2s - loss: 1.1753 - accuracy: 0.5527 - val_loss: 1.2584 - val_accuracy: 0.5278 - 2s/epoch - 23ms/step\n",
            "Epoch 5/10\n",
            "89/89 - 2s - loss: 1.0807 - accuracy: 0.5816 - val_loss: 1.3013 - val_accuracy: 0.5168 - 2s/epoch - 23ms/step\n",
            "Epoch 6/10\n",
            "89/89 - 2s - loss: 1.0088 - accuracy: 0.6041 - val_loss: 1.1942 - val_accuracy: 0.5533 - 2s/epoch - 24ms/step\n",
            "Epoch 7/10\n",
            "89/89 - 2s - loss: 0.9556 - accuracy: 0.6174 - val_loss: 1.1849 - val_accuracy: 0.5543 - 2s/epoch - 23ms/step\n",
            "Epoch 8/10\n",
            "89/89 - 2s - loss: 0.9095 - accuracy: 0.6306 - val_loss: 1.1815 - val_accuracy: 0.5558 - 2s/epoch - 23ms/step\n",
            "Epoch 9/10\n",
            "89/89 - 2s - loss: 0.8972 - accuracy: 0.6310 - val_loss: 1.2203 - val_accuracy: 0.5434 - 2s/epoch - 23ms/step\n",
            "Epoch 10/10\n",
            "89/89 - 2s - loss: 0.8541 - accuracy: 0.6450 - val_loss: 1.1716 - val_accuracy: 0.5526 - 2s/epoch - 23ms/step\n"
          ]
        }
      ],
      "source": [
        "model_category.compile(\n",
        "    optimizer = \"adam\",\n",
        "    loss = \"sparse_categorical_crossentropy\",\n",
        "    metrics = [\"accuracy\"]\n",
        ")\n",
        "\n",
        "my_callbacks = [tf.keras.callbacks.EarlyStopping(patience=2)]\n",
        "\n",
        "history = model_category.fit(\n",
        "    x_train,\n",
        "    y_train,\n",
        "    epochs = 10,\n",
        "    batch_size = 128,\n",
        "    validation_split = 0.2,\n",
        "    shuffle = True,\n",
        "    verbose = 2,\n",
        "    callbacks = my_callbacks\n",
        ")"
      ]
    },
    {
      "cell_type": "code",
      "execution_count": null,
      "id": "outdoor-action",
      "metadata": {
        "colab": {
          "base_uri": "https://localhost:8080/"
        },
        "id": "outdoor-action",
        "outputId": "0add046e-2ff8-4ce2-ffa1-57460cfa1c5f"
      },
      "outputs": [
        {
          "output_type": "stream",
          "name": "stdout",
          "text": [
            "Model: \"sequential_3\"\n",
            "_________________________________________________________________\n",
            " Layer (type)                Output Shape              Param #   \n",
            "=================================================================\n",
            " embedding_3 (Embedding)     (None, None, 128)         2560000   \n",
            "                                                                 \n",
            " lstm_3 (LSTM)               (None, 128)               131584    \n",
            "                                                                 \n",
            " dense_3 (Dense)             (None, 11)                1419      \n",
            "                                                                 \n",
            "=================================================================\n",
            "Total params: 2,693,003\n",
            "Trainable params: 2,693,003\n",
            "Non-trainable params: 0\n",
            "_________________________________________________________________\n",
            "None\n"
          ]
        }
      ],
      "source": [
        "print(model_category.summary())"
      ]
    },
    {
      "cell_type": "code",
      "source": [
        "loss_plot(history)"
      ],
      "metadata": {
        "colab": {
          "base_uri": "https://localhost:8080/",
          "height": 295
        },
        "id": "OnQO-IzUpPMY",
        "outputId": "3a3d7e32-823b-467b-d990-32ec616f156a"
      },
      "id": "OnQO-IzUpPMY",
      "execution_count": null,
      "outputs": [
        {
          "output_type": "display_data",
          "data": {
            "image/png": "[encoded data removed]",
            "text/plain": [
              "<Figure size 432x288 with 1 Axes>"
            ]
          },
          "metadata": {
            "needs_background": "light"
          }
        }
      ]
    },
    {
      "cell_type": "code",
      "execution_count": null,
      "id": "tracked-health",
      "metadata": {
        "colab": {
          "base_uri": "https://localhost:8080/"
        },
        "id": "tracked-health",
        "outputId": "3d5b8c67-9883-4e64-89bb-5e62b9c57e53"
      },
      "outputs": [
        {
          "output_type": "stream",
          "name": "stdout",
          "text": [
            "Test score: 1.139417052268982\n",
            "Test accuracy: 0.5549263954162598\n"
          ]
        }
      ],
      "source": [
        "score = model_category.evaluate(x_test, y_test, verbose=0) \n",
        "print('Test score:', score[0]) \n",
        "print('Test accuracy:', score[1])"
      ]
    }
  ],
  "metadata": {
    "kernelspec": {
      "display_name": "Python 3",
      "language": "python",
      "name": "python3"
    },
    "language_info": {
      "codemirror_mode": {
        "name": "ipython",
        "version": 3
      },
      "file_extension": ".py",
      "mimetype": "text/x-python",
      "name": "python",
      "nbconvert_exporter": "python",
      "pygments_lexer": "ipython3",
      "version": "3.8.10"
    },
    "colab": {
      "name": "step_3.ipynb",
      "provenance": [],
      "collapsed_sections": []
    },
    "accelerator": "GPU"
  },
  "nbformat": 4,
  "nbformat_minor": 5
}